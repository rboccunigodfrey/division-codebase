{
 "cells": [
  {
   "cell_type": "code",
   "execution_count": 2,
   "metadata": {
    "collapsed": true,
    "ExecuteTime": {
     "start_time": "2023-05-04T05:21:13.836906Z",
     "end_time": "2023-05-04T05:21:14.176806Z"
    }
   },
   "outputs": [],
   "source": [
    "import random\n",
    "import numpy as np\n",
    "from enum import Enum\n",
    "from sklearn.ensemble import RandomForestRegressor\n",
    "\n",
    "\n",
    "NOTES = [\"C\", \"C#\", \"D\", \"D#\", \"E\", \"F\", \"F#\", \"G\", \"G#\", \"A\", \"A#\", \"B\"]\n",
    "\n",
    "\n",
    "class Scales(Enum):\n",
    "    IONIAN = 0\n",
    "    DORIAN = 2\n",
    "    PHRYGIAN = 4\n",
    "    LYDIAN = 5\n",
    "    MIXOLYDIAN = 7\n",
    "    AEOLIAN = 9\n",
    "    LOCRIAN = 11\n",
    "\n",
    "\n",
    "PATTERNS_C_IONIAN = [\n",
    "    [[0, 1, 3], [0, 2, 3], [0, 2, 3], [0, 2, 4], [0, 1, 3], [0, 1, 3]],\n",
    "    [[0, 2, 4], [1, 2, 4], [1, 2, 4], [1, 3, 4], [0, 2, 4], [0, 2, 4]],\n",
    "    [[1, 3], [0, 1, 3], [0, 1, 3], [0, 2, 3], [1, 3, 4], [1, 3]],\n",
    "    [[0, 2, 4], [0, 2, 4], [0, 2, 4], [1, 2, 4], [0, 2, 3], [0, 2, 4]],\n",
    "    [[1, 3, 4], [1, 3, 4], [1, 3], [0, 1, 3], [2, 3, 4], [1, 3, 4]],\n",
    "    [[0, 2, 3], [0, 2, 3], [0, 2, 4], [0, 2, 4], [0, 1, 3], [0, 2, 3]],\n",
    "    [[1, 2, 4], [1, 2, 4], [1, 3, 4], [1, 3, 4], [0, 2, 4], [1, 2, 4]],\n",
    "    [[0, 1, 3], [0, 1, 3], [0, 2, 3], [0, 2, 3], [1, 3], [0, 1, 3]],\n",
    "    [[0, 2, 4], [0, 2, 4], [1, 2, 4], [1, 2, 4], [0, 2, 4], [0, 2, 4]],\n",
    "    [[1, 3, 4], [1, 3], [0, 1, 3], [0, 1, 3], [1, 3, 4], [1, 3, 4]],\n",
    "    [[0, 2, 3], [0, 2, 4], [0, 2, 4], [0, 2, 4], [0, 2, 3], [0, 2, 3]],\n",
    "    [[1, 2, 4], [1, 3, 4], [1, 3, 4], [1, 3], [1, 2, 4], [1, 2, 4]]]"
   ]
  },
  {
   "cell_type": "code",
   "execution_count": 3,
   "outputs": [],
   "source": [
    "def get_pattern(key, scale=Scales.IONIAN):\n",
    "    to_index = (len(NOTES) - NOTES.index(key)) + scale.value\n",
    "    if to_index >= len(PATTERNS_C_IONIAN):\n",
    "        to_index = to_index - len(PATTERNS_C_IONIAN)\n",
    "\n",
    "    return PATTERNS_C_IONIAN[to_index:] + PATTERNS_C_IONIAN[:to_index]"
   ],
   "metadata": {
    "collapsed": false,
    "ExecuteTime": {
     "start_time": "2023-05-04T05:21:14.949240Z",
     "end_time": "2023-05-04T05:21:14.955048Z"
    }
   }
  },
  {
   "cell_type": "code",
   "execution_count": 4,
   "outputs": [],
   "source": [
    "def generate_chord(pattern=None, key=\"C\", scale=Scales.IONIAN, position=0, include_position=False, note_count=3):\n",
    "    # Generate a random chord\n",
    "    if pattern is None:\n",
    "        pattern = get_pattern(key, scale=scale)\n",
    "    chord = []\n",
    "    chosen_strings = random.sample(range(6), note_count)\n",
    "    for i in range(6):\n",
    "        if i in chosen_strings:\n",
    "            chord.append(random.choice(pattern[position][i]) + include_position * position)\n",
    "        else:\n",
    "            chord.append(-1)\n",
    "    return chord"
   ],
   "metadata": {
    "collapsed": false,
    "ExecuteTime": {
     "start_time": "2023-05-04T05:21:15.740590Z",
     "end_time": "2023-05-04T05:21:15.745506Z"
    }
   }
  },
  {
   "cell_type": "code",
   "execution_count": 5,
   "outputs": [],
   "source": [
    "def generate_note(pattern=None, key=\"C\", scale=Scales.IONIAN, position=0, include_position=False):\n",
    "    generate_chord(pattern=pattern, key=key, scale=scale, position=position, include_position=include_position,\n",
    "                   note_count=1)"
   ],
   "metadata": {
    "collapsed": false,
    "ExecuteTime": {
     "start_time": "2023-05-04T05:21:16.269249Z",
     "end_time": "2023-05-04T05:21:16.273837Z"
    }
   }
  },
  {
   "cell_type": "code",
   "execution_count": 6,
   "outputs": [
    {
     "data": {
      "text/plain": "[[[1, 3], [0, 1, 3], [0, 1, 3], [0, 2, 3], [1, 3, 4], [1, 3]],\n [[0, 2, 4], [0, 2, 4], [0, 2, 4], [1, 2, 4], [0, 2, 3], [0, 2, 4]],\n [[1, 3, 4], [1, 3, 4], [1, 3], [0, 1, 3], [2, 3, 4], [1, 3, 4]],\n [[0, 2, 3], [0, 2, 3], [0, 2, 4], [0, 2, 4], [0, 1, 3], [0, 2, 3]],\n [[1, 2, 4], [1, 2, 4], [1, 3, 4], [1, 3, 4], [0, 2, 4], [1, 2, 4]],\n [[0, 1, 3], [0, 1, 3], [0, 2, 3], [0, 2, 3], [1, 3], [0, 1, 3]],\n [[0, 2, 4], [0, 2, 4], [1, 2, 4], [1, 2, 4], [0, 2, 4], [0, 2, 4]],\n [[1, 3, 4], [1, 3], [0, 1, 3], [0, 1, 3], [1, 3, 4], [1, 3, 4]],\n [[0, 2, 3], [0, 2, 4], [0, 2, 4], [0, 2, 4], [0, 2, 3], [0, 2, 3]],\n [[1, 2, 4], [1, 3, 4], [1, 3, 4], [1, 3], [1, 2, 4], [1, 2, 4]],\n [[0, 1, 3], [0, 2, 3], [0, 2, 3], [0, 2, 4], [0, 1, 3], [0, 1, 3]],\n [[0, 2, 4], [1, 2, 4], [1, 2, 4], [1, 3, 4], [0, 2, 4], [0, 2, 4]]]"
     },
     "execution_count": 6,
     "metadata": {},
     "output_type": "execute_result"
    }
   ],
   "source": [
    "get_pattern(\"C\", scale=Scales.DORIAN)"
   ],
   "metadata": {
    "collapsed": false,
    "ExecuteTime": {
     "start_time": "2023-05-04T05:21:17.353271Z",
     "end_time": "2023-05-04T05:21:17.358847Z"
    }
   }
  },
  {
   "cell_type": "code",
   "execution_count": 7,
   "outputs": [
    {
     "data": {
      "text/plain": "[-1, 5, 2, -1, 3, 2]"
     },
     "execution_count": 7,
     "metadata": {},
     "output_type": "execute_result"
    }
   ],
   "source": [
    "generate_chord(\n",
    "    key=\"D\",\n",
    "    scale=Scales.MIXOLYDIAN,\n",
    "    position=random.randrange(0, 5),\n",
    "    include_position=True,\n",
    "    note_count=random.randrange(2, 5))"
   ],
   "metadata": {
    "collapsed": false,
    "ExecuteTime": {
     "start_time": "2023-05-04T05:21:18.079086Z",
     "end_time": "2023-05-04T05:21:18.082693Z"
    }
   }
  },
  {
   "cell_type": "code",
   "execution_count": 8,
   "outputs": [
    {
     "name": "stdout",
     "output_type": "stream",
     "text": [
      "[[[ 0  3  2 -1 -1  1]\n",
      "  [-1 -1 -1  5 -1  1]\n",
      "  [-1  5 -1  5 -1 -1]\n",
      "  ...\n",
      "  [ 1  2 -1 -1 -1  5]\n",
      "  [ 3  5 -1 -1 -1  3]\n",
      "  [ 5  5  3 -1 -1 -1]]\n",
      "\n",
      " [[-1  2  0 -1  3  1]\n",
      "  [-1  5  5  4  5 -1]\n",
      "  [-1 -1 -1  2 -1 -1]\n",
      "  ...\n",
      "  [ 1  2 -1 -1 -1 -1]\n",
      "  [-1 -1 -1  2 -1 -1]\n",
      "  [-1 -1  7  7 -1 -1]]\n",
      "\n",
      " [[-1  0  2 -1 -1  3]\n",
      "  [-1 -1  2 -1 -1 -1]\n",
      "  [-1  2  3 -1 -1 -1]\n",
      "  ...\n",
      "  [-1 -1  5  4 -1 -1]\n",
      "  [-1  2 -1 -1 -1  5]\n",
      "  [ 3 -1 -1  5  3 -1]]\n",
      "\n",
      " ...\n",
      "\n",
      " [[ 0  3 -1 -1 -1 -1]\n",
      "  [ 1 -1  3 -1  3 -1]\n",
      "  [-1 -1 -1  2 -1 -1]\n",
      "  ...\n",
      "  [-1 -1 -1 -1  3  3]\n",
      "  [-1 -1 -1  4 -1  5]\n",
      "  [ 7 -1  7 -1  5  3]]\n",
      "\n",
      " [[-1  0  3  2 -1 -1]\n",
      "  [-1 -1 -1 -1  5 -1]\n",
      "  [-1  3 -1  2  3 -1]\n",
      "  ...\n",
      "  [ 3 -1  3  2  3 -1]\n",
      "  [ 3  2 -1  4 -1 -1]\n",
      "  [ 7 -1 -1 -1 -1 -1]]\n",
      "\n",
      " [[-1 -1 -1 -1  0  1]\n",
      "  [ 1 -1 -1  5  5  5]\n",
      "  [ 5 -1 -1  5 -1 -1]\n",
      "  ...\n",
      "  [-1  5 -1 -1 -1 -1]\n",
      "  [ 5 -1 -1 -1 -1 -1]\n",
      "  [ 7 -1  7  4 -1  3]]]\n",
      "[['000001000100000011000000000000000010'\n",
      "  '000000000000000000000110000000000010'\n",
      "  '000000000110000000000110000000000000' ...\n",
      "  '000010000011000000000000000000000110'\n",
      "  '000100000110000000000000000000000100'\n",
      "  '000110000110000100000000000000000000']\n",
      " ['000000000011000001000000000100000010'\n",
      "  '000000000110000110000101000110000000'\n",
      "  '000000000000000000000011000000000000' ...\n",
      "  '000010000011000000000000000000000000'\n",
      "  '000000000000000000000011000000000000'\n",
      "  '000000000000001000001000000000000000']\n",
      " ['000000000001000011000000000000000100'\n",
      "  '000000000000000011000000000000000000'\n",
      "  '000000000011000100000000000000000000' ...\n",
      "  '000000000000000110000101000000000000'\n",
      "  '000000000011000000000000000000000110'\n",
      "  '000100000000000000000110000100000000']\n",
      " ...\n",
      " ['000001000100000000000000000000000000'\n",
      "  '000010000000000100000000000100000000'\n",
      "  '000000000000000000000011000000000000' ...\n",
      "  '000000000000000000000000000100000100'\n",
      "  '000000000000000000000101000000000110'\n",
      "  '001000000000001000000000000110000100']\n",
      " ['000000000001000100000011000000000000'\n",
      "  '000000000000000000000000000110000000'\n",
      "  '000000000100000000000011000100000000' ...\n",
      "  '000100000000000100000011000100000000'\n",
      "  '000100000011000000000101000000000000'\n",
      "  '001000000000000000000000000000000000']\n",
      " ['000000000000000000000000000001000010'\n",
      "  '000010000000000000000110000110000110'\n",
      "  '000110000000000000000110000000000000' ...\n",
      "  '000000000110000000000000000000000000'\n",
      "  '000110000000000000000000000000000000'\n",
      "  '001000000000001000000101000000000100']]\n",
      "[[0.25  0.25  0.375 ... 0.125 0.5   0.75 ]\n",
      " [0.125 0.125 0.25  ... 0.5   0.625 0.125]\n",
      " [0.25  0.75  0.625 ... 0.25  0.375 0.875]\n",
      " ...\n",
      " [0.375 0.875 1.    ... 1.    0.125 0.375]\n",
      " [0.375 0.125 0.875 ... 0.25  0.5   1.   ]\n",
      " [0.25  0.25  0.75  ... 0.125 0.625 0.375]]\n",
      "[[ 91  70  67 ...  58  50  57]\n",
      " [ 63  57  94 ... 122  76 108]\n",
      " [ 60 107 101 ... 114  66 119]\n",
      " ...\n",
      " [ 75  89 119 ...  54 121  96]\n",
      " [ 78  77  86 ... 100  54  76]\n",
      " [ 86 114  91 ... 113  60 119]]\n",
      "[['000001000000000000000101000010000010'\n",
      "  '000010000100000110000011000000000000'\n",
      "  '000000000000000000000000000000000110' ...\n",
      "  '000000000000000011000000000000000110'\n",
      "  '000000000000000100000000000000000110'\n",
      "  '001000000000000000000000000000000110']\n",
      " ['000000000001000000000001000010000000'\n",
      "  '000000000000000011000000000100000000'\n",
      "  '000000000000000000000101000000000000' ...\n",
      "  '000010000011000110000000000000000100'\n",
      "  '000110000000000000000101000000000100'\n",
      "  '000000000000001000000101000110001000']\n",
      " ['000000000000000100000000000010000000'\n",
      "  '000000000000000000000101000000000000'\n",
      "  '000000000000000000000000000100000000' ...\n",
      "  '000000000000000000000011000000000110'\n",
      "  '000000000000000000000000000000000110'\n",
      "  '000110000110000000000000000000000000']\n",
      " ...\n",
      " ['000000000001000001000000000000000000'\n",
      "  '000000000110000000000000000000000000'\n",
      "  '000000000011000000000110000111000110' ...\n",
      "  '000010000000000110000000000110000010'\n",
      "  '000110000100000110000101000000000000'\n",
      "  '001000001000000110000110000000000000']\n",
      " ['000000000001000000000011000010000001'\n",
      "  '000000000110000000000000000000000000'\n",
      "  '000000000000000000000110000111000110' ...\n",
      "  '000000000000000000000101000000000000'\n",
      "  '000100000000000000000000000000000000'\n",
      "  '000000000000000100000110000000000000']\n",
      " ['000000000011000000000000000000000001'\n",
      "  '000000000000000110000011000000000000'\n",
      "  '000110000000000000000000000000000000' ...\n",
      "  '000110000100000000000000000100000010'\n",
      "  '000000000000000000000101000000000000'\n",
      "  '000000000110000000000000000000000100']]\n",
      "[[0.5   0.5   0.5   ... 0.5   0.5   0.375]\n",
      " [0.5   0.5   0.5   ... 0.5   0.5   0.5  ]\n",
      " [0.5   0.5   0.375 ... 0.5   0.5   0.5  ]\n",
      " ...\n",
      " [0.375 0.5   0.5   ... 0.375 0.375 0.5  ]\n",
      " [0.5   0.5   0.5   ... 0.375 0.5   0.375]\n",
      " [0.5   0.625 0.5   ... 0.5   0.5   0.375]]\n",
      "[[91. 79. 84. ... 88. 89. 85.]\n",
      " [83. 84. 84. ... 89. 88. 87.]\n",
      " [88. 83. 86. ... 91. 89. 90.]\n",
      " ...\n",
      " [84. 81. 85. ... 94. 89. 84.]\n",
      " [89. 87. 85. ... 91. 94. 91.]\n",
      " [91. 82. 91. ... 88. 82. 77.]]\n"
     ]
    }
   ],
   "source": [
    "POPULATION = 100\n",
    "NOTES_PER = 100\n",
    "\n",
    "\n",
    "def post_process_duration(y_pred):\n",
    "    # Round duration to the nearest multiple of 0.125\n",
    "    y_pred[:] = np.round(y_pred[:] / 0.125) * 0.125\n",
    "\n",
    "    return y_pred\n",
    "\n",
    "\n",
    "def post_process_velocity(y_pred):\n",
    "    # Clip velocity to the range 1-127\n",
    "    y_pred[:] = np.clip(np.round(y_pred[:]), 1, 127)\n",
    "\n",
    "    return y_pred\n",
    "\n",
    "\n",
    "def preprocess_input(x):\n",
    "    # Convert chords to binary\n",
    "    x = np.array([[''.join([bin(x)[2:].zfill(6) for x in row]) for row in level] for level in (x + 1)])\n",
    "\n",
    "    return x\n",
    "\n",
    "\n",
    "# toy dataset\n",
    "# chordsX = [[chord, position]...]\n",
    "# chordsY = [[duration, velocity]...]\n",
    "rand_chords_x = np.array([[generate_chord(position=i % 12, note_count=(random.randrange(1, 5)), include_position=True) for i in range(NOTES_PER)] for _ in range(POPULATION)])\n",
    "print(rand_chords_x)\n",
    "\n",
    "rand_chords_x_flat = preprocess_input(rand_chords_x)\n",
    "print(rand_chords_x_flat)\n",
    "\n",
    "rand_durations = np.array(\n",
    "    [[round(random.random() / 0.125) * 0.125 for _ in range(NOTES_PER)] for _ in range(POPULATION)])\n",
    "rand_velocities = np.array([[random.randrange(50, 127) for _ in range(NOTES_PER)] for _ in range(POPULATION)])\n",
    "# chordsYFlat = np.reshape(chordsY, (12, 20))\n",
    "print(rand_durations)\n",
    "print(rand_velocities)\n",
    "\n",
    "durRegr = RandomForestRegressor(n_estimators=100)\n",
    "durRegr.fit(rand_chords_x_flat, rand_durations)\n",
    "velRegr = RandomForestRegressor(n_estimators=100)\n",
    "velRegr.fit(rand_chords_x_flat, rand_velocities)\n",
    "\n",
    "X_test = np.array([[generate_chord(position=i % 12, note_count=(random.randrange(1, 5)), include_position=True) for i in\n",
    "                    range(NOTES_PER)] for _ in range(POPULATION)])\n",
    "print(preprocess_input(X_test))\n",
    "print(post_process_duration(durRegr.predict(preprocess_input(X_test))))\n",
    "print(post_process_velocity(velRegr.predict(preprocess_input(X_test))))"
   ],
   "metadata": {
    "collapsed": false,
    "ExecuteTime": {
     "start_time": "2023-05-04T05:21:19.361612Z",
     "end_time": "2023-05-04T05:21:22.533875Z"
    }
   }
  },
  {
   "cell_type": "code",
   "execution_count": null,
   "outputs": [],
   "source": [],
   "metadata": {
    "collapsed": false
   }
  }
 ],
 "metadata": {
  "kernelspec": {
   "display_name": "Python 3",
   "language": "python",
   "name": "python3"
  },
  "language_info": {
   "codemirror_mode": {
    "name": "ipython",
    "version": 2
   },
   "file_extension": ".py",
   "mimetype": "text/x-python",
   "name": "python",
   "nbconvert_exporter": "python",
   "pygments_lexer": "ipython2",
   "version": "2.7.6"
  }
 },
 "nbformat": 4,
 "nbformat_minor": 0
}
