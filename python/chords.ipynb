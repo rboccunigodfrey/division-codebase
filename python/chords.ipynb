{
 "cells": [
  {
   "cell_type": "code",
   "execution_count": 4,
   "metadata": {
    "collapsed": true,
    "ExecuteTime": {
     "start_time": "2023-05-04T04:06:24.430627Z",
     "end_time": "2023-05-04T04:06:24.440021Z"
    }
   },
   "outputs": [],
   "source": [
    "import random\n",
    "import numpy as np\n",
    "from enum import Enum\n",
    "from sklearn.ensemble import RandomForestRegressor\n",
    "\n",
    "\n",
    "NOTES = [\"C\", \"C#\", \"D\", \"D#\", \"E\", \"F\", \"F#\", \"G\", \"G#\", \"A\", \"A#\", \"B\"]\n",
    "\n",
    "\n",
    "class Scales(Enum):\n",
    "    IONIAN = 0\n",
    "    DORIAN = 2\n",
    "    PHRYGIAN = 4\n",
    "    LYDIAN = 5\n",
    "    MIXOLYDIAN = 7\n",
    "    AEOLIAN = 9\n",
    "    LOCRIAN = 11\n",
    "\n",
    "\n",
    "PATTERNS_C_IONIAN = [\n",
    "    [[0, 1, 3], [0, 2, 3], [0, 2, 3], [0, 2, 4], [0, 1, 3], [0, 1, 3]],\n",
    "    [[0, 2, 4], [1, 2, 4], [1, 2, 4], [1, 3, 4], [0, 2, 4], [0, 2, 4]],\n",
    "    [[1, 3], [0, 1, 3], [0, 1, 3], [0, 2, 3], [1, 3, 4], [1, 3]],\n",
    "    [[0, 2, 4], [0, 2, 4], [0, 2, 4], [1, 2, 4], [0, 2, 3], [0, 2, 4]],\n",
    "    [[1, 3, 4], [1, 3, 4], [1, 3], [0, 1, 3], [2, 3, 4], [1, 3, 4]],\n",
    "    [[0, 2, 3], [0, 2, 3], [0, 2, 4], [0, 2, 4], [0, 1, 3], [0, 2, 3]],\n",
    "    [[1, 2, 4], [1, 2, 4], [1, 3, 4], [1, 3, 4], [0, 2, 4], [1, 2, 4]],\n",
    "    [[0, 1, 3], [0, 1, 3], [0, 2, 3], [0, 2, 3], [1, 3], [0, 1, 3]],\n",
    "    [[0, 2, 4], [0, 2, 4], [1, 2, 4], [1, 2, 4], [0, 2, 4], [0, 2, 4]],\n",
    "    [[1, 3, 4], [1, 3], [0, 1, 3], [0, 1, 3], [1, 3, 4], [1, 3, 4]],\n",
    "    [[0, 2, 3], [0, 2, 4], [0, 2, 4], [0, 2, 4], [0, 2, 3], [0, 2, 3]],\n",
    "    [[1, 2, 4], [1, 3, 4], [1, 3, 4], [1, 3], [1, 2, 4], [1, 2, 4]]]"
   ]
  },
  {
   "cell_type": "code",
   "execution_count": 5,
   "outputs": [],
   "source": [
    "def get_pattern(key, scale=Scales.IONIAN):\n",
    "    to_index = (len(NOTES) - NOTES.index(key)) + scale.value\n",
    "    if to_index >= len(PATTERNS_C_IONIAN):\n",
    "        to_index = to_index - len(PATTERNS_C_IONIAN)\n",
    "\n",
    "    return PATTERNS_C_IONIAN[to_index:] + PATTERNS_C_IONIAN[:to_index]"
   ],
   "metadata": {
    "collapsed": false,
    "ExecuteTime": {
     "start_time": "2023-05-04T04:06:25.487306Z",
     "end_time": "2023-05-04T04:06:25.493181Z"
    }
   }
  },
  {
   "cell_type": "code",
   "execution_count": 6,
   "outputs": [],
   "source": [
    "def generate_chord(pattern=None, key=\"C\", scale=Scales.IONIAN, position=0, include_position=False, note_count=3):\n",
    "    # Generate a random chord\n",
    "    if pattern is None:\n",
    "        pattern = get_pattern(key, scale=scale)\n",
    "    chord = []\n",
    "    chosen_strings = random.sample(range(6), note_count)\n",
    "    for i in range(6):\n",
    "        if i in chosen_strings:\n",
    "            chord.append(random.choice(pattern[position][i]) + include_position * position)\n",
    "        else:\n",
    "            chord.append(-1)\n",
    "    return chord"
   ],
   "metadata": {
    "collapsed": false,
    "ExecuteTime": {
     "start_time": "2023-05-04T04:06:26.221402Z",
     "end_time": "2023-05-04T04:06:26.223166Z"
    }
   }
  },
  {
   "cell_type": "code",
   "execution_count": 7,
   "outputs": [],
   "source": [
    "def generate_note(pattern=None, key=\"C\", scale=Scales.IONIAN, position=0, include_position=False):\n",
    "    generate_chord(pattern=pattern, key=key, scale=scale, position=position, include_position=include_position,\n",
    "                   note_count=1)"
   ],
   "metadata": {
    "collapsed": false,
    "ExecuteTime": {
     "start_time": "2023-05-04T04:06:26.939069Z",
     "end_time": "2023-05-04T04:06:26.942221Z"
    }
   }
  },
  {
   "cell_type": "code",
   "execution_count": 16,
   "outputs": [
    {
     "data": {
      "text/plain": "[[[1, 3], [0, 1, 3], [0, 1, 3], [0, 2, 3], [1, 3, 4], [1, 3]],\n [[0, 2, 4], [0, 2, 4], [0, 2, 4], [1, 2, 4], [0, 2, 3], [0, 2, 4]],\n [[1, 3, 4], [1, 3, 4], [1, 3], [0, 1, 3], [2, 3, 4], [1, 3, 4]],\n [[0, 2, 3], [0, 2, 3], [0, 2, 4], [0, 2, 4], [0, 1, 3], [0, 2, 3]],\n [[1, 2, 4], [1, 2, 4], [1, 3, 4], [1, 3, 4], [0, 2, 4], [1, 2, 4]],\n [[0, 1, 3], [0, 1, 3], [0, 2, 3], [0, 2, 3], [1, 3], [0, 1, 3]],\n [[0, 2, 4], [0, 2, 4], [1, 2, 4], [1, 2, 4], [0, 2, 4], [0, 2, 4]],\n [[1, 3, 4], [1, 3], [0, 1, 3], [0, 1, 3], [1, 3, 4], [1, 3, 4]],\n [[0, 2, 3], [0, 2, 4], [0, 2, 4], [0, 2, 4], [0, 2, 3], [0, 2, 3]],\n [[1, 2, 4], [1, 3, 4], [1, 3, 4], [1, 3], [1, 2, 4], [1, 2, 4]],\n [[0, 1, 3], [0, 2, 3], [0, 2, 3], [0, 2, 4], [0, 1, 3], [0, 1, 3]],\n [[0, 2, 4], [1, 2, 4], [1, 2, 4], [1, 3, 4], [0, 2, 4], [0, 2, 4]]]"
     },
     "execution_count": 16,
     "metadata": {},
     "output_type": "execute_result"
    }
   ],
   "source": [
    "get_pattern(\"C\", scale=Scales.DORIAN)"
   ],
   "metadata": {
    "collapsed": false,
    "ExecuteTime": {
     "start_time": "2023-05-04T04:09:08.327476Z",
     "end_time": "2023-05-04T04:09:08.331408Z"
    }
   }
  },
  {
   "cell_type": "code",
   "execution_count": 23,
   "outputs": [
    {
     "data": {
      "text/plain": "[5, -1, 7, 4, -1, -1]"
     },
     "execution_count": 23,
     "metadata": {},
     "output_type": "execute_result"
    }
   ],
   "source": [
    "generate_chord(\n",
    "    key=\"D\",\n",
    "    scale=Scales.MIXOLYDIAN,\n",
    "    position=random.randrange(0, 5),\n",
    "    include_position=True,\n",
    "    note_count=random.randrange(2, 5))"
   ],
   "metadata": {
    "collapsed": false,
    "ExecuteTime": {
     "start_time": "2023-05-04T04:09:32.238453Z",
     "end_time": "2023-05-04T04:09:32.241517Z"
    }
   }
  },
  {
   "cell_type": "code",
   "execution_count": 3,
   "outputs": [
    {
     "name": "stdout",
     "output_type": "stream",
     "text": [
      "[[[-1  3 -1  2 -1  0]\n",
      "  [ 5  2 -1 -1 -1  5]\n",
      "  [-1  5 -1  2  5  3]\n",
      "  ...\n",
      "  [ 5 -1  3  4 -1  5]\n",
      "  [ 5  2 -1  2 -1  3]\n",
      "  [-1 -1  7 -1  6 -1]]\n",
      "\n",
      " [[ 0  2 -1 -1 -1  0]\n",
      "  [-1  3 -1 -1  1 -1]\n",
      "  [ 3  3 -1 -1  3  5]\n",
      "  ...\n",
      "  [ 5 -1  3  5 -1  1]\n",
      "  [-1  3  3 -1 -1  5]\n",
      "  [ 5  5  7 -1 -1  5]]\n",
      "\n",
      " [[ 1 -1 -1 -1 -1  1]\n",
      "  [-1 -1 -1 -1  3 -1]\n",
      "  [ 5 -1 -1  2  6 -1]\n",
      "  ...\n",
      "  [ 5  3 -1 -1  5  1]\n",
      "  [-1 -1 -1  2 -1  3]\n",
      "  [-1 -1  5  7  5 -1]]\n",
      "\n",
      " ...\n",
      "\n",
      " [[ 1 -1  3  0  0 -1]\n",
      "  [ 1 -1  5  5 -1  5]\n",
      "  [-1  5 -1 -1 -1 -1]\n",
      "  ...\n",
      "  [-1  2  5 -1 -1 -1]\n",
      "  [-1  2  3 -1  6  3]\n",
      "  [-1 -1 -1 -1 -1  3]]\n",
      "\n",
      " [[ 1 -1 -1 -1 -1  3]\n",
      "  [ 1 -1 -1 -1 -1 -1]\n",
      "  [-1 -1 -1 -1  5 -1]\n",
      "  ...\n",
      "  [-1 -1  3  4  3 -1]\n",
      "  [ 3  5  5 -1 -1  3]\n",
      "  [ 7 -1  7 -1  3 -1]]\n",
      "\n",
      " [[ 3 -1  0 -1 -1  1]\n",
      "  [ 1  5 -1 -1 -1 -1]\n",
      "  [ 5 -1 -1 -1 -1  5]\n",
      "  ...\n",
      "  [ 3  2 -1 -1  5 -1]\n",
      "  [-1  5  5 -1  6 -1]\n",
      "  [-1  7 -1  5 -1  5]]]\n",
      "[['000000000100000000000011000000000001'\n",
      "  '000110000011000000000000000000000110'\n",
      "  '000000000110000000000011000110000100' ...\n",
      "  '000110000000000100000101000000000110'\n",
      "  '000110000011000000000011000000000100'\n",
      "  '000000000000001000000000000111000000']\n",
      " ['000001000011000000000000000000000001'\n",
      "  '000000000100000000000000000010000000'\n",
      "  '000100000100000000000000000100000110' ...\n",
      "  '000110000000000100000110000000000010'\n",
      "  '000000000100000100000000000000000110'\n",
      "  '000110000110001000000000000000000110']\n",
      " ['000010000000000000000000000000000010'\n",
      "  '000000000000000000000000000100000000'\n",
      "  '000110000000000000000011000111000000' ...\n",
      "  '000110000100000000000000000110000010'\n",
      "  '000000000000000000000011000000000100'\n",
      "  '000000000000000110001000000110000000']\n",
      " ...\n",
      " ['000010000000000100000001000001000000'\n",
      "  '000010000000000110000110000000000110'\n",
      "  '000000000110000000000000000000000000' ...\n",
      "  '000000000011000110000000000000000000'\n",
      "  '000000000011000100000000000111000100'\n",
      "  '000000000000000000000000000000000100']\n",
      " ['000010000000000000000000000000000100'\n",
      "  '000010000000000000000000000000000000'\n",
      "  '000000000000000000000000000110000000' ...\n",
      "  '000000000000000100000101000100000000'\n",
      "  '000100000110000110000000000000000100'\n",
      "  '001000000000001000000000000100000000']\n",
      " ['000100000000000001000000000000000010'\n",
      "  '000010000110000000000000000000000000'\n",
      "  '000110000000000000000000000000000110' ...\n",
      "  '000100000011000000000000000110000000'\n",
      "  '000000000110000110000000000111000000'\n",
      "  '000000001000000000000110000000000110']]\n",
      "[[0.375 0.5   0.5   ... 0.5   0.875 0.375]\n",
      " [0.125 0.5   0.875 ... 0.625 0.125 0.5  ]\n",
      " [0.875 0.75  0.75  ... 0.875 0.5   0.375]\n",
      " ...\n",
      " [0.5   0.875 0.375 ... 0.875 0.875 0.25 ]\n",
      " [0.625 1.    0.875 ... 0.5   0.    0.625]\n",
      " [0.875 0.875 0.5   ... 0.    1.    0.   ]]\n",
      "[[ 74  89 123 ...  97  65 111]\n",
      " [103  82  87 ...  53  87  52]\n",
      " [105  50 114 ... 114 117 120]\n",
      " ...\n",
      " [ 99  74  63 ...  71  74  69]\n",
      " [ 60 126 108 ...  83  97  83]\n",
      " [119  50  70 ...  63 125  59]]\n",
      "[['000000000000000011000000000000000000'\n",
      "  '000110000000000000000110000110000010'\n",
      "  '000000000011000000000000000000000100' ...\n",
      "  '000000000000000000000101000000000000'\n",
      "  '000110000100000000000000000111000000'\n",
      "  '000110000100000000000000000000000000']\n",
      " ['000000000000000100000000000000000001'\n",
      "  '000000000100000100000000000110000000'\n",
      "  '000100000000000000000000000000000000' ...\n",
      "  '000000000100000100000101000000000110'\n",
      "  '000000000011000000000000000000000000'\n",
      "  '000000000110000000000110000110000100']\n",
      " ['000001000000000001000001000000000010'\n",
      "  '000000000110000000000000000000000000'\n",
      "  '000000000000000000000000000110000000' ...\n",
      "  '000000000110000000000110000010000110'\n",
      "  '000000000100000000000000000000000100'\n",
      "  '000000000000000000000000000100000000']\n",
      " ...\n",
      " ['000100000001000000000000000000000000'\n",
      "  '000000000000000011000000000010000010'\n",
      "  '000000000000000100000110000100000000' ...\n",
      "  '000000000000000000000000000110000000'\n",
      "  '000100000110000011000000000000000000'\n",
      "  '000000000000000000000000000111000100']\n",
      " ['000000000000000000000011000010000010'\n",
      "  '000000000000000000000000000010000000'\n",
      "  '000110000000000000000000000000000000' ...\n",
      "  '000100000000000000000011000100000000'\n",
      "  '000110000110000011000101000000000000'\n",
      "  '000110000110000100000000000000001000']\n",
      " ['000000000000000000000101000100000100'\n",
      "  '000000000011000000000011000000000010'\n",
      "  '000100000000000110000101000000000000' ...\n",
      "  '000000000000000011000011000110000110'\n",
      "  '000000000110000100000000000000000000'\n",
      "  '000110000000000000000110000110001000']]\n",
      "[[0.5   0.625 0.625 ... 0.625 0.375 0.5  ]\n",
      " [0.5   0.5   0.5   ... 0.5   0.5   0.5  ]\n",
      " [0.5   0.5   0.5   ... 0.5   0.5   0.375]\n",
      " ...\n",
      " [0.5   0.5   0.5   ... 0.5   0.5   0.5  ]\n",
      " [0.5   0.5   0.5   ... 0.5   0.5   0.5  ]\n",
      " [0.5   0.5   0.5   ... 0.5   0.5   0.5  ]]\n",
      "[[92. 91. 82. ... 90. 92. 90.]\n",
      " [91. 91. 91. ... 88. 86. 91.]\n",
      " [90. 91. 91. ... 88. 81. 94.]\n",
      " ...\n",
      " [88. 89. 88. ... 81. 89. 89.]\n",
      " [88. 85. 92. ... 90. 88. 85.]\n",
      " [87. 86. 90. ... 83. 85. 86.]]\n"
     ]
    },
    {
     "data": {
      "text/plain": "'\\n\\nTODO: IDEAS\\n\\n- Train an ML algorithm on a dataset of chords arrays (like above) and their corresponding duration and velocity\\n\\n'"
     },
     "execution_count": 3,
     "metadata": {},
     "output_type": "execute_result"
    }
   ],
   "source": [
    "POPULATION = 100\n",
    "NOTES_PER = 100\n",
    "\n",
    "\n",
    "def post_process_duration(y_pred):\n",
    "    # Round duration to the nearest multiple of 0.125\n",
    "    y_pred[:] = np.round(y_pred[:] / 0.125) * 0.125\n",
    "\n",
    "    return y_pred\n",
    "\n",
    "\n",
    "def post_process_velocity(y_pred):\n",
    "    # Clip velocity to the range 1-127\n",
    "    y_pred[:] = np.clip(np.round(y_pred[:]), 1, 127)\n",
    "\n",
    "    return y_pred\n",
    "\n",
    "\n",
    "def preprocess_input(x):\n",
    "    # Convert chords to binary\n",
    "    x = np.array([[''.join([bin(x)[2:].zfill(6) for x in row]) for row in level] for level in (x + 1)])\n",
    "\n",
    "    return x\n",
    "\n",
    "\n",
    "# toy dataset\n",
    "# chordsX = [[chord, position]...]\n",
    "# chordsY = [[duration, velocity]...]\n",
    "rand_chords_x = np.array([[generate_chord(position=i % 12, note_count=(random.randrange(1, 5)), include_position=True) for i in range(NOTES_PER)] for _ in range(POPULATION)])\n",
    "print(rand_chords_x)\n",
    "\n",
    "rand_chords_x_flat = preprocess_input(rand_chords_x)\n",
    "print(rand_chords_x_flat)\n",
    "\n",
    "rand_durations = np.array(\n",
    "    [[round(random.random() / 0.125) * 0.125 for _ in range(NOTES_PER)] for _ in range(POPULATION)])\n",
    "rand_velocities = np.array([[random.randrange(50, 127) for _ in range(NOTES_PER)] for _ in range(POPULATION)])\n",
    "# chordsYFlat = np.reshape(chordsY, (12, 20))\n",
    "print(rand_durations)\n",
    "print(rand_velocities)\n",
    "\n",
    "durRegr = RandomForestRegressor(n_estimators=100)\n",
    "durRegr.fit(rand_chords_x_flat, rand_durations)\n",
    "velRegr = RandomForestRegressor(n_estimators=100)\n",
    "velRegr.fit(rand_chords_x_flat, rand_velocities)\n",
    "\n",
    "X_test = np.array([[generate_chord(position=i % 12, note_count=(random.randrange(1, 5)), include_position=True) for i in\n",
    "                    range(NOTES_PER)] for _ in range(POPULATION)])\n",
    "print(preprocess_input(X_test))\n",
    "print(post_process_duration(durRegr.predict(preprocess_input(X_test))))\n",
    "print(post_process_velocity(velRegr.predict(preprocess_input(X_test))))"
   ],
   "metadata": {
    "collapsed": false
   }
  },
  {
   "cell_type": "code",
   "execution_count": null,
   "outputs": [],
   "source": [],
   "metadata": {
    "collapsed": false
   }
  }
 ],
 "metadata": {
  "kernelspec": {
   "display_name": "Python 3",
   "language": "python",
   "name": "python3"
  },
  "language_info": {
   "codemirror_mode": {
    "name": "ipython",
    "version": 2
   },
   "file_extension": ".py",
   "mimetype": "text/x-python",
   "name": "python",
   "nbconvert_exporter": "python",
   "pygments_lexer": "ipython2",
   "version": "2.7.6"
  }
 },
 "nbformat": 4,
 "nbformat_minor": 0
}
