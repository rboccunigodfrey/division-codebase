{
 "cells": [
  {
   "cell_type": "code",
   "execution_count": 2,
   "metadata": {
    "collapsed": true,
    "ExecuteTime": {
     "start_time": "2023-05-08T04:17:54.429853Z",
     "end_time": "2023-05-08T04:17:55.062900Z"
    }
   },
   "outputs": [],
   "source": [
    "import random\n",
    "import time\n",
    "\n",
    "import numpy as np\n",
    "from enum import Enum\n",
    "from sklearn.ensemble import RandomForestRegressor\n",
    "import mido"
   ]
  },
  {
   "cell_type": "code",
   "execution_count": 3,
   "outputs": [],
   "source": [
    "NOTES = [\"C\", \"C#\", \"D\", \"D#\", \"E\", \"F\", \"F#\", \"G\", \"G#\", \"A\", \"A#\", \"B\"]\n",
    "\n",
    "\n",
    "class Scales(Enum):\n",
    "    IONIAN = 0\n",
    "    DORIAN = 2\n",
    "    PHRYGIAN = 4\n",
    "    LYDIAN = 5\n",
    "    MIXOLYDIAN = 7\n",
    "    AEOLIAN = 9\n",
    "    LOCRIAN = 11\n",
    "\n",
    "\n",
    "PATTERNS_C_IONIAN = [\n",
    "    [[0, 1, 3], [0, 2, 3], [0, 2, 3], [0, 2, 4], [0, 1, 3], [0, 1, 3]],\n",
    "    [[0, 2, 4], [1, 2, 4], [1, 2, 4], [1, 3, 4], [0, 2, 4], [0, 2, 4]],\n",
    "    [[1, 3], [0, 1, 3], [0, 1, 3], [0, 2, 3], [1, 3, 4], [1, 3]],\n",
    "    [[0, 2, 4], [0, 2, 4], [0, 2, 4], [1, 2, 4], [0, 2, 3], [0, 2, 4]],\n",
    "    [[1, 3, 4], [1, 3, 4], [1, 3], [0, 1, 3], [2, 3, 4], [1, 3, 4]],\n",
    "    [[0, 2, 3], [0, 2, 3], [0, 2, 4], [0, 2, 4], [0, 1, 3], [0, 2, 3]],\n",
    "    [[1, 2, 4], [1, 2, 4], [1, 3, 4], [1, 3, 4], [0, 2, 4], [1, 2, 4]],\n",
    "    [[0, 1, 3], [0, 1, 3], [0, 2, 3], [0, 2, 3], [1, 3], [0, 1, 3]],\n",
    "    [[0, 2, 4], [0, 2, 4], [1, 2, 4], [1, 2, 4], [0, 2, 4], [0, 2, 4]],\n",
    "    [[1, 3, 4], [1, 3], [0, 1, 3], [0, 1, 3], [1, 3, 4], [1, 3, 4]],\n",
    "    [[0, 2, 3], [0, 2, 4], [0, 2, 4], [0, 2, 4], [0, 2, 3], [0, 2, 3]],\n",
    "    [[1, 2, 4], [1, 3, 4], [1, 3, 4], [1, 3], [1, 2, 4], [1, 2, 4]]]"
   ],
   "metadata": {
    "collapsed": false,
    "ExecuteTime": {
     "start_time": "2023-05-08T04:17:55.676289Z",
     "end_time": "2023-05-08T04:17:55.683149Z"
    }
   }
  },
  {
   "cell_type": "code",
   "execution_count": 4,
   "outputs": [],
   "source": [
    "def get_pattern(key, scale=Scales.IONIAN):\n",
    "    to_index = (len(NOTES) - NOTES.index(key)) + scale.value\n",
    "    if to_index >= len(PATTERNS_C_IONIAN):\n",
    "        to_index = to_index - len(PATTERNS_C_IONIAN)\n",
    "\n",
    "    return PATTERNS_C_IONIAN[to_index:] + PATTERNS_C_IONIAN[:to_index]"
   ],
   "metadata": {
    "collapsed": false,
    "ExecuteTime": {
     "start_time": "2023-05-08T04:17:55.931670Z",
     "end_time": "2023-05-08T04:17:55.976407Z"
    }
   }
  },
  {
   "cell_type": "code",
   "execution_count": 5,
   "outputs": [],
   "source": [
    "def generate_chord(pattern=None, key=\"C\", scale=Scales.IONIAN, position=0, include_position=False, note_count=3):\n",
    "    # Generate a random chord\n",
    "    if pattern is None:\n",
    "        pattern = get_pattern(key, scale=scale)\n",
    "    chord = []\n",
    "    chosen_strings = random.sample(range(6), note_count)\n",
    "    for i in range(6):\n",
    "        if i in chosen_strings:\n",
    "            chord.append(random.choice(pattern[position][i]) + include_position * position)\n",
    "        else:\n",
    "            chord.append(-1)\n",
    "    return chord"
   ],
   "metadata": {
    "collapsed": false,
    "ExecuteTime": {
     "start_time": "2023-05-08T04:17:56.102974Z",
     "end_time": "2023-05-08T04:17:56.147296Z"
    }
   }
  },
  {
   "cell_type": "code",
   "execution_count": 6,
   "outputs": [],
   "source": [
    "def generate_note(pattern=None, key=\"C\", scale=Scales.IONIAN, position=0, include_position=False):\n",
    "    generate_chord(pattern=pattern, key=key, scale=scale, position=position, include_position=include_position,\n",
    "                   note_count=1)"
   ],
   "metadata": {
    "collapsed": false,
    "ExecuteTime": {
     "start_time": "2023-05-08T04:17:56.281887Z",
     "end_time": "2023-05-08T04:17:56.284741Z"
    }
   }
  },
  {
   "cell_type": "code",
   "execution_count": 7,
   "outputs": [
    {
     "data": {
      "text/plain": "[[[1, 3], [0, 1, 3], [0, 1, 3], [0, 2, 3], [1, 3, 4], [1, 3]],\n [[0, 2, 4], [0, 2, 4], [0, 2, 4], [1, 2, 4], [0, 2, 3], [0, 2, 4]],\n [[1, 3, 4], [1, 3, 4], [1, 3], [0, 1, 3], [2, 3, 4], [1, 3, 4]],\n [[0, 2, 3], [0, 2, 3], [0, 2, 4], [0, 2, 4], [0, 1, 3], [0, 2, 3]],\n [[1, 2, 4], [1, 2, 4], [1, 3, 4], [1, 3, 4], [0, 2, 4], [1, 2, 4]],\n [[0, 1, 3], [0, 1, 3], [0, 2, 3], [0, 2, 3], [1, 3], [0, 1, 3]],\n [[0, 2, 4], [0, 2, 4], [1, 2, 4], [1, 2, 4], [0, 2, 4], [0, 2, 4]],\n [[1, 3, 4], [1, 3], [0, 1, 3], [0, 1, 3], [1, 3, 4], [1, 3, 4]],\n [[0, 2, 3], [0, 2, 4], [0, 2, 4], [0, 2, 4], [0, 2, 3], [0, 2, 3]],\n [[1, 2, 4], [1, 3, 4], [1, 3, 4], [1, 3], [1, 2, 4], [1, 2, 4]],\n [[0, 1, 3], [0, 2, 3], [0, 2, 3], [0, 2, 4], [0, 1, 3], [0, 1, 3]],\n [[0, 2, 4], [1, 2, 4], [1, 2, 4], [1, 3, 4], [0, 2, 4], [0, 2, 4]]]"
     },
     "execution_count": 7,
     "metadata": {},
     "output_type": "execute_result"
    }
   ],
   "source": [
    "get_pattern(\"C\", scale=Scales.DORIAN)"
   ],
   "metadata": {
    "collapsed": false,
    "ExecuteTime": {
     "start_time": "2023-05-08T04:17:56.456319Z",
     "end_time": "2023-05-08T04:17:56.503301Z"
    }
   }
  },
  {
   "cell_type": "code",
   "execution_count": 8,
   "outputs": [
    {
     "data": {
      "text/plain": "[0, 2, -1, 2, -1, -1]"
     },
     "execution_count": 8,
     "metadata": {},
     "output_type": "execute_result"
    }
   ],
   "source": [
    "generate_chord(\n",
    "    key=\"D\",\n",
    "    scale=Scales.MIXOLYDIAN,\n",
    "    position=random.randrange(0, 5),\n",
    "    include_position=True,\n",
    "    note_count=random.randrange(2, 5))"
   ],
   "metadata": {
    "collapsed": false,
    "ExecuteTime": {
     "start_time": "2023-05-08T04:17:56.622153Z",
     "end_time": "2023-05-08T04:17:56.669104Z"
    }
   }
  },
  {
   "cell_type": "code",
   "execution_count": 9,
   "outputs": [
    {
     "data": {
      "text/plain": "[[43, [3, -1, -1, -1, -1, -1]],\n [60, [20, 15, 10, 5, 1, -1]],\n [49, [9, 4, -1, -1, -1, -1]],\n [46, [6, 1, -1, -1, -1, -1]],\n [56, [16, 11, 6, 1, -1, -1]],\n [42, [2, -1, -1, -1, -1, -1]],\n [45, [5, 0, -1, -1, -1, -1]],\n [41, [1, -1, -1, -1, -1, -1]],\n [57, [17, 12, 7, 2, -1, -1]],\n [47, [7, 2, -1, -1, -1, -1]],\n [53, [13, 8, 3, -1, -1, -1]],\n [62, [22, 17, 12, 7, 3, -1]],\n [44, [4, -1, -1, -1, -1, -1]],\n [51, [11, 6, 1, -1, -1, -1]],\n [55, [15, 10, 5, 0, -1, -1]],\n [48, [8, 3, -1, -1, -1, -1]],\n [63, [-1, 18, 13, 8, 4, -1]],\n [40, [0, -1, -1, -1, -1, -1]],\n [50, [10, 5, 0, -1, -1, -1]],\n [58, [18, 13, 8, 3, -1, -1]],\n [52, [12, 7, 2, -1, -1, -1]],\n [61, [21, 16, 11, 6, 2, -1]],\n [59, [19, 14, 9, 4, 0, -1]],\n [54, [14, 9, 4, -1, -1, -1]]]"
     },
     "execution_count": 9,
     "metadata": {},
     "output_type": "execute_result"
    }
   ],
   "source": [
    "open_string_values = [40, 45, 50, 55, 59, 64]\n",
    "\n",
    "def get_fret_positions(note):\n",
    "    positions = []\n",
    "    for string_value in open_string_values:\n",
    "        if note >= string_value:\n",
    "            if (note-string_value) > 22:\n",
    "                positions.append(-1)\n",
    "            else:\n",
    "                positions.append(note - string_value)\n",
    "        else:\n",
    "            positions.append(-1)\n",
    "    return positions\n",
    "\n",
    "notelist = []\n",
    "for i in random.sample(range(40, 64), 24):\n",
    "    notelist.append([i, get_fret_positions(i)])\n",
    "\n",
    "notelist"
   ],
   "metadata": {
    "collapsed": false,
    "ExecuteTime": {
     "start_time": "2023-05-08T04:17:56.795108Z",
     "end_time": "2023-05-08T04:17:56.840369Z"
    }
   }
  },
  {
   "cell_type": "code",
   "execution_count": 10,
   "outputs": [
    {
     "data": {
      "text/plain": "MidiFile(type=1, ticks_per_beat=256, tracks=[\n  MidiTrack([\n    MetaMessage('time_signature', numerator=4, denominator=4, clocks_per_click=24, notated_32nd_notes_per_beat=8, time=0),\n    MetaMessage('key_signature', key='C', time=0),\n    MetaMessage('set_tempo', tempo=631577, time=0),\n    MetaMessage('track_name', name='Greensleeves', time=0),\n    MetaMessage('text', text='Traditional', time=0),\n    MetaMessage('copyright', text='Jim Paterson', time=0),\n    MetaMessage('end_of_track', time=1)]),\n  MidiTrack([\n    Message('program_change', channel=0, program=0, time=0),\n    Message('control_change', channel=0, control=121, value=0, time=0),\n    Message('control_change', channel=0, control=64, value=0, time=0),\n    Message('control_change', channel=0, control=10, value=63, time=0),\n    Message('control_change', channel=0, control=7, value=95, time=0),\n    Message('note_on', channel=0, note=60, velocity=77, time=0),\n    Message('note_on', channel=0, note=52, velocity=63, time=0),\n    Message('control_change', channel=0, control=121, value=0, time=0),\n    Message('control_change', channel=0, control=64, value=0, time=0),\n    Message('control_change', channel=0, control=10, value=63, time=0),\n    Message('control_change', channel=0, control=7, value=95, time=0),\n    MetaMessage('track_name', name='Piano', time=0),\n    Message('note_on', channel=0, note=48, velocity=64, time=0),\n    Message('note_off', channel=0, note=60, velocity=0, time=244),\n    Message('note_on', channel=0, note=60, velocity=83, time=12),\n    Message('note_off', channel=0, note=52, velocity=0, time=231),\n    Message('note_off', channel=0, note=48, velocity=0, time=0),\n    Message('note_off', channel=0, note=60, velocity=0, time=13),\n    Message('note_on', channel=0, note=67, velocity=90, time=12),\n    Message('note_on', channel=0, note=60, velocity=77, time=0),\n    Message('note_on', channel=0, note=48, velocity=71, time=0),\n    Message('note_off', channel=0, note=67, velocity=0, time=244),\n    Message('note_on', channel=0, note=67, velocity=87, time=12),\n    Message('note_off', channel=0, note=60, velocity=0, time=231),\n    Message('note_off', channel=0, note=48, velocity=0, time=0),\n    Message('note_off', channel=0, note=67, velocity=0, time=13),\n    Message('note_on', channel=0, note=69, velocity=86, time=12),\n    Message('note_on', channel=0, note=60, velocity=73, time=0),\n    Message('note_on', channel=0, note=41, velocity=66, time=0),\n    Message('note_off', channel=0, note=69, velocity=0, time=244),\n    Message('note_on', channel=0, note=69, velocity=83, time=12),\n    Message('note_off', channel=0, note=60, velocity=0, time=231),\n    Message('note_off', channel=0, note=41, velocity=0, time=0),\n    Message('note_off', channel=0, note=69, velocity=0, time=13),\n    Message('note_on', channel=0, note=67, velocity=81, time=12),\n    Message('note_on', channel=0, note=60, velocity=75, time=0),\n    Message('note_on', channel=0, note=48, velocity=71, time=0),\n    Message('note_off', channel=0, note=67, velocity=0, time=487),\n    Message('note_off', channel=0, note=60, velocity=0, time=0),\n    Message('note_off', channel=0, note=48, velocity=0, time=0),\n    Message('note_on', channel=0, note=65, velocity=80, time=25),\n    Message('note_on', channel=0, note=57, velocity=70, time=0),\n    Message('note_on', channel=0, note=41, velocity=68, time=0),\n    Message('note_off', channel=0, note=65, velocity=0, time=244),\n    Message('note_on', channel=0, note=65, velocity=85, time=12),\n    Message('note_off', channel=0, note=57, velocity=0, time=231),\n    Message('note_off', channel=0, note=41, velocity=0, time=0),\n    Message('note_off', channel=0, note=65, velocity=0, time=13),\n    Message('note_on', channel=0, note=64, velocity=82, time=12),\n    Message('note_on', channel=0, note=55, velocity=69, time=0),\n    Message('note_on', channel=0, note=48, velocity=76, time=0),\n    Message('note_off', channel=0, note=64, velocity=0, time=244),\n    Message('note_on', channel=0, note=64, velocity=84, time=12),\n    Message('note_off', channel=0, note=55, velocity=0, time=231),\n    Message('note_off', channel=0, note=48, velocity=0, time=0),\n    Message('note_off', channel=0, note=64, velocity=0, time=13),\n    Message('note_on', channel=0, note=62, velocity=81, time=12),\n    Message('note_on', channel=0, note=55, velocity=71, time=0),\n    Message('note_on', channel=0, note=43, velocity=69, time=0),\n    Message('note_off', channel=0, note=62, velocity=0, time=244),\n    Message('note_on', channel=0, note=62, velocity=83, time=12),\n    Message('note_off', channel=0, note=55, velocity=0, time=231),\n    Message('note_off', channel=0, note=43, velocity=0, time=0),\n    Message('note_off', channel=0, note=62, velocity=0, time=13),\n    Message('note_on', channel=0, note=60, velocity=81, time=12),\n    Message('note_on', channel=0, note=52, velocity=71, time=0),\n    Message('note_on', channel=0, note=48, velocity=75, time=0),\n    Message('note_off', channel=0, note=60, velocity=0, time=487),\n    Message('note_off', channel=0, note=52, velocity=0, time=0),\n    Message('note_off', channel=0, note=48, velocity=0, time=0),\n    Message('note_on', channel=0, note=67, velocity=94, time=25),\n    Message('note_on', channel=0, note=60, velocity=80, time=0),\n    Message('note_on', channel=0, note=48, velocity=72, time=0),\n    Message('note_off', channel=0, note=67, velocity=0, time=244),\n    Message('note_on', channel=0, note=67, velocity=83, time=12),\n    Message('note_off', channel=0, note=60, velocity=0, time=231),\n    Message('note_off', channel=0, note=48, velocity=0, time=0),\n    Message('note_off', channel=0, note=67, velocity=0, time=13),\n    Message('note_on', channel=0, note=65, velocity=81, time=12),\n    Message('note_on', channel=0, note=57, velocity=71, time=0),\n    Message('note_on', channel=0, note=41, velocity=68, time=0),\n    Message('note_off', channel=0, note=65, velocity=0, time=244),\n    Message('note_on', channel=0, note=65, velocity=84, time=12),\n    Message('note_off', channel=0, note=57, velocity=0, time=231),\n    Message('note_off', channel=0, note=41, velocity=0, time=0),\n    Message('note_off', channel=0, note=65, velocity=0, time=13),\n    Message('note_on', channel=0, note=64, velocity=82, time=12),\n    Message('note_on', channel=0, note=55, velocity=70, time=0),\n    Message('note_on', channel=0, note=43, velocity=73, time=0),\n    Message('note_off', channel=0, note=64, velocity=0, time=244),\n    Message('note_on', channel=0, note=64, velocity=84, time=12),\n    Message('note_off', channel=0, note=55, velocity=0, time=231),\n    Message('note_off', channel=0, note=43, velocity=0, time=0),\n    Message('note_off', channel=0, note=64, velocity=0, time=13),\n    Message('note_on', channel=0, note=62, velocity=82, time=12),\n    Message('note_on', channel=0, note=55, velocity=67, time=0),\n    Message('note_on', channel=0, note=43, velocity=72, time=0),\n    Message('note_off', channel=0, note=62, velocity=0, time=487),\n    Message('note_off', channel=0, note=55, velocity=0, time=0),\n    Message('note_off', channel=0, note=43, velocity=0, time=0),\n    Message('note_on', channel=0, note=67, velocity=90, time=25),\n    Message('note_on', channel=0, note=60, velocity=76, time=0),\n    Message('note_on', channel=0, note=48, velocity=73, time=0),\n    Message('note_off', channel=0, note=67, velocity=0, time=244),\n    Message('note_on', channel=0, note=67, velocity=84, time=12),\n    Message('note_off', channel=0, note=60, velocity=0, time=231),\n    Message('note_off', channel=0, note=48, velocity=0, time=0),\n    Message('note_off', channel=0, note=67, velocity=0, time=13),\n    Message('note_on', channel=0, note=65, velocity=84, time=12),\n    Message('note_on', channel=0, note=57, velocity=71, time=0),\n    Message('note_on', channel=0, note=41, velocity=68, time=0),\n    Message('note_off', channel=0, note=65, velocity=0, time=244),\n    Message('note_on', channel=0, note=65, velocity=85, time=12),\n    Message('note_off', channel=0, note=57, velocity=0, time=231),\n    Message('note_off', channel=0, note=41, velocity=0, time=0),\n    Message('note_off', channel=0, note=65, velocity=0, time=13),\n    Message('note_on', channel=0, note=64, velocity=82, time=12),\n    Message('note_on', channel=0, note=55, velocity=70, time=0),\n    Message('note_on', channel=0, note=43, velocity=73, time=0),\n    Message('note_off', channel=0, note=64, velocity=0, time=244),\n    Message('note_on', channel=0, note=64, velocity=82, time=12),\n    Message('note_off', channel=0, note=55, velocity=0, time=231),\n    Message('note_off', channel=0, note=43, velocity=0, time=0),\n    Message('note_off', channel=0, note=64, velocity=0, time=13),\n    Message('note_on', channel=0, note=62, velocity=83, time=12),\n    Message('note_on', channel=0, note=55, velocity=70, time=0),\n    Message('note_on', channel=0, note=43, velocity=69, time=0),\n    Message('note_off', channel=0, note=62, velocity=0, time=487),\n    Message('note_off', channel=0, note=55, velocity=0, time=0),\n    Message('note_off', channel=0, note=43, velocity=0, time=0),\n    Message('note_on', channel=0, note=60, velocity=82, time=25),\n    Message('note_on', channel=0, note=52, velocity=69, time=0),\n    Message('note_on', channel=0, note=48, velocity=73, time=0),\n    Message('note_off', channel=0, note=60, velocity=0, time=244),\n    Message('note_on', channel=0, note=60, velocity=83, time=12),\n    Message('note_off', channel=0, note=52, velocity=0, time=231),\n    Message('note_off', channel=0, note=48, velocity=0, time=0),\n    Message('note_off', channel=0, note=60, velocity=0, time=13),\n    Message('note_on', channel=0, note=67, velocity=90, time=12),\n    Message('note_on', channel=0, note=60, velocity=80, time=0),\n    Message('note_on', channel=0, note=48, velocity=72, time=0),\n    Message('note_off', channel=0, note=67, velocity=0, time=244),\n    Message('note_on', channel=0, note=67, velocity=83, time=12),\n    Message('note_off', channel=0, note=60, velocity=0, time=231),\n    Message('note_off', channel=0, note=48, velocity=0, time=0),\n    Message('note_off', channel=0, note=67, velocity=0, time=13),\n    Message('note_on', channel=0, note=69, velocity=87, time=12),\n    Message('note_on', channel=0, note=60, velocity=69, time=0),\n    Message('note_on', channel=0, note=41, velocity=68, time=0),\n    Message('note_off', channel=0, note=69, velocity=0, time=244),\n    Message('note_on', channel=0, note=69, velocity=81, time=12),\n    Message('note_off', channel=0, note=60, velocity=0, time=231),\n    Message('note_off', channel=0, note=41, velocity=0, time=0),\n    Message('note_off', channel=0, note=69, velocity=0, time=13),\n    Message('note_on', channel=0, note=67, velocity=79, time=12),\n    Message('note_on', channel=0, note=60, velocity=72, time=0),\n    Message('note_on', channel=0, note=48, velocity=73, time=0),\n    Message('note_off', channel=0, note=67, velocity=0, time=487),\n    Message('note_off', channel=0, note=60, velocity=0, time=0),\n    Message('note_off', channel=0, note=48, velocity=0, time=0),\n    Message('note_on', channel=0, note=65, velocity=81, time=25),\n    Message('note_on', channel=0, note=57, velocity=69, time=0),\n    Message('note_on', channel=0, note=41, velocity=68, time=0),\n    Message('note_off', channel=0, note=65, velocity=0, time=244),\n    Message('note_on', channel=0, note=65, velocity=83, time=12),\n    Message('note_off', channel=0, note=57, velocity=0, time=231),\n    Message('note_off', channel=0, note=41, velocity=0, time=0),\n    Message('note_off', channel=0, note=65, velocity=0, time=13),\n    Message('note_on', channel=0, note=64, velocity=81, time=12),\n    Message('note_on', channel=0, note=55, velocity=70, time=0),\n    Message('note_on', channel=0, note=48, velocity=75, time=0),\n    Message('note_off', channel=0, note=64, velocity=0, time=244),\n    Message('note_on', channel=0, note=64, velocity=84, time=12),\n    Message('note_off', channel=0, note=55, velocity=0, time=231),\n    Message('note_off', channel=0, note=48, velocity=0, time=0),\n    Message('note_off', channel=0, note=64, velocity=0, time=13),\n    Message('note_on', channel=0, note=62, velocity=82, time=12),\n    Message('note_on', channel=0, note=55, velocity=71, time=0),\n    Message('note_on', channel=0, note=43, velocity=69, time=0),\n    Message('note_off', channel=0, note=62, velocity=0, time=244),\n    Message('note_on', channel=0, note=62, velocity=83, time=12),\n    Message('note_off', channel=0, note=55, velocity=0, time=231),\n    Message('note_off', channel=0, note=43, velocity=0, time=0),\n    Message('note_off', channel=0, note=62, velocity=0, time=13),\n    Message('note_on', channel=0, note=60, velocity=80, time=12),\n    Message('note_on', channel=0, note=52, velocity=70, time=0),\n    Message('note_on', channel=0, note=48, velocity=74, time=0),\n    Message('note_off', channel=0, note=60, velocity=0, time=487),\n    Message('note_off', channel=0, note=52, velocity=0, time=0),\n    Message('note_off', channel=0, note=48, velocity=0, time=0),\n    MetaMessage('end_of_track', time=1)])\n])"
     },
     "execution_count": 10,
     "metadata": {},
     "output_type": "execute_result"
    }
   ],
   "source": [
    "mid = mido.MidiFile(\"twinkle-twinkle-little-star.mid\")\n",
    "mid"
   ],
   "metadata": {
    "collapsed": false,
    "ExecuteTime": {
     "start_time": "2023-05-08T04:17:57.450227Z",
     "end_time": "2023-05-08T04:17:57.460529Z"
    }
   }
  },
  {
   "cell_type": "code",
   "execution_count": 11,
   "outputs": [
    {
     "data": {
      "text/plain": "[{'activated': 1, 'velocity': 77, 'note': 60, 'time': 0.0},\n {'activated': 1, 'velocity': 63, 'note': 52, 'time': 0.0},\n {'activated': 1, 'velocity': 64, 'note': 48, 'time': 0.0},\n {'activated': 0, 'velocity': 0, 'note': 60, 'time': 244.0},\n {'activated': 1, 'velocity': 83, 'note': 60, 'time': 256.0},\n {'activated': 0, 'velocity': 0, 'note': 52, 'time': 487.0},\n {'activated': 0, 'velocity': 0, 'note': 48, 'time': 487.0},\n {'activated': 0, 'velocity': 0, 'note': 60, 'time': 500.0},\n {'activated': 1, 'velocity': 90, 'note': 67, 'time': 512.0},\n {'activated': 1, 'velocity': 77, 'note': 60, 'time': 512.0},\n {'activated': 1, 'velocity': 71, 'note': 48, 'time': 512.0},\n {'activated': 0, 'velocity': 0, 'note': 67, 'time': 756.0},\n {'activated': 1, 'velocity': 87, 'note': 67, 'time': 768.0},\n {'activated': 0, 'velocity': 0, 'note': 60, 'time': 999.0},\n {'activated': 0, 'velocity': 0, 'note': 48, 'time': 999.0},\n {'activated': 0, 'velocity': 0, 'note': 67, 'time': 1012.0},\n {'activated': 1, 'velocity': 86, 'note': 69, 'time': 1024.0},\n {'activated': 1, 'velocity': 73, 'note': 60, 'time': 1024.0},\n {'activated': 1, 'velocity': 66, 'note': 41, 'time': 1024.0},\n {'activated': 0, 'velocity': 0, 'note': 69, 'time': 1268.0},\n {'activated': 1, 'velocity': 83, 'note': 69, 'time': 1280.0},\n {'activated': 0, 'velocity': 0, 'note': 60, 'time': 1511.0},\n {'activated': 0, 'velocity': 0, 'note': 41, 'time': 1511.0},\n {'activated': 0, 'velocity': 0, 'note': 69, 'time': 1524.0},\n {'activated': 1, 'velocity': 81, 'note': 67, 'time': 1536.0},\n {'activated': 1, 'velocity': 75, 'note': 60, 'time': 1536.0},\n {'activated': 1, 'velocity': 71, 'note': 48, 'time': 1536.0},\n {'activated': 0, 'velocity': 0, 'note': 67, 'time': 2023.0},\n {'activated': 0, 'velocity': 0, 'note': 60, 'time': 2023.0},\n {'activated': 0, 'velocity': 0, 'note': 48, 'time': 2023.0},\n {'activated': 1, 'velocity': 80, 'note': 65, 'time': 2048.0},\n {'activated': 1, 'velocity': 70, 'note': 57, 'time': 2048.0},\n {'activated': 1, 'velocity': 68, 'note': 41, 'time': 2048.0},\n {'activated': 0, 'velocity': 0, 'note': 65, 'time': 2292.0},\n {'activated': 1, 'velocity': 85, 'note': 65, 'time': 2304.0},\n {'activated': 0, 'velocity': 0, 'note': 57, 'time': 2535.0},\n {'activated': 0, 'velocity': 0, 'note': 41, 'time': 2535.0},\n {'activated': 0, 'velocity': 0, 'note': 65, 'time': 2548.0},\n {'activated': 1, 'velocity': 82, 'note': 64, 'time': 2560.0},\n {'activated': 1, 'velocity': 69, 'note': 55, 'time': 2560.0},\n {'activated': 1, 'velocity': 76, 'note': 48, 'time': 2560.0},\n {'activated': 0, 'velocity': 0, 'note': 64, 'time': 2804.0},\n {'activated': 1, 'velocity': 84, 'note': 64, 'time': 2816.0},\n {'activated': 0, 'velocity': 0, 'note': 55, 'time': 3047.0},\n {'activated': 0, 'velocity': 0, 'note': 48, 'time': 3047.0},\n {'activated': 0, 'velocity': 0, 'note': 64, 'time': 3060.0},\n {'activated': 1, 'velocity': 81, 'note': 62, 'time': 3072.0},\n {'activated': 1, 'velocity': 71, 'note': 55, 'time': 3072.0},\n {'activated': 1, 'velocity': 69, 'note': 43, 'time': 3072.0},\n {'activated': 0, 'velocity': 0, 'note': 62, 'time': 3316.0},\n {'activated': 1, 'velocity': 83, 'note': 62, 'time': 3328.0},\n {'activated': 0, 'velocity': 0, 'note': 55, 'time': 3559.0},\n {'activated': 0, 'velocity': 0, 'note': 43, 'time': 3559.0},\n {'activated': 0, 'velocity': 0, 'note': 62, 'time': 3572.0},\n {'activated': 1, 'velocity': 81, 'note': 60, 'time': 3584.0},\n {'activated': 1, 'velocity': 71, 'note': 52, 'time': 3584.0},\n {'activated': 1, 'velocity': 75, 'note': 48, 'time': 3584.0},\n {'activated': 0, 'velocity': 0, 'note': 60, 'time': 4071.0},\n {'activated': 0, 'velocity': 0, 'note': 52, 'time': 4071.0},\n {'activated': 0, 'velocity': 0, 'note': 48, 'time': 4071.0},\n {'activated': 1, 'velocity': 94, 'note': 67, 'time': 4096.0},\n {'activated': 1, 'velocity': 80, 'note': 60, 'time': 4096.0},\n {'activated': 1, 'velocity': 72, 'note': 48, 'time': 4096.0},\n {'activated': 0, 'velocity': 0, 'note': 67, 'time': 4340.0},\n {'activated': 1, 'velocity': 83, 'note': 67, 'time': 4352.0},\n {'activated': 0, 'velocity': 0, 'note': 60, 'time': 4583.0},\n {'activated': 0, 'velocity': 0, 'note': 48, 'time': 4583.0},\n {'activated': 0, 'velocity': 0, 'note': 67, 'time': 4596.0},\n {'activated': 1, 'velocity': 81, 'note': 65, 'time': 4608.0},\n {'activated': 1, 'velocity': 71, 'note': 57, 'time': 4608.0},\n {'activated': 1, 'velocity': 68, 'note': 41, 'time': 4608.0},\n {'activated': 0, 'velocity': 0, 'note': 65, 'time': 4852.0},\n {'activated': 1, 'velocity': 84, 'note': 65, 'time': 4864.0},\n {'activated': 0, 'velocity': 0, 'note': 57, 'time': 5095.0},\n {'activated': 0, 'velocity': 0, 'note': 41, 'time': 5095.0},\n {'activated': 0, 'velocity': 0, 'note': 65, 'time': 5108.0},\n {'activated': 1, 'velocity': 82, 'note': 64, 'time': 5120.0},\n {'activated': 1, 'velocity': 70, 'note': 55, 'time': 5120.0},\n {'activated': 1, 'velocity': 73, 'note': 43, 'time': 5120.0},\n {'activated': 0, 'velocity': 0, 'note': 64, 'time': 5364.0},\n {'activated': 1, 'velocity': 84, 'note': 64, 'time': 5376.0},\n {'activated': 0, 'velocity': 0, 'note': 55, 'time': 5607.0},\n {'activated': 0, 'velocity': 0, 'note': 43, 'time': 5607.0},\n {'activated': 0, 'velocity': 0, 'note': 64, 'time': 5620.0},\n {'activated': 1, 'velocity': 82, 'note': 62, 'time': 5632.0},\n {'activated': 1, 'velocity': 67, 'note': 55, 'time': 5632.0},\n {'activated': 1, 'velocity': 72, 'note': 43, 'time': 5632.0},\n {'activated': 0, 'velocity': 0, 'note': 62, 'time': 6119.0},\n {'activated': 0, 'velocity': 0, 'note': 55, 'time': 6119.0},\n {'activated': 0, 'velocity': 0, 'note': 43, 'time': 6119.0},\n {'activated': 1, 'velocity': 90, 'note': 67, 'time': 6144.0},\n {'activated': 1, 'velocity': 76, 'note': 60, 'time': 6144.0},\n {'activated': 1, 'velocity': 73, 'note': 48, 'time': 6144.0},\n {'activated': 0, 'velocity': 0, 'note': 67, 'time': 6388.0},\n {'activated': 1, 'velocity': 84, 'note': 67, 'time': 6400.0},\n {'activated': 0, 'velocity': 0, 'note': 60, 'time': 6631.0},\n {'activated': 0, 'velocity': 0, 'note': 48, 'time': 6631.0},\n {'activated': 0, 'velocity': 0, 'note': 67, 'time': 6644.0},\n {'activated': 1, 'velocity': 84, 'note': 65, 'time': 6656.0},\n {'activated': 1, 'velocity': 71, 'note': 57, 'time': 6656.0},\n {'activated': 1, 'velocity': 68, 'note': 41, 'time': 6656.0},\n {'activated': 0, 'velocity': 0, 'note': 65, 'time': 6900.0},\n {'activated': 1, 'velocity': 85, 'note': 65, 'time': 6912.0},\n {'activated': 0, 'velocity': 0, 'note': 57, 'time': 7143.0},\n {'activated': 0, 'velocity': 0, 'note': 41, 'time': 7143.0},\n {'activated': 0, 'velocity': 0, 'note': 65, 'time': 7156.0},\n {'activated': 1, 'velocity': 82, 'note': 64, 'time': 7168.0},\n {'activated': 1, 'velocity': 70, 'note': 55, 'time': 7168.0},\n {'activated': 1, 'velocity': 73, 'note': 43, 'time': 7168.0},\n {'activated': 0, 'velocity': 0, 'note': 64, 'time': 7412.0},\n {'activated': 1, 'velocity': 82, 'note': 64, 'time': 7424.0},\n {'activated': 0, 'velocity': 0, 'note': 55, 'time': 7655.0},\n {'activated': 0, 'velocity': 0, 'note': 43, 'time': 7655.0},\n {'activated': 0, 'velocity': 0, 'note': 64, 'time': 7668.0},\n {'activated': 1, 'velocity': 83, 'note': 62, 'time': 7680.0},\n {'activated': 1, 'velocity': 70, 'note': 55, 'time': 7680.0},\n {'activated': 1, 'velocity': 69, 'note': 43, 'time': 7680.0},\n {'activated': 0, 'velocity': 0, 'note': 62, 'time': 8167.0},\n {'activated': 0, 'velocity': 0, 'note': 55, 'time': 8167.0},\n {'activated': 0, 'velocity': 0, 'note': 43, 'time': 8167.0},\n {'activated': 1, 'velocity': 82, 'note': 60, 'time': 8192.0},\n {'activated': 1, 'velocity': 69, 'note': 52, 'time': 8192.0},\n {'activated': 1, 'velocity': 73, 'note': 48, 'time': 8192.0},\n {'activated': 0, 'velocity': 0, 'note': 60, 'time': 8436.0},\n {'activated': 1, 'velocity': 83, 'note': 60, 'time': 8448.0},\n {'activated': 0, 'velocity': 0, 'note': 52, 'time': 8679.0},\n {'activated': 0, 'velocity': 0, 'note': 48, 'time': 8679.0},\n {'activated': 0, 'velocity': 0, 'note': 60, 'time': 8692.0},\n {'activated': 1, 'velocity': 90, 'note': 67, 'time': 8704.0},\n {'activated': 1, 'velocity': 80, 'note': 60, 'time': 8704.0},\n {'activated': 1, 'velocity': 72, 'note': 48, 'time': 8704.0},\n {'activated': 0, 'velocity': 0, 'note': 67, 'time': 8948.0},\n {'activated': 1, 'velocity': 83, 'note': 67, 'time': 8960.0},\n {'activated': 0, 'velocity': 0, 'note': 60, 'time': 9191.0},\n {'activated': 0, 'velocity': 0, 'note': 48, 'time': 9191.0},\n {'activated': 0, 'velocity': 0, 'note': 67, 'time': 9204.0},\n {'activated': 1, 'velocity': 87, 'note': 69, 'time': 9216.0},\n {'activated': 1, 'velocity': 69, 'note': 60, 'time': 9216.0},\n {'activated': 1, 'velocity': 68, 'note': 41, 'time': 9216.0},\n {'activated': 0, 'velocity': 0, 'note': 69, 'time': 9460.0},\n {'activated': 1, 'velocity': 81, 'note': 69, 'time': 9472.0},\n {'activated': 0, 'velocity': 0, 'note': 60, 'time': 9703.0},\n {'activated': 0, 'velocity': 0, 'note': 41, 'time': 9703.0},\n {'activated': 0, 'velocity': 0, 'note': 69, 'time': 9716.0},\n {'activated': 1, 'velocity': 79, 'note': 67, 'time': 9728.0},\n {'activated': 1, 'velocity': 72, 'note': 60, 'time': 9728.0},\n {'activated': 1, 'velocity': 73, 'note': 48, 'time': 9728.0},\n {'activated': 0, 'velocity': 0, 'note': 67, 'time': 10215.0},\n {'activated': 0, 'velocity': 0, 'note': 60, 'time': 10215.0},\n {'activated': 0, 'velocity': 0, 'note': 48, 'time': 10215.0},\n {'activated': 1, 'velocity': 81, 'note': 65, 'time': 10240.0},\n {'activated': 1, 'velocity': 69, 'note': 57, 'time': 10240.0},\n {'activated': 1, 'velocity': 68, 'note': 41, 'time': 10240.0},\n {'activated': 0, 'velocity': 0, 'note': 65, 'time': 10484.0},\n {'activated': 1, 'velocity': 83, 'note': 65, 'time': 10496.0},\n {'activated': 0, 'velocity': 0, 'note': 57, 'time': 10727.0},\n {'activated': 0, 'velocity': 0, 'note': 41, 'time': 10727.0},\n {'activated': 0, 'velocity': 0, 'note': 65, 'time': 10740.0},\n {'activated': 1, 'velocity': 81, 'note': 64, 'time': 10752.0},\n {'activated': 1, 'velocity': 70, 'note': 55, 'time': 10752.0},\n {'activated': 1, 'velocity': 75, 'note': 48, 'time': 10752.0},\n {'activated': 0, 'velocity': 0, 'note': 64, 'time': 10996.0},\n {'activated': 1, 'velocity': 84, 'note': 64, 'time': 11008.0},\n {'activated': 0, 'velocity': 0, 'note': 55, 'time': 11239.0},\n {'activated': 0, 'velocity': 0, 'note': 48, 'time': 11239.0},\n {'activated': 0, 'velocity': 0, 'note': 64, 'time': 11252.0},\n {'activated': 1, 'velocity': 82, 'note': 62, 'time': 11264.0},\n {'activated': 1, 'velocity': 71, 'note': 55, 'time': 11264.0},\n {'activated': 1, 'velocity': 69, 'note': 43, 'time': 11264.0},\n {'activated': 0, 'velocity': 0, 'note': 62, 'time': 11508.0},\n {'activated': 1, 'velocity': 83, 'note': 62, 'time': 11520.0},\n {'activated': 0, 'velocity': 0, 'note': 55, 'time': 11751.0},\n {'activated': 0, 'velocity': 0, 'note': 43, 'time': 11751.0},\n {'activated': 0, 'velocity': 0, 'note': 62, 'time': 11764.0},\n {'activated': 1, 'velocity': 80, 'note': 60, 'time': 11776.0},\n {'activated': 1, 'velocity': 70, 'note': 52, 'time': 11776.0},\n {'activated': 1, 'velocity': 74, 'note': 48, 'time': 11776.0},\n {'activated': 0, 'velocity': 0, 'note': 60, 'time': 12263.0},\n {'activated': 0, 'velocity': 0, 'note': 52, 'time': 12263.0},\n {'activated': 0, 'velocity': 0, 'note': 48, 'time': 12263.0}]"
     },
     "execution_count": 11,
     "metadata": {},
     "output_type": "execute_result"
    }
   ],
   "source": [
    "data = []\n",
    "# msg is type mido.MetaMessage\n",
    "prevTime = 0\n",
    "for msg in mid:\n",
    "    if msg.type == \"note_on\" or msg.type == \"note_off\":\n",
    "        calc_time = round(msg.time * (487/1.2014765585) * 1000)/1000\n",
    "        data.append({\n",
    "            \"activated\": int(msg.type == \"note_on\"),\n",
    "            \"velocity\": msg.bytes()[-1],\n",
    "            \"note\": msg.bytes()[1],\n",
    "            \"time\": calc_time + prevTime})\n",
    "        prevTime += calc_time\n",
    "data"
   ],
   "metadata": {
    "collapsed": false,
    "ExecuteTime": {
     "start_time": "2023-05-08T04:17:57.529270Z",
     "end_time": "2023-05-08T04:17:57.569822Z"
    }
   }
  },
  {
   "cell_type": "code",
   "execution_count": 12,
   "outputs": [
    {
     "data": {
      "text/plain": "[array([-1,  3,  2, -1,  1, -1]),\n array([-1,  3,  2, -1,  1, -1]),\n array([-1,  3,  2, -1,  1, -1]),\n array([-1,  3,  2, -1, -1, -1]),\n array([-1,  3,  2, -1,  1, -1]),\n array([-1,  3,  2, -1,  1, -1]),\n array([-1, -1, -1, -1, -1, -1]),\n array([-1,  3, -1, -1,  1,  3]),\n array([-1,  3, -1, -1,  1,  3]),\n array([-1,  3, -1, -1,  1, -1]),\n array([-1,  3, -1, -1,  1,  3]),\n array([-1,  3, -1, -1,  1,  3]),\n array([-1, -1, -1, -1, -1,  3]),\n array([ 1, -1, -1, -1,  1,  5]),\n array([ 1, -1, -1, -1,  1,  5]),\n array([ 1, -1, -1, -1,  1,  5]),\n array([ 1, -1, -1, -1,  1,  5]),\n array([ 1, -1, -1, -1,  1,  5]),\n array([-1, -1, -1, -1, -1,  5]),\n array([-1,  3, -1, -1,  1,  3]),\n array([-1,  3, -1, -1,  1,  3]),\n array([-1,  3, -1, -1,  1,  3]),\n array([-1,  3, -1, -1,  1,  3]),\n array([-1,  3, -1, -1,  1,  3]),\n array([-1,  3, -1, -1,  1,  3]),\n array([ 1, -1, -1,  2, -1,  1]),\n array([ 1, -1, -1,  2, -1,  1]),\n array([ 1, -1, -1,  2, -1,  1]),\n array([ 1, -1, -1,  2, -1,  1]),\n array([ 1, -1, -1,  2, -1,  1]),\n array([ 1, -1, -1,  2, -1,  1]),\n array([-1,  3, -1,  0, -1,  0]),\n array([-1,  3, -1,  0, -1,  0]),\n array([-1,  3, -1,  0, -1,  0]),\n array([-1,  3, -1,  0, -1,  0]),\n array([-1,  3, -1,  0, -1,  0]),\n array([-1,  3, -1,  0, -1,  0]),\n array([ 3, -1, -1,  0,  3, -1]),\n array([ 3, -1, -1,  0,  3, -1]),\n array([ 3, -1, -1,  0,  3, -1]),\n array([ 3, -1, -1,  0,  3, -1]),\n array([ 3, -1, -1,  0,  3, -1]),\n array([ 3, -1, -1,  0,  3, -1]),\n array([-1,  3,  2, -1,  1, -1]),\n array([-1,  3,  2, -1,  1, -1]),\n array([-1,  3,  2, -1,  1, -1]),\n array([-1,  3,  2, -1,  1, -1]),\n array([-1,  3,  2, -1,  1, -1]),\n array([-1,  3,  2, -1,  1, -1]),\n array([-1,  3, -1, -1,  1,  3]),\n array([-1,  3, -1, -1,  1,  3]),\n array([-1,  3, -1, -1,  1,  3]),\n array([-1,  3, -1, -1,  1,  3]),\n array([-1,  3, -1, -1,  1,  3]),\n array([-1,  3, -1, -1,  1,  3]),\n array([ 1, -1, -1,  2, -1,  1]),\n array([ 1, -1, -1,  2, -1,  1]),\n array([ 1, -1, -1,  2, -1,  1]),\n array([ 1, -1, -1,  2, -1,  1]),\n array([ 1, -1, -1,  2, -1,  1]),\n array([ 1, -1, -1,  2, -1,  1]),\n array([ 3, -1, -1,  0, -1,  0]),\n array([ 3, -1, -1,  0, -1,  0]),\n array([ 3, -1, -1,  0, -1,  0]),\n array([ 3, -1, -1,  0, -1,  0]),\n array([ 3, -1, -1,  0, -1,  0]),\n array([ 3, -1, -1,  0, -1,  0]),\n array([-1, -1, -1, -1, -1, -1]),\n array([ 3, -1, -1,  0,  3, -1]),\n array([ 3, -1, -1,  0,  3, -1]),\n array([ 3, -1, -1,  0,  3, -1]),\n array([ 3, -1, -1,  0,  3, -1]),\n array([ 3, -1, -1,  0,  3, -1]),\n array([-1, -1, -1, -1, -1, -1]),\n array([-1,  3, -1, -1,  1,  3]),\n array([-1,  3, -1, -1,  1,  3]),\n array([-1,  3, -1, -1,  1,  3]),\n array([-1,  3, -1, -1,  1,  3]),\n array([-1,  3, -1, -1,  1,  3]),\n array([-1, -1, -1, -1, -1,  3]),\n array([ 1, -1, -1,  2, -1,  1]),\n array([ 1, -1, -1,  2, -1,  1]),\n array([ 1, -1, -1,  2, -1,  1]),\n array([ 1, -1, -1,  2, -1,  1]),\n array([ 1, -1, -1,  2, -1,  1]),\n array([ 1, -1, -1,  2, -1,  1]),\n array([ 3, -1, -1,  0, -1,  0]),\n array([ 3, -1, -1,  0, -1,  0]),\n array([ 3, -1, -1,  0, -1,  0]),\n array([ 3, -1, -1,  0, -1,  0]),\n array([ 3, -1, -1,  0, -1,  0]),\n array([ 3, -1, -1,  0, -1,  0]),\n array([ 3, -1, -1,  0,  3, -1]),\n array([ 3, -1, -1,  0,  3, -1]),\n array([ 3, -1, -1,  0,  3, -1]),\n array([ 3, -1, -1,  0,  3, -1]),\n array([ 3, -1, -1,  0,  3, -1]),\n array([ 3, -1, -1,  0,  3, -1]),\n array([-1,  3,  2, -1,  1, -1]),\n array([-1,  3,  2, -1,  1, -1]),\n array([-1,  3,  2, -1,  1, -1]),\n array([-1,  3,  2, -1,  1, -1]),\n array([-1,  3,  2, -1,  1, -1]),\n array([-1,  3,  2, -1,  1, -1]),\n array([-1,  3, -1, -1,  1,  3]),\n array([-1,  3, -1, -1,  1,  3]),\n array([-1,  3, -1, -1,  1,  3]),\n array([-1,  3, -1, -1,  1,  3]),\n array([-1,  3, -1, -1,  1,  3]),\n array([-1,  3, -1, -1,  1,  3]),\n array([ 1, -1, -1, -1,  1,  5]),\n array([ 1, -1, -1, -1,  1,  5]),\n array([ 1, -1, -1, -1,  1,  5]),\n array([ 1, -1, -1, -1,  1,  5]),\n array([ 1, -1, -1, -1,  1,  5]),\n array([ 1, -1, -1, -1,  1,  5]),\n array([-1,  3, -1, -1,  1,  3]),\n array([-1,  3, -1, -1,  1,  3]),\n array([-1,  3, -1, -1,  1,  3]),\n array([-1,  3, -1, -1,  1,  3]),\n array([-1,  3, -1, -1,  1,  3]),\n array([-1,  3, -1, -1,  1,  3]),\n array([ 1, -1, -1,  2, -1,  1]),\n array([ 1, -1, -1,  2, -1,  1]),\n array([ 1, -1, -1,  2, -1,  1]),\n array([ 1, -1, -1,  2, -1,  1]),\n array([ 1, -1, -1,  2, -1,  1]),\n array([ 1, -1, -1,  2, -1,  1]),\n array([-1,  3, -1,  0, -1,  0]),\n array([-1,  3, -1,  0, -1,  0]),\n array([-1,  3, -1,  0, -1,  0]),\n array([-1,  3, -1,  0, -1, -1]),\n array([-1,  3, -1,  0, -1,  0]),\n array([-1,  3, -1,  0, -1,  0]),\n array([-1, -1, -1, -1, -1, -1]),\n array([ 3, -1, -1,  0,  3, -1]),\n array([ 3, -1, -1,  0,  3, -1]),\n array([ 3, -1, -1,  0, -1, -1]),\n array([ 3, -1, -1,  0,  3, -1]),\n array([ 3, -1, -1,  0,  3, -1]),\n array([-1, -1, -1, -1,  3, -1]),\n array([-1,  3,  2, -1,  1, -1]),\n array([-1,  3,  2, -1,  1, -1]),\n array([-1,  3,  2, -1,  1, -1]),\n array([-1,  3,  2, -1,  1, -1]),\n array([-1,  3,  2, -1,  1, -1])]"
     },
     "execution_count": 12,
     "metadata": {},
     "output_type": "execute_result"
    }
   ],
   "source": [
    "def get_notes_at_time(notes_data, at_time):\n",
    "    # detect which notes are \"activated\" at a given time\n",
    "    notes = {}\n",
    "    for note in notes_data:\n",
    "        if note[\"time\"] <= at_time:\n",
    "            if note[\"activated\"]:\n",
    "                notes[note[\"note\"]] = note\n",
    "\n",
    "            else:\n",
    "                if note[\"note\"] in list(notes.keys()):\n",
    "                    notes.pop(note[\"note\"])\n",
    "    return list(notes.values())\n",
    "\n",
    "def get_chord_at_time(note_data, at_time):\n",
    "    fret_positions = []\n",
    "    for note in get_notes_at_time(data, at_time):\n",
    "        fret_positions.append(get_fret_positions(note[\"note\"]))\n",
    "    strings = []\n",
    "\n",
    "    chord = np.full(6, -1)\n",
    "\n",
    "    for position in fret_positions:\n",
    "        # get the lowest not -1 fret position and index of lowest fret position in each position list\n",
    "        lowest = min([x for x in position if x != -1 and position.index(x) not in strings])\n",
    "        strings.append(position.index(lowest))\n",
    "        chord[position.index(lowest)] = lowest\n",
    "\n",
    "    return chord\n",
    "\n",
    "chords = []\n",
    "for i in range(0, 12263, 84):\n",
    "    chords.append(get_chord_at_time(data, i))\n",
    "\n",
    "chords"
   ],
   "metadata": {
    "collapsed": false,
    "ExecuteTime": {
     "start_time": "2023-05-08T04:17:57.553105Z",
     "end_time": "2023-05-08T04:17:57.618443Z"
    }
   }
  },
  {
   "cell_type": "code",
   "execution_count": 13,
   "outputs": [],
   "source": [
    "NOTES = [\"C\", \"C#\", \"D\", \"D#\", \"E\", \"F\", \"F#\", \"G\", \"G#\", \"A\", \"A#\", \"B\"]\n",
    "\n",
    "\n",
    "class Scales(Enum):\n",
    "    IONIAN = 0\n",
    "    DORIAN = 2\n",
    "    PHRYGIAN = 4\n",
    "    LYDIAN = 5\n",
    "    MIXOLYDIAN = 7\n",
    "    AEOLIAN = 9\n",
    "    LOCRIAN = 11\n",
    "\n",
    "\n",
    "PATTERNS_C_IONIAN = [\n",
    "    [[0, 1, 3], [0, 2, 3], [0, 2, 3], [0, 2, 4], [0, 1, 3], [0, 1, 3]],\n",
    "    [[0, 2, 4], [1, 2, 4], [1, 2, 4], [1, 3, 4], [0, 2, 4], [0, 2, 4]],\n",
    "    [[1, 3], [0, 1, 3], [0, 1, 3], [0, 2, 3], [1, 3, 4], [1, 3]],\n",
    "    [[0, 2, 4], [0, 2, 4], [0, 2, 4], [1, 2, 4], [0, 2, 3], [0, 2, 4]],\n",
    "    [[1, 3, 4], [1, 3, 4], [1, 3], [0, 1, 3], [2, 3, 4], [1, 3, 4]],\n",
    "    [[0, 2, 3], [0, 2, 3], [0, 2, 4], [0, 2, 4], [0, 1, 3], [0, 2, 3]],\n",
    "    [[1, 2, 4], [1, 2, 4], [1, 3, 4], [1, 3, 4], [0, 2, 4], [1, 2, 4]],\n",
    "    [[0, 1, 3], [0, 1, 3], [0, 2, 3], [0, 2, 3], [1, 3], [0, 1, 3]],\n",
    "    [[0, 2, 4], [0, 2, 4], [1, 2, 4], [1, 2, 4], [0, 2, 4], [0, 2, 4]],\n",
    "    [[1, 3, 4], [1, 3], [0, 1, 3], [0, 1, 3], [1, 3, 4], [1, 3, 4]],\n",
    "    [[0, 2, 3], [0, 2, 4], [0, 2, 4], [0, 2, 4], [0, 2, 3], [0, 2, 3]],\n",
    "    [[1, 2, 4], [1, 3, 4], [1, 3, 4], [1, 3], [1, 2, 4], [1, 2, 4]]]"
   ],
   "metadata": {
    "collapsed": false,
    "ExecuteTime": {
     "start_time": "2023-05-08T04:17:57.640643Z",
     "end_time": "2023-05-08T04:17:57.698793Z"
    }
   }
  },
  {
   "cell_type": "code",
   "execution_count": 14,
   "outputs": [],
   "source": [
    "def get_pattern(key, scale=Scales.IONIAN):\n",
    "    to_index = (len(NOTES) - NOTES.index(key)) + scale.value\n",
    "    if to_index >= len(PATTERNS_C_IONIAN):\n",
    "        to_index = to_index - len(PATTERNS_C_IONIAN)\n",
    "\n",
    "    return PATTERNS_C_IONIAN[to_index:] + PATTERNS_C_IONIAN[:to_index]"
   ],
   "metadata": {
    "collapsed": false,
    "ExecuteTime": {
     "start_time": "2023-05-08T04:17:57.687144Z",
     "end_time": "2023-05-08T04:17:57.701093Z"
    }
   }
  },
  {
   "cell_type": "code",
   "execution_count": 15,
   "outputs": [],
   "source": [
    "def generate_chord(pattern=None, key=\"C\", scale=Scales.IONIAN, position=0, include_position=False, note_count=3):\n",
    "    # Generate a random chord\n",
    "    if pattern is None:\n",
    "        pattern = get_pattern(key, scale=scale)\n",
    "    chord = []\n",
    "    chosen_strings = random.sample(range(6), note_count)\n",
    "    for i in range(6):\n",
    "        if i in chosen_strings:\n",
    "            chord.append(random.choice(pattern[position][i]) + include_position * position)\n",
    "        else:\n",
    "            chord.append(-1)\n",
    "    return chord"
   ],
   "metadata": {
    "collapsed": false,
    "ExecuteTime": {
     "start_time": "2023-05-08T04:17:57.695075Z",
     "end_time": "2023-05-08T04:17:57.776014Z"
    }
   }
  },
  {
   "cell_type": "code",
   "execution_count": 16,
   "outputs": [],
   "source": [
    "def generate_note(pattern=None, key=\"C\", scale=Scales.IONIAN, position=0, include_position=False):\n",
    "    generate_chord(pattern=pattern, key=key, scale=scale, position=position, include_position=include_position,\n",
    "                   note_count=1)"
   ],
   "metadata": {
    "collapsed": false,
    "ExecuteTime": {
     "start_time": "2023-05-08T04:17:57.767491Z",
     "end_time": "2023-05-08T04:17:57.778601Z"
    }
   }
  },
  {
   "cell_type": "code",
   "execution_count": 17,
   "outputs": [
    {
     "data": {
      "text/plain": "[[[1, 3], [0, 1, 3], [0, 1, 3], [0, 2, 3], [1, 3, 4], [1, 3]],\n [[0, 2, 4], [0, 2, 4], [0, 2, 4], [1, 2, 4], [0, 2, 3], [0, 2, 4]],\n [[1, 3, 4], [1, 3, 4], [1, 3], [0, 1, 3], [2, 3, 4], [1, 3, 4]],\n [[0, 2, 3], [0, 2, 3], [0, 2, 4], [0, 2, 4], [0, 1, 3], [0, 2, 3]],\n [[1, 2, 4], [1, 2, 4], [1, 3, 4], [1, 3, 4], [0, 2, 4], [1, 2, 4]],\n [[0, 1, 3], [0, 1, 3], [0, 2, 3], [0, 2, 3], [1, 3], [0, 1, 3]],\n [[0, 2, 4], [0, 2, 4], [1, 2, 4], [1, 2, 4], [0, 2, 4], [0, 2, 4]],\n [[1, 3, 4], [1, 3], [0, 1, 3], [0, 1, 3], [1, 3, 4], [1, 3, 4]],\n [[0, 2, 3], [0, 2, 4], [0, 2, 4], [0, 2, 4], [0, 2, 3], [0, 2, 3]],\n [[1, 2, 4], [1, 3, 4], [1, 3, 4], [1, 3], [1, 2, 4], [1, 2, 4]],\n [[0, 1, 3], [0, 2, 3], [0, 2, 3], [0, 2, 4], [0, 1, 3], [0, 1, 3]],\n [[0, 2, 4], [1, 2, 4], [1, 2, 4], [1, 3, 4], [0, 2, 4], [0, 2, 4]]]"
     },
     "execution_count": 17,
     "metadata": {},
     "output_type": "execute_result"
    }
   ],
   "source": [
    "get_pattern(\"C\", scale=Scales.DORIAN)"
   ],
   "metadata": {
    "collapsed": false,
    "ExecuteTime": {
     "start_time": "2023-05-08T04:17:57.803098Z",
     "end_time": "2023-05-08T04:17:57.839952Z"
    }
   }
  },
  {
   "cell_type": "code",
   "execution_count": 18,
   "outputs": [
    {
     "data": {
      "text/plain": "[3, -1, -1, 7, 7, -1]"
     },
     "execution_count": 18,
     "metadata": {},
     "output_type": "execute_result"
    }
   ],
   "source": [
    "generate_chord(\n",
    "    key=\"D\",\n",
    "    scale=Scales.MIXOLYDIAN,\n",
    "    position=random.randrange(0, 5),\n",
    "    include_position=True,\n",
    "    note_count=random.randrange(2, 5))"
   ],
   "metadata": {
    "collapsed": false,
    "ExecuteTime": {
     "start_time": "2023-05-08T04:17:57.820122Z",
     "end_time": "2023-05-08T04:17:57.854650Z"
    }
   }
  },
  {
   "cell_type": "code",
   "execution_count": 19,
   "outputs": [
    {
     "data": {
      "text/plain": "MidiFile(type=1, ticks_per_beat=256, tracks=[\n  MidiTrack([\n    MetaMessage('time_signature', numerator=4, denominator=4, clocks_per_click=24, notated_32nd_notes_per_beat=8, time=0),\n    MetaMessage('key_signature', key='C', time=0),\n    MetaMessage('set_tempo', tempo=631577, time=0),\n    MetaMessage('track_name', name='Greensleeves', time=0),\n    MetaMessage('text', text='Traditional', time=0),\n    MetaMessage('copyright', text='Jim Paterson', time=0),\n    MetaMessage('end_of_track', time=1)]),\n  MidiTrack([\n    Message('program_change', channel=0, program=0, time=0),\n    Message('control_change', channel=0, control=121, value=0, time=0),\n    Message('control_change', channel=0, control=64, value=0, time=0),\n    Message('control_change', channel=0, control=10, value=63, time=0),\n    Message('control_change', channel=0, control=7, value=95, time=0),\n    Message('note_on', channel=0, note=60, velocity=77, time=0),\n    Message('note_on', channel=0, note=52, velocity=63, time=0),\n    Message('control_change', channel=0, control=121, value=0, time=0),\n    Message('control_change', channel=0, control=64, value=0, time=0),\n    Message('control_change', channel=0, control=10, value=63, time=0),\n    Message('control_change', channel=0, control=7, value=95, time=0),\n    MetaMessage('track_name', name='Piano', time=0),\n    Message('note_on', channel=0, note=48, velocity=64, time=0),\n    Message('note_off', channel=0, note=60, velocity=0, time=244),\n    Message('note_on', channel=0, note=60, velocity=83, time=12),\n    Message('note_off', channel=0, note=52, velocity=0, time=231),\n    Message('note_off', channel=0, note=48, velocity=0, time=0),\n    Message('note_off', channel=0, note=60, velocity=0, time=13),\n    Message('note_on', channel=0, note=67, velocity=90, time=12),\n    Message('note_on', channel=0, note=60, velocity=77, time=0),\n    Message('note_on', channel=0, note=48, velocity=71, time=0),\n    Message('note_off', channel=0, note=67, velocity=0, time=244),\n    Message('note_on', channel=0, note=67, velocity=87, time=12),\n    Message('note_off', channel=0, note=60, velocity=0, time=231),\n    Message('note_off', channel=0, note=48, velocity=0, time=0),\n    Message('note_off', channel=0, note=67, velocity=0, time=13),\n    Message('note_on', channel=0, note=69, velocity=86, time=12),\n    Message('note_on', channel=0, note=60, velocity=73, time=0),\n    Message('note_on', channel=0, note=41, velocity=66, time=0),\n    Message('note_off', channel=0, note=69, velocity=0, time=244),\n    Message('note_on', channel=0, note=69, velocity=83, time=12),\n    Message('note_off', channel=0, note=60, velocity=0, time=231),\n    Message('note_off', channel=0, note=41, velocity=0, time=0),\n    Message('note_off', channel=0, note=69, velocity=0, time=13),\n    Message('note_on', channel=0, note=67, velocity=81, time=12),\n    Message('note_on', channel=0, note=60, velocity=75, time=0),\n    Message('note_on', channel=0, note=48, velocity=71, time=0),\n    Message('note_off', channel=0, note=67, velocity=0, time=487),\n    Message('note_off', channel=0, note=60, velocity=0, time=0),\n    Message('note_off', channel=0, note=48, velocity=0, time=0),\n    Message('note_on', channel=0, note=65, velocity=80, time=25),\n    Message('note_on', channel=0, note=57, velocity=70, time=0),\n    Message('note_on', channel=0, note=41, velocity=68, time=0),\n    Message('note_off', channel=0, note=65, velocity=0, time=244),\n    Message('note_on', channel=0, note=65, velocity=85, time=12),\n    Message('note_off', channel=0, note=57, velocity=0, time=231),\n    Message('note_off', channel=0, note=41, velocity=0, time=0),\n    Message('note_off', channel=0, note=65, velocity=0, time=13),\n    Message('note_on', channel=0, note=64, velocity=82, time=12),\n    Message('note_on', channel=0, note=55, velocity=69, time=0),\n    Message('note_on', channel=0, note=48, velocity=76, time=0),\n    Message('note_off', channel=0, note=64, velocity=0, time=244),\n    Message('note_on', channel=0, note=64, velocity=84, time=12),\n    Message('note_off', channel=0, note=55, velocity=0, time=231),\n    Message('note_off', channel=0, note=48, velocity=0, time=0),\n    Message('note_off', channel=0, note=64, velocity=0, time=13),\n    Message('note_on', channel=0, note=62, velocity=81, time=12),\n    Message('note_on', channel=0, note=55, velocity=71, time=0),\n    Message('note_on', channel=0, note=43, velocity=69, time=0),\n    Message('note_off', channel=0, note=62, velocity=0, time=244),\n    Message('note_on', channel=0, note=62, velocity=83, time=12),\n    Message('note_off', channel=0, note=55, velocity=0, time=231),\n    Message('note_off', channel=0, note=43, velocity=0, time=0),\n    Message('note_off', channel=0, note=62, velocity=0, time=13),\n    Message('note_on', channel=0, note=60, velocity=81, time=12),\n    Message('note_on', channel=0, note=52, velocity=71, time=0),\n    Message('note_on', channel=0, note=48, velocity=75, time=0),\n    Message('note_off', channel=0, note=60, velocity=0, time=487),\n    Message('note_off', channel=0, note=52, velocity=0, time=0),\n    Message('note_off', channel=0, note=48, velocity=0, time=0),\n    Message('note_on', channel=0, note=67, velocity=94, time=25),\n    Message('note_on', channel=0, note=60, velocity=80, time=0),\n    Message('note_on', channel=0, note=48, velocity=72, time=0),\n    Message('note_off', channel=0, note=67, velocity=0, time=244),\n    Message('note_on', channel=0, note=67, velocity=83, time=12),\n    Message('note_off', channel=0, note=60, velocity=0, time=231),\n    Message('note_off', channel=0, note=48, velocity=0, time=0),\n    Message('note_off', channel=0, note=67, velocity=0, time=13),\n    Message('note_on', channel=0, note=65, velocity=81, time=12),\n    Message('note_on', channel=0, note=57, velocity=71, time=0),\n    Message('note_on', channel=0, note=41, velocity=68, time=0),\n    Message('note_off', channel=0, note=65, velocity=0, time=244),\n    Message('note_on', channel=0, note=65, velocity=84, time=12),\n    Message('note_off', channel=0, note=57, velocity=0, time=231),\n    Message('note_off', channel=0, note=41, velocity=0, time=0),\n    Message('note_off', channel=0, note=65, velocity=0, time=13),\n    Message('note_on', channel=0, note=64, velocity=82, time=12),\n    Message('note_on', channel=0, note=55, velocity=70, time=0),\n    Message('note_on', channel=0, note=43, velocity=73, time=0),\n    Message('note_off', channel=0, note=64, velocity=0, time=244),\n    Message('note_on', channel=0, note=64, velocity=84, time=12),\n    Message('note_off', channel=0, note=55, velocity=0, time=231),\n    Message('note_off', channel=0, note=43, velocity=0, time=0),\n    Message('note_off', channel=0, note=64, velocity=0, time=13),\n    Message('note_on', channel=0, note=62, velocity=82, time=12),\n    Message('note_on', channel=0, note=55, velocity=67, time=0),\n    Message('note_on', channel=0, note=43, velocity=72, time=0),\n    Message('note_off', channel=0, note=62, velocity=0, time=487),\n    Message('note_off', channel=0, note=55, velocity=0, time=0),\n    Message('note_off', channel=0, note=43, velocity=0, time=0),\n    Message('note_on', channel=0, note=67, velocity=90, time=25),\n    Message('note_on', channel=0, note=60, velocity=76, time=0),\n    Message('note_on', channel=0, note=48, velocity=73, time=0),\n    Message('note_off', channel=0, note=67, velocity=0, time=244),\n    Message('note_on', channel=0, note=67, velocity=84, time=12),\n    Message('note_off', channel=0, note=60, velocity=0, time=231),\n    Message('note_off', channel=0, note=48, velocity=0, time=0),\n    Message('note_off', channel=0, note=67, velocity=0, time=13),\n    Message('note_on', channel=0, note=65, velocity=84, time=12),\n    Message('note_on', channel=0, note=57, velocity=71, time=0),\n    Message('note_on', channel=0, note=41, velocity=68, time=0),\n    Message('note_off', channel=0, note=65, velocity=0, time=244),\n    Message('note_on', channel=0, note=65, velocity=85, time=12),\n    Message('note_off', channel=0, note=57, velocity=0, time=231),\n    Message('note_off', channel=0, note=41, velocity=0, time=0),\n    Message('note_off', channel=0, note=65, velocity=0, time=13),\n    Message('note_on', channel=0, note=64, velocity=82, time=12),\n    Message('note_on', channel=0, note=55, velocity=70, time=0),\n    Message('note_on', channel=0, note=43, velocity=73, time=0),\n    Message('note_off', channel=0, note=64, velocity=0, time=244),\n    Message('note_on', channel=0, note=64, velocity=82, time=12),\n    Message('note_off', channel=0, note=55, velocity=0, time=231),\n    Message('note_off', channel=0, note=43, velocity=0, time=0),\n    Message('note_off', channel=0, note=64, velocity=0, time=13),\n    Message('note_on', channel=0, note=62, velocity=83, time=12),\n    Message('note_on', channel=0, note=55, velocity=70, time=0),\n    Message('note_on', channel=0, note=43, velocity=69, time=0),\n    Message('note_off', channel=0, note=62, velocity=0, time=487),\n    Message('note_off', channel=0, note=55, velocity=0, time=0),\n    Message('note_off', channel=0, note=43, velocity=0, time=0),\n    Message('note_on', channel=0, note=60, velocity=82, time=25),\n    Message('note_on', channel=0, note=52, velocity=69, time=0),\n    Message('note_on', channel=0, note=48, velocity=73, time=0),\n    Message('note_off', channel=0, note=60, velocity=0, time=244),\n    Message('note_on', channel=0, note=60, velocity=83, time=12),\n    Message('note_off', channel=0, note=52, velocity=0, time=231),\n    Message('note_off', channel=0, note=48, velocity=0, time=0),\n    Message('note_off', channel=0, note=60, velocity=0, time=13),\n    Message('note_on', channel=0, note=67, velocity=90, time=12),\n    Message('note_on', channel=0, note=60, velocity=80, time=0),\n    Message('note_on', channel=0, note=48, velocity=72, time=0),\n    Message('note_off', channel=0, note=67, velocity=0, time=244),\n    Message('note_on', channel=0, note=67, velocity=83, time=12),\n    Message('note_off', channel=0, note=60, velocity=0, time=231),\n    Message('note_off', channel=0, note=48, velocity=0, time=0),\n    Message('note_off', channel=0, note=67, velocity=0, time=13),\n    Message('note_on', channel=0, note=69, velocity=87, time=12),\n    Message('note_on', channel=0, note=60, velocity=69, time=0),\n    Message('note_on', channel=0, note=41, velocity=68, time=0),\n    Message('note_off', channel=0, note=69, velocity=0, time=244),\n    Message('note_on', channel=0, note=69, velocity=81, time=12),\n    Message('note_off', channel=0, note=60, velocity=0, time=231),\n    Message('note_off', channel=0, note=41, velocity=0, time=0),\n    Message('note_off', channel=0, note=69, velocity=0, time=13),\n    Message('note_on', channel=0, note=67, velocity=79, time=12),\n    Message('note_on', channel=0, note=60, velocity=72, time=0),\n    Message('note_on', channel=0, note=48, velocity=73, time=0),\n    Message('note_off', channel=0, note=67, velocity=0, time=487),\n    Message('note_off', channel=0, note=60, velocity=0, time=0),\n    Message('note_off', channel=0, note=48, velocity=0, time=0),\n    Message('note_on', channel=0, note=65, velocity=81, time=25),\n    Message('note_on', channel=0, note=57, velocity=69, time=0),\n    Message('note_on', channel=0, note=41, velocity=68, time=0),\n    Message('note_off', channel=0, note=65, velocity=0, time=244),\n    Message('note_on', channel=0, note=65, velocity=83, time=12),\n    Message('note_off', channel=0, note=57, velocity=0, time=231),\n    Message('note_off', channel=0, note=41, velocity=0, time=0),\n    Message('note_off', channel=0, note=65, velocity=0, time=13),\n    Message('note_on', channel=0, note=64, velocity=81, time=12),\n    Message('note_on', channel=0, note=55, velocity=70, time=0),\n    Message('note_on', channel=0, note=48, velocity=75, time=0),\n    Message('note_off', channel=0, note=64, velocity=0, time=244),\n    Message('note_on', channel=0, note=64, velocity=84, time=12),\n    Message('note_off', channel=0, note=55, velocity=0, time=231),\n    Message('note_off', channel=0, note=48, velocity=0, time=0),\n    Message('note_off', channel=0, note=64, velocity=0, time=13),\n    Message('note_on', channel=0, note=62, velocity=82, time=12),\n    Message('note_on', channel=0, note=55, velocity=71, time=0),\n    Message('note_on', channel=0, note=43, velocity=69, time=0),\n    Message('note_off', channel=0, note=62, velocity=0, time=244),\n    Message('note_on', channel=0, note=62, velocity=83, time=12),\n    Message('note_off', channel=0, note=55, velocity=0, time=231),\n    Message('note_off', channel=0, note=43, velocity=0, time=0),\n    Message('note_off', channel=0, note=62, velocity=0, time=13),\n    Message('note_on', channel=0, note=60, velocity=80, time=12),\n    Message('note_on', channel=0, note=52, velocity=70, time=0),\n    Message('note_on', channel=0, note=48, velocity=74, time=0),\n    Message('note_off', channel=0, note=60, velocity=0, time=487),\n    Message('note_off', channel=0, note=52, velocity=0, time=0),\n    Message('note_off', channel=0, note=48, velocity=0, time=0),\n    MetaMessage('end_of_track', time=1)])\n])"
     },
     "execution_count": 19,
     "metadata": {},
     "output_type": "execute_result"
    }
   ],
   "source": [
    "mid = mido.MidiFile(\"twinkle-twinkle-little-star.mid\")\n",
    "mid"
   ],
   "metadata": {
    "collapsed": false,
    "ExecuteTime": {
     "start_time": "2023-05-08T04:17:57.867269Z",
     "end_time": "2023-05-08T04:17:57.899640Z"
    }
   }
  },
  {
   "cell_type": "code",
   "execution_count": 20,
   "outputs": [
    {
     "data": {
      "text/plain": "[{'activated': 1, 'velocity': 77, 'note': 60, 'time': 0},\n {'activated': 1, 'velocity': 63, 'note': 52, 'time': 0},\n {'activated': 1, 'velocity': 64, 'note': 48, 'time': 0},\n {'activated': 0, 'velocity': 0, 'note': 60, 'time': 244},\n {'activated': 1, 'velocity': 83, 'note': 60, 'time': 256},\n {'activated': 0, 'velocity': 0, 'note': 52, 'time': 487},\n {'activated': 0, 'velocity': 0, 'note': 48, 'time': 487},\n {'activated': 0, 'velocity': 0, 'note': 60, 'time': 500},\n {'activated': 1, 'velocity': 90, 'note': 67, 'time': 512},\n {'activated': 1, 'velocity': 77, 'note': 60, 'time': 512},\n {'activated': 1, 'velocity': 71, 'note': 48, 'time': 512},\n {'activated': 0, 'velocity': 0, 'note': 67, 'time': 756},\n {'activated': 1, 'velocity': 87, 'note': 67, 'time': 768},\n {'activated': 0, 'velocity': 0, 'note': 60, 'time': 999},\n {'activated': 0, 'velocity': 0, 'note': 48, 'time': 999},\n {'activated': 0, 'velocity': 0, 'note': 67, 'time': 1012},\n {'activated': 1, 'velocity': 86, 'note': 69, 'time': 1024},\n {'activated': 1, 'velocity': 73, 'note': 60, 'time': 1024},\n {'activated': 1, 'velocity': 66, 'note': 41, 'time': 1024},\n {'activated': 0, 'velocity': 0, 'note': 69, 'time': 1268},\n {'activated': 1, 'velocity': 83, 'note': 69, 'time': 1280},\n {'activated': 0, 'velocity': 0, 'note': 60, 'time': 1511},\n {'activated': 0, 'velocity': 0, 'note': 41, 'time': 1511},\n {'activated': 0, 'velocity': 0, 'note': 69, 'time': 1524},\n {'activated': 1, 'velocity': 81, 'note': 67, 'time': 1536},\n {'activated': 1, 'velocity': 75, 'note': 60, 'time': 1536},\n {'activated': 1, 'velocity': 71, 'note': 48, 'time': 1536},\n {'activated': 0, 'velocity': 0, 'note': 67, 'time': 2023},\n {'activated': 0, 'velocity': 0, 'note': 60, 'time': 2023},\n {'activated': 0, 'velocity': 0, 'note': 48, 'time': 2023},\n {'activated': 1, 'velocity': 80, 'note': 65, 'time': 2048},\n {'activated': 1, 'velocity': 70, 'note': 57, 'time': 2048},\n {'activated': 1, 'velocity': 68, 'note': 41, 'time': 2048},\n {'activated': 0, 'velocity': 0, 'note': 65, 'time': 2292},\n {'activated': 1, 'velocity': 85, 'note': 65, 'time': 2304},\n {'activated': 0, 'velocity': 0, 'note': 57, 'time': 2535},\n {'activated': 0, 'velocity': 0, 'note': 41, 'time': 2535},\n {'activated': 0, 'velocity': 0, 'note': 65, 'time': 2548},\n {'activated': 1, 'velocity': 82, 'note': 64, 'time': 2560},\n {'activated': 1, 'velocity': 69, 'note': 55, 'time': 2560},\n {'activated': 1, 'velocity': 76, 'note': 48, 'time': 2560},\n {'activated': 0, 'velocity': 0, 'note': 64, 'time': 2804},\n {'activated': 1, 'velocity': 84, 'note': 64, 'time': 2816},\n {'activated': 0, 'velocity': 0, 'note': 55, 'time': 3047},\n {'activated': 0, 'velocity': 0, 'note': 48, 'time': 3047},\n {'activated': 0, 'velocity': 0, 'note': 64, 'time': 3060},\n {'activated': 1, 'velocity': 81, 'note': 62, 'time': 3072},\n {'activated': 1, 'velocity': 71, 'note': 55, 'time': 3072},\n {'activated': 1, 'velocity': 69, 'note': 43, 'time': 3072},\n {'activated': 0, 'velocity': 0, 'note': 62, 'time': 3316},\n {'activated': 1, 'velocity': 83, 'note': 62, 'time': 3328},\n {'activated': 0, 'velocity': 0, 'note': 55, 'time': 3559},\n {'activated': 0, 'velocity': 0, 'note': 43, 'time': 3559},\n {'activated': 0, 'velocity': 0, 'note': 62, 'time': 3572},\n {'activated': 1, 'velocity': 81, 'note': 60, 'time': 3584},\n {'activated': 1, 'velocity': 71, 'note': 52, 'time': 3584},\n {'activated': 1, 'velocity': 75, 'note': 48, 'time': 3584},\n {'activated': 0, 'velocity': 0, 'note': 60, 'time': 4071},\n {'activated': 0, 'velocity': 0, 'note': 52, 'time': 4071},\n {'activated': 0, 'velocity': 0, 'note': 48, 'time': 4071},\n {'activated': 1, 'velocity': 94, 'note': 67, 'time': 4096},\n {'activated': 1, 'velocity': 80, 'note': 60, 'time': 4096},\n {'activated': 1, 'velocity': 72, 'note': 48, 'time': 4096},\n {'activated': 0, 'velocity': 0, 'note': 67, 'time': 4340},\n {'activated': 1, 'velocity': 83, 'note': 67, 'time': 4352},\n {'activated': 0, 'velocity': 0, 'note': 60, 'time': 4583},\n {'activated': 0, 'velocity': 0, 'note': 48, 'time': 4583},\n {'activated': 0, 'velocity': 0, 'note': 67, 'time': 4596},\n {'activated': 1, 'velocity': 81, 'note': 65, 'time': 4608},\n {'activated': 1, 'velocity': 71, 'note': 57, 'time': 4608},\n {'activated': 1, 'velocity': 68, 'note': 41, 'time': 4608},\n {'activated': 0, 'velocity': 0, 'note': 65, 'time': 4852},\n {'activated': 1, 'velocity': 84, 'note': 65, 'time': 4864},\n {'activated': 0, 'velocity': 0, 'note': 57, 'time': 5095},\n {'activated': 0, 'velocity': 0, 'note': 41, 'time': 5095},\n {'activated': 0, 'velocity': 0, 'note': 65, 'time': 5108},\n {'activated': 1, 'velocity': 82, 'note': 64, 'time': 5120},\n {'activated': 1, 'velocity': 70, 'note': 55, 'time': 5120},\n {'activated': 1, 'velocity': 73, 'note': 43, 'time': 5120},\n {'activated': 0, 'velocity': 0, 'note': 64, 'time': 5364},\n {'activated': 1, 'velocity': 84, 'note': 64, 'time': 5376},\n {'activated': 0, 'velocity': 0, 'note': 55, 'time': 5607},\n {'activated': 0, 'velocity': 0, 'note': 43, 'time': 5607},\n {'activated': 0, 'velocity': 0, 'note': 64, 'time': 5620},\n {'activated': 1, 'velocity': 82, 'note': 62, 'time': 5632},\n {'activated': 1, 'velocity': 67, 'note': 55, 'time': 5632},\n {'activated': 1, 'velocity': 72, 'note': 43, 'time': 5632},\n {'activated': 0, 'velocity': 0, 'note': 62, 'time': 6119},\n {'activated': 0, 'velocity': 0, 'note': 55, 'time': 6119},\n {'activated': 0, 'velocity': 0, 'note': 43, 'time': 6119},\n {'activated': 1, 'velocity': 90, 'note': 67, 'time': 6144},\n {'activated': 1, 'velocity': 76, 'note': 60, 'time': 6144},\n {'activated': 1, 'velocity': 73, 'note': 48, 'time': 6144},\n {'activated': 0, 'velocity': 0, 'note': 67, 'time': 6388},\n {'activated': 1, 'velocity': 84, 'note': 67, 'time': 6400},\n {'activated': 0, 'velocity': 0, 'note': 60, 'time': 6631},\n {'activated': 0, 'velocity': 0, 'note': 48, 'time': 6631},\n {'activated': 0, 'velocity': 0, 'note': 67, 'time': 6644},\n {'activated': 1, 'velocity': 84, 'note': 65, 'time': 6656},\n {'activated': 1, 'velocity': 71, 'note': 57, 'time': 6656},\n {'activated': 1, 'velocity': 68, 'note': 41, 'time': 6656},\n {'activated': 0, 'velocity': 0, 'note': 65, 'time': 6900},\n {'activated': 1, 'velocity': 85, 'note': 65, 'time': 6912},\n {'activated': 0, 'velocity': 0, 'note': 57, 'time': 7143},\n {'activated': 0, 'velocity': 0, 'note': 41, 'time': 7143},\n {'activated': 0, 'velocity': 0, 'note': 65, 'time': 7156},\n {'activated': 1, 'velocity': 82, 'note': 64, 'time': 7168},\n {'activated': 1, 'velocity': 70, 'note': 55, 'time': 7168},\n {'activated': 1, 'velocity': 73, 'note': 43, 'time': 7168},\n {'activated': 0, 'velocity': 0, 'note': 64, 'time': 7412},\n {'activated': 1, 'velocity': 82, 'note': 64, 'time': 7424},\n {'activated': 0, 'velocity': 0, 'note': 55, 'time': 7655},\n {'activated': 0, 'velocity': 0, 'note': 43, 'time': 7655},\n {'activated': 0, 'velocity': 0, 'note': 64, 'time': 7668},\n {'activated': 1, 'velocity': 83, 'note': 62, 'time': 7680},\n {'activated': 1, 'velocity': 70, 'note': 55, 'time': 7680},\n {'activated': 1, 'velocity': 69, 'note': 43, 'time': 7680},\n {'activated': 0, 'velocity': 0, 'note': 62, 'time': 8167},\n {'activated': 0, 'velocity': 0, 'note': 55, 'time': 8167},\n {'activated': 0, 'velocity': 0, 'note': 43, 'time': 8167},\n {'activated': 1, 'velocity': 82, 'note': 60, 'time': 8192},\n {'activated': 1, 'velocity': 69, 'note': 52, 'time': 8192},\n {'activated': 1, 'velocity': 73, 'note': 48, 'time': 8192},\n {'activated': 0, 'velocity': 0, 'note': 60, 'time': 8436},\n {'activated': 1, 'velocity': 83, 'note': 60, 'time': 8448},\n {'activated': 0, 'velocity': 0, 'note': 52, 'time': 8679},\n {'activated': 0, 'velocity': 0, 'note': 48, 'time': 8679},\n {'activated': 0, 'velocity': 0, 'note': 60, 'time': 8692},\n {'activated': 1, 'velocity': 90, 'note': 67, 'time': 8704},\n {'activated': 1, 'velocity': 80, 'note': 60, 'time': 8704},\n {'activated': 1, 'velocity': 72, 'note': 48, 'time': 8704},\n {'activated': 0, 'velocity': 0, 'note': 67, 'time': 8948},\n {'activated': 1, 'velocity': 83, 'note': 67, 'time': 8960},\n {'activated': 0, 'velocity': 0, 'note': 60, 'time': 9191},\n {'activated': 0, 'velocity': 0, 'note': 48, 'time': 9191},\n {'activated': 0, 'velocity': 0, 'note': 67, 'time': 9204},\n {'activated': 1, 'velocity': 87, 'note': 69, 'time': 9216},\n {'activated': 1, 'velocity': 69, 'note': 60, 'time': 9216},\n {'activated': 1, 'velocity': 68, 'note': 41, 'time': 9216},\n {'activated': 0, 'velocity': 0, 'note': 69, 'time': 9460},\n {'activated': 1, 'velocity': 81, 'note': 69, 'time': 9472},\n {'activated': 0, 'velocity': 0, 'note': 60, 'time': 9703},\n {'activated': 0, 'velocity': 0, 'note': 41, 'time': 9703},\n {'activated': 0, 'velocity': 0, 'note': 69, 'time': 9716},\n {'activated': 1, 'velocity': 79, 'note': 67, 'time': 9728},\n {'activated': 1, 'velocity': 72, 'note': 60, 'time': 9728},\n {'activated': 1, 'velocity': 73, 'note': 48, 'time': 9728},\n {'activated': 0, 'velocity': 0, 'note': 67, 'time': 10215},\n {'activated': 0, 'velocity': 0, 'note': 60, 'time': 10215},\n {'activated': 0, 'velocity': 0, 'note': 48, 'time': 10215},\n {'activated': 1, 'velocity': 81, 'note': 65, 'time': 10240},\n {'activated': 1, 'velocity': 69, 'note': 57, 'time': 10240},\n {'activated': 1, 'velocity': 68, 'note': 41, 'time': 10240},\n {'activated': 0, 'velocity': 0, 'note': 65, 'time': 10484},\n {'activated': 1, 'velocity': 83, 'note': 65, 'time': 10496},\n {'activated': 0, 'velocity': 0, 'note': 57, 'time': 10727},\n {'activated': 0, 'velocity': 0, 'note': 41, 'time': 10727},\n {'activated': 0, 'velocity': 0, 'note': 65, 'time': 10740},\n {'activated': 1, 'velocity': 81, 'note': 64, 'time': 10752},\n {'activated': 1, 'velocity': 70, 'note': 55, 'time': 10752},\n {'activated': 1, 'velocity': 75, 'note': 48, 'time': 10752},\n {'activated': 0, 'velocity': 0, 'note': 64, 'time': 10996},\n {'activated': 1, 'velocity': 84, 'note': 64, 'time': 11008},\n {'activated': 0, 'velocity': 0, 'note': 55, 'time': 11239},\n {'activated': 0, 'velocity': 0, 'note': 48, 'time': 11239},\n {'activated': 0, 'velocity': 0, 'note': 64, 'time': 11252},\n {'activated': 1, 'velocity': 82, 'note': 62, 'time': 11264},\n {'activated': 1, 'velocity': 71, 'note': 55, 'time': 11264},\n {'activated': 1, 'velocity': 69, 'note': 43, 'time': 11264},\n {'activated': 0, 'velocity': 0, 'note': 62, 'time': 11508},\n {'activated': 1, 'velocity': 83, 'note': 62, 'time': 11520},\n {'activated': 0, 'velocity': 0, 'note': 55, 'time': 11751},\n {'activated': 0, 'velocity': 0, 'note': 43, 'time': 11751},\n {'activated': 0, 'velocity': 0, 'note': 62, 'time': 11764},\n {'activated': 1, 'velocity': 80, 'note': 60, 'time': 11776},\n {'activated': 1, 'velocity': 70, 'note': 52, 'time': 11776},\n {'activated': 1, 'velocity': 74, 'note': 48, 'time': 11776},\n {'activated': 0, 'velocity': 0, 'note': 60, 'time': 12263},\n {'activated': 0, 'velocity': 0, 'note': 52, 'time': 12263},\n {'activated': 0, 'velocity': 0, 'note': 48, 'time': 12263}]"
     },
     "execution_count": 20,
     "metadata": {},
     "output_type": "execute_result"
    }
   ],
   "source": [
    "data = []\n",
    "# msg is type mido.MetaMessage\n",
    "prevTime = 0\n",
    "for msg in mid:\n",
    "    if msg.type == \"note_on\" or msg.type == \"note_off\":\n",
    "        calc_time = round(msg.time * (487/1.2014765585))\n",
    "        data.append({\n",
    "            \"activated\": int(msg.type == \"note_on\"),\n",
    "            \"velocity\": msg.bytes()[-1],\n",
    "            \"note\": msg.bytes()[1],\n",
    "            \"time\": calc_time + prevTime})\n",
    "        prevTime += calc_time\n",
    "data"
   ],
   "metadata": {
    "collapsed": false,
    "ExecuteTime": {
     "start_time": "2023-05-08T04:17:57.910078Z",
     "end_time": "2023-05-08T04:17:57.973351Z"
    }
   }
  },
  {
   "cell_type": "code",
   "execution_count": 21,
   "outputs": [],
   "source": [
    "open_string_values = [40, 45, 50, 55, 59, 64]\n",
    "\n",
    "def get_fret_positions(note):\n",
    "    positions = []\n",
    "    for string_value in open_string_values:\n",
    "        if note[\"note\"] >= string_value:\n",
    "            if (note[\"note\"]-string_value) > 22:\n",
    "                positions.append(-1)\n",
    "            else:\n",
    "                positions.append(note[\"note\"] - string_value)\n",
    "        else:\n",
    "            positions.append(-1)\n",
    "    return positions"
   ],
   "metadata": {
    "collapsed": false,
    "ExecuteTime": {
     "start_time": "2023-05-08T04:17:57.963122Z",
     "end_time": "2023-05-08T04:17:58.008166Z"
    }
   }
  },
  {
   "cell_type": "code",
   "execution_count": 22,
   "outputs": [],
   "source": [
    "def get_notes_at_time(notes_data, at_time):\n",
    "    # detect which notes are \"activated\" at a given time\n",
    "    notes = {}\n",
    "    for note in notes_data:\n",
    "        if note[\"time\"] <= at_time:\n",
    "            if note[\"activated\"]:\n",
    "                notes[note[\"note\"]] = note\n",
    "            else:\n",
    "                if note[\"note\"] in list(notes.keys()):\n",
    "                    notes.pop(note[\"note\"])\n",
    "    return list(notes.values())"
   ],
   "metadata": {
    "collapsed": false,
    "ExecuteTime": {
     "start_time": "2023-05-08T04:17:57.997965Z",
     "end_time": "2023-05-08T04:17:58.069798Z"
    }
   }
  },
  {
   "cell_type": "code",
   "execution_count": 23,
   "outputs": [],
   "source": [
    "def get_chord_at_time(note_data, at_time):\n",
    "    fret_positions_velocity = []\n",
    "    for note in get_notes_at_time(data, at_time):\n",
    "        fret_positions_velocity.append((get_fret_positions(note), note[\"velocity\"], note[\"time\"], at_time))\n",
    "    strings = []\n",
    "    chord = np.full((6, 4), -1)\n",
    "    for position in fret_positions_velocity:\n",
    "        # get the lowest not -1 fret position and index of lowest fret position in each position list\n",
    "        lowest = min([x for x in position[0] if x != -1 and position[0].index(x) not in strings])\n",
    "        strings.append(position[0].index(lowest))\n",
    "        chord[position[0].index(lowest)] = [lowest, position[1], position[2], position[3]]\n",
    "\n",
    "    return chord"
   ],
   "metadata": {
    "collapsed": false,
    "ExecuteTime": {
     "start_time": "2023-05-08T04:17:58.039462Z",
     "end_time": "2023-05-08T04:17:58.071230Z"
    }
   }
  },
  {
   "cell_type": "code",
   "execution_count": 24,
   "outputs": [
    {
     "name": "stdout",
     "output_type": "stream",
     "text": [
      "[0, 244, 256, 487, 500, 512, 756, 768, 999, 1012, 1024, 1268, 1280, 1511, 1524, 1536, 2023, 2048, 2292, 2304, 2535, 2548, 2560, 2804, 2816, 3047, 3060, 3072, 3316, 3328, 3559, 3572, 3584, 4071, 4096, 4340, 4352, 4583, 4596, 4608, 4852, 4864, 5095, 5108, 5120, 5364, 5376, 5607, 5620, 5632, 6119, 6144, 6388, 6400, 6631, 6644, 6656, 6900, 6912, 7143, 7156, 7168, 7412, 7424, 7655, 7668, 7680, 8167, 8192, 8436, 8448, 8679, 8692, 8704, 8948, 8960, 9191, 9204, 9216, 9460, 9472, 9703, 9716, 9728, 10215, 10240, 10484, 10496, 10727, 10740, 10752, 10996, 11008, 11239, 11252, 11264, 11508, 11520, 11751, 11764, 11776, 12263]\n",
      "12\n"
     ]
    },
    {
     "data": {
      "text/plain": "array([[[   -1,    -1,    -1,    -1],\n        [    3,    64,     0,     0],\n        [    2,    63,     0,     0],\n        [   -1,    -1,    -1,    -1],\n        [    1,    77,     0,     0],\n        [   -1,    -1,    -1,    -1]],\n\n       [[   -1,    -1,    -1,    -1],\n        [    3,    64,     0,   244],\n        [    2,    63,     0,   244],\n        [   -1,    -1,    -1,    -1],\n        [   -1,    -1,    -1,    -1],\n        [   -1,    -1,    -1,    -1]],\n\n       [[   -1,    -1,    -1,    -1],\n        [    3,    64,     0,   256],\n        [    2,    63,     0,   256],\n        [   -1,    -1,    -1,    -1],\n        [    1,    83,   256,   256],\n        [   -1,    -1,    -1,    -1]],\n\n       ...,\n\n       [[   -1,    -1,    -1,    -1],\n        [   -1,    -1,    -1,    -1],\n        [   -1,    -1,    -1,    -1],\n        [   -1,    -1,    -1,    -1],\n        [   -1,    -1,    -1,    -1],\n        [   -1,    -1,    -1,    -1]],\n\n       [[   -1,    -1,    -1,    -1],\n        [    3,    74, 11776, 11776],\n        [    2,    70, 11776, 11776],\n        [   -1,    -1,    -1,    -1],\n        [    1,    80, 11776, 11776],\n        [   -1,    -1,    -1,    -1]],\n\n       [[   -1,    -1,    -1,    -1],\n        [   -1,    -1,    -1,    -1],\n        [   -1,    -1,    -1,    -1],\n        [   -1,    -1,    -1,    -1],\n        [   -1,    -1,    -1,    -1],\n        [   -1,    -1,    -1,    -1]]])"
     },
     "execution_count": 24,
     "metadata": {},
     "output_type": "execute_result"
    }
   ],
   "source": [
    "def get_keyframes(note_data):\n",
    "    keyframes = set()\n",
    "    for note in note_data:\n",
    "        keyframes.add(note[\"time\"])\n",
    "\n",
    "    return list(sorted(keyframes))\n",
    "\n",
    "print(get_keyframes(data))\n",
    "#find smallest distance between keyframes\n",
    "def get_smallest_distance(keyframes):\n",
    "    smallest = 100000\n",
    "    for key_i in range(len(keyframes)-1):\n",
    "        if keyframes[key_i+1] - keyframes[key_i] < smallest:\n",
    "            smallest = keyframes[key_i+1] - keyframes[key_i]\n",
    "    return smallest\n",
    "\n",
    "print(get_smallest_distance(get_keyframes(data)))\n",
    "chords = np.full((len(get_keyframes(data)), 6, 4), -1)\n",
    "for k_i, keyframe in enumerate(get_keyframes(data)):\n",
    "    chords[k_i] = get_chord_at_time(data, keyframe)\n",
    "\n",
    "chords"
   ],
   "metadata": {
    "collapsed": false,
    "ExecuteTime": {
     "start_time": "2023-05-08T04:17:58.071920Z",
     "end_time": "2023-05-08T04:17:58.123725Z"
    }
   }
  },
  {
   "cell_type": "code",
   "execution_count": 25,
   "outputs": [],
   "source": [
    "# Save 3D chord array to CSV\n",
    "np.savetxt(\"twinkle.csv\", chords.reshape((chords.shape[0], -1)), delimiter=\",\", fmt=\"%d\")\n",
    "\n",
    "# Example C# code for loading CSV and reshaping to 3D array\n",
    "# int[,] chords = new int[File.ReadLines(\"twinkle.csv\").Count(), 6, 4];\n",
    "# int[] chords1D = File.ReadAllText(\"twinkle.csv\").Split(',').Select(int.Parse).ToArray();\n",
    "# for (int i = 0; i < chords1D.Length; i++)\n",
    "# {\n",
    "#     chords[i / 24, (i / 4) % 6, i % 4] = chords1D[i];\n",
    "# }\n",
    "\n",
    "\n"
   ],
   "metadata": {
    "collapsed": false,
    "ExecuteTime": {
     "start_time": "2023-05-08T04:17:58.139128Z",
     "end_time": "2023-05-08T04:17:58.143064Z"
    }
   }
  },
  {
   "cell_type": "code",
   "execution_count": 26,
   "outputs": [],
   "source": [
    "def post_process_duration(y_pred):\n",
    "    # Round duration to the nearest multiple of 0.125\n",
    "    y_pred[:] = np.round(y_pred[:] / 0.125) * 0.125\n",
    "\n",
    "    return y_pred"
   ],
   "metadata": {
    "collapsed": false,
    "ExecuteTime": {
     "start_time": "2023-05-08T04:17:58.661402Z",
     "end_time": "2023-05-08T04:17:58.667591Z"
    }
   }
  },
  {
   "cell_type": "code",
   "execution_count": 27,
   "outputs": [],
   "source": [
    "def post_process_velocity(y_pred):\n",
    "    # Clip velocity to the range 1-127\n",
    "    y_pred[:] = np.clip(np.round(y_pred[:]), 1, 127)\n",
    "\n",
    "    return y_pred"
   ],
   "metadata": {
    "collapsed": false,
    "ExecuteTime": {
     "start_time": "2023-05-08T04:17:58.930098Z",
     "end_time": "2023-05-08T04:17:58.935614Z"
    }
   }
  },
  {
   "cell_type": "code",
   "execution_count": null,
   "outputs": [],
   "source": [
    "def preprocess_input(x):\n",
    "    # Convert chords to binary\n",
    "    x = np.array([[''.join([bin(x)[2:].zfill(6) for x in row]) for row in level] for level in (x + 1)])\n",
    "\n",
    "    return x"
   ],
   "metadata": {
    "collapsed": false
   }
  },
  {
   "cell_type": "code",
   "execution_count": null,
   "outputs": [],
   "source": [
    "POPULATION = 100\n",
    "NOTES_PER = 100"
   ],
   "metadata": {
    "collapsed": false
   }
  },
  {
   "cell_type": "code",
   "execution_count": null,
   "outputs": [],
   "source": [
    "rand_chords_x = np.array([[generate_chord(position=i % 12, note_count=(random.randrange(1, 5)), include_position=True) for i in range(NOTES_PER)] for _ in range(POPULATION)])\n",
    "rand_chords_x"
   ],
   "metadata": {
    "collapsed": false
   }
  },
  {
   "cell_type": "code",
   "execution_count": null,
   "outputs": [],
   "source": [
    "rand_chords_x_flat = preprocess_input(rand_chords_x)\n",
    "rand_chords_x_flat"
   ],
   "metadata": {
    "collapsed": false
   }
  },
  {
   "cell_type": "code",
   "execution_count": null,
   "outputs": [],
   "source": [
    "rand_durations = np.array(\n",
    "    [[round(random.random() / 0.125) * 0.125 for _ in range(NOTES_PER)] for _ in range(POPULATION)])\n",
    "rand_durations"
   ],
   "metadata": {
    "collapsed": false
   }
  },
  {
   "cell_type": "code",
   "execution_count": null,
   "outputs": [],
   "source": [
    "rand_velocities = np.array([[random.randrange(50, 127) for _ in range(NOTES_PER)] for _ in range(POPULATION)])\n",
    "\n",
    "rand_velocities"
   ],
   "metadata": {
    "collapsed": false
   }
  },
  {
   "cell_type": "code",
   "execution_count": null,
   "outputs": [],
   "source": [
    "dur_regr = RandomForestRegressor(n_estimators=100)\n",
    "dur_regr.fit(rand_chords_x_flat, rand_durations)\n",
    "vel_regr = RandomForestRegressor(n_estimators=100)\n",
    "vel_regr.fit(rand_chords_x_flat, rand_velocities)\n",
    "\n",
    "X_test = np.array([[generate_chord(position=i % 12, note_count=(random.randrange(1, 5)), include_position=True) for i in\n",
    "                    range(NOTES_PER)] for _ in range(POPULATION)])\n",
    "preprocess_input(X_test)"
   ],
   "metadata": {
    "collapsed": false
   }
  },
  {
   "cell_type": "code",
   "execution_count": null,
   "outputs": [],
   "source": [
    "post_process_duration(dur_regr.predict(preprocess_input(X_test)))"
   ],
   "metadata": {
    "collapsed": false
   }
  },
  {
   "cell_type": "code",
   "execution_count": null,
   "outputs": [],
   "source": [
    "post_process_velocity(vel_regr.predict(preprocess_input(X_test)))"
   ],
   "metadata": {
    "collapsed": false
   }
  },
  {
   "cell_type": "code",
   "execution_count": null,
   "outputs": [],
   "source": [],
   "metadata": {
    "collapsed": false
   }
  },
  {
   "cell_type": "code",
   "execution_count": 8,
   "outputs": [],
   "source": [
    "def post_process_duration(y_pred):\n",
    "    # Round duration to the nearest multiple of 0.125\n",
    "    y_pred[:] = np.round(y_pred[:] / 0.125) * 0.125\n",
    "\n",
    "    return y_pred"
   ],
   "metadata": {
    "collapsed": false
   }
  },
  {
   "cell_type": "code",
   "execution_count": 9,
   "outputs": [],
   "source": [
    "def post_process_velocity(y_pred):\n",
    "    # Clip velocity to the range 1-127\n",
    "    y_pred[:] = np.clip(np.round(y_pred[:]), 1, 127)\n",
    "\n",
    "    return y_pred"
   ],
   "metadata": {
    "collapsed": false
   }
  },
  {
   "cell_type": "code",
   "execution_count": 220,
   "outputs": [],
   "source": [
    "def preprocess_input(x):\n",
    "    # Convert chords to binary\n",
    "    x = np.array([[''.join([bin(x)[2:].zfill(6) for x in row]) for row in level] for level in (x + 1)])\n",
    "\n",
    "    return x"
   ],
   "metadata": {
    "collapsed": false,
    "ExecuteTime": {
     "start_time": "2023-05-07T06:26:01.892029Z",
     "end_time": "2023-05-07T06:26:01.937729Z"
    }
   }
  },
  {
   "cell_type": "code",
   "execution_count": 11,
   "outputs": [],
   "source": [
    "POPULATION = 100\n",
    "NOTES_PER = 100"
   ],
   "metadata": {
    "collapsed": false
   }
  },
  {
   "cell_type": "code",
   "execution_count": 12,
   "outputs": [
    {
     "data": {
      "text/plain": "array([[[ 3,  0,  0, -1, -1,  0],\n        [-1, -1,  3, -1,  5, -1],\n        [ 3,  2, -1, -1,  6, -1],\n        ...,\n        [-1,  5, -1, -1,  3,  1],\n        [-1,  2,  3,  4, -1,  3],\n        [ 5, -1,  3, -1,  6, -1]],\n\n       [[ 0, -1, -1, -1, -1, -1],\n        [-1, -1, -1, -1,  3, -1],\n        [-1,  5,  5, -1,  3,  5],\n        ...,\n        [-1,  5, -1, -1, -1, -1],\n        [ 5, -1, -1, -1, -1, -1],\n        [-1,  7,  5,  4, -1,  5]],\n\n       [[ 3, -1,  2, -1,  3, -1],\n        [-1,  5, -1,  5, -1, -1],\n        [ 3, -1, -1,  5,  5, -1],\n        ...,\n        [ 5, -1, -1,  4,  3, -1],\n        [ 3,  3,  2, -1, -1,  5],\n        [ 3,  7, -1, -1, -1, -1]],\n\n       ...,\n\n       [[-1,  2, -1,  4, -1,  1],\n        [-1,  5, -1, -1, -1, -1],\n        [-1,  2,  3, -1, -1, -1],\n        ...,\n        [-1, -1,  5, -1,  5,  5],\n        [ 3, -1, -1,  4, -1, -1],\n        [ 3,  3, -1,  5,  6, -1]],\n\n       [[-1, -1,  3, -1, -1, -1],\n        [-1, -1,  5, -1,  3, -1],\n        [ 5, -1, -1,  4,  5, -1],\n        ...,\n        [ 5, -1,  5, -1, -1, -1],\n        [ 3, -1, -1, -1, -1,  5],\n        [-1,  7, -1,  5,  6, -1]],\n\n       [[-1, -1,  2,  2,  1,  0],\n        [-1, -1,  3, -1, -1, -1],\n        [ 3,  5,  5, -1, -1,  3],\n        ...,\n        [ 5, -1, -1,  5,  5,  5],\n        [ 3, -1, -1, -1, -1, -1],\n        [-1, -1,  7, -1, -1, -1]]])"
     },
     "execution_count": 12,
     "metadata": {},
     "output_type": "execute_result"
    }
   ],
   "source": [
    "rand_chords_x = np.array([[generate_chord(position=i % 12, note_count=(random.randrange(1, 5)), include_position=True) for i in range(NOTES_PER)] for _ in range(POPULATION)])\n",
    "rand_chords_x"
   ],
   "metadata": {
    "collapsed": false
   }
  },
  {
   "cell_type": "code",
   "execution_count": 13,
   "outputs": [
    {
     "data": {
      "text/plain": "array([['000100000001000001000000000000000001',\n        '000000000000000100000000000110000000',\n        '000100000011000000000000000111000000', ...,\n        '000000000110000000000000000100000010',\n        '000000000011000100000101000000000100',\n        '000110000000000100000000000111000000'],\n       ['000001000000000000000000000000000000',\n        '000000000000000000000000000100000000',\n        '000000000110000110000000000100000110', ...,\n        '000000000110000000000000000000000000',\n        '000110000000000000000000000000000000',\n        '000000001000000110000101000000000110'],\n       ['000100000000000011000000000100000000',\n        '000000000110000000000110000000000000',\n        '000100000000000000000110000110000000', ...,\n        '000110000000000000000101000100000000',\n        '000100000100000011000000000000000110',\n        '000100001000000000000000000000000000'],\n       ...,\n       ['000000000011000000000101000000000010',\n        '000000000110000000000000000000000000',\n        '000000000011000100000000000000000000', ...,\n        '000000000000000110000000000110000110',\n        '000100000000000000000101000000000000',\n        '000100000100000000000110000111000000'],\n       ['000000000000000100000000000000000000',\n        '000000000000000110000000000100000000',\n        '000110000000000000000101000110000000', ...,\n        '000110000000000110000000000000000000',\n        '000100000000000000000000000000000110',\n        '000000001000000000000110000111000000'],\n       ['000000000000000011000011000010000001',\n        '000000000000000100000000000000000000',\n        '000100000110000110000000000000000100', ...,\n        '000110000000000000000110000110000110',\n        '000100000000000000000000000000000000',\n        '000000000000001000000000000000000000']], dtype='<U36')"
     },
     "execution_count": 13,
     "metadata": {},
     "output_type": "execute_result"
    }
   ],
   "source": [
    "rand_chords_x_flat = preprocess_input(rand_chords_x)\n",
    "rand_chords_x_flat"
   ],
   "metadata": {
    "collapsed": false
   }
  },
  {
   "cell_type": "code",
   "execution_count": 14,
   "outputs": [
    {
     "data": {
      "text/plain": "array([[0.75 , 0.125, 0.75 , ..., 0.375, 0.375, 0.875],\n       [1.   , 0.875, 0.25 , ..., 0.375, 0.125, 0.625],\n       [0.625, 0.375, 0.25 , ..., 0.5  , 0.375, 0.625],\n       ...,\n       [0.5  , 0.375, 0.75 , ..., 0.75 , 0.   , 0.625],\n       [0.875, 0.25 , 0.5  , ..., 0.   , 0.5  , 0.125],\n       [0.625, 1.   , 0.125, ..., 0.625, 0.5  , 0.25 ]])"
     },
     "execution_count": 14,
     "metadata": {},
     "output_type": "execute_result"
    }
   ],
   "source": [
    "rand_durations = np.array(\n",
    "    [[round(random.random() / 0.125) * 0.125 for _ in range(NOTES_PER)] for _ in range(POPULATION)])\n",
    "rand_durations"
   ],
   "metadata": {
    "collapsed": false
   }
  },
  {
   "cell_type": "code",
   "execution_count": 15,
   "outputs": [
    {
     "data": {
      "text/plain": "array([[ 77,  60,  80, ..., 104, 120,  75],\n       [120,  81,  92, ..., 117,  94,  70],\n       [117, 102,  65, ..., 118, 119, 122],\n       ...,\n       [ 83, 106,  94, ..., 120,  56,  94],\n       [109, 118,  96, ..., 100,  78,  72],\n       [110, 113,  72, ...,  74, 111,  52]])"
     },
     "execution_count": 15,
     "metadata": {},
     "output_type": "execute_result"
    }
   ],
   "source": [
    "rand_velocities = np.array([[random.randrange(50, 127) for _ in range(NOTES_PER)] for _ in range(POPULATION)])\n",
    "\n",
    "rand_velocities"
   ],
   "metadata": {
    "collapsed": false
   }
  },
  {
   "cell_type": "code",
   "execution_count": 16,
   "outputs": [
    {
     "data": {
      "text/plain": "array([['000000000000000011000101000100000100',\n        '000000000011000011000011000110000000',\n        '000100000000000011000101000000000110', ...,\n        '000010000000000110000000000110000110',\n        '000100000000000000000000000110000000',\n        '001000001000000000000101000100000000'],\n       ['000000000000000011000000000001000000',\n        '000000000000000000000101000000000000',\n        '000000000000000110000000000000000000', ...,\n        '000000000000000000000011000010000000',\n        '000000000000000100000101000000000100',\n        '000000000110001000000000000000000000'],\n       ['000010000011000011000000000000000000',\n        '000010000000000100000011000000000010',\n        '000100000011000000000011000000000100', ...,\n        '000000000000000000000000000100000000',\n        '000000000000000011000011000000000000',\n        '000000000000000000000000000110000000'],\n       ...,\n       ['000001000000000000000000000000000100',\n        '000000000110000000000000000000000000',\n        '000000000000000000000000000000000110', ...,\n        '000000000011000000000110000110000000',\n        '000110000000000110000110000000000000',\n        '000000000000000100000000000000000000'],\n       ['000000000100000000000000000100000000',\n        '000000000110000000000000000010000010',\n        '000000000000000011000011000000000000', ...,\n        '000010000000000110000110000110000000',\n        '000100000000000000000011000000000000',\n        '000110000000000000000000000110000000'],\n       ['000010000011000011000000000010000000',\n        '000000000100000000000000000000000010',\n        '000000000000000110000000000000000000', ...,\n        '000000000011000000000000000000000100',\n        '000110000110000000000000000000000000',\n        '000100001000001000000000000110000000']], dtype='<U36')"
     },
     "execution_count": 16,
     "metadata": {},
     "output_type": "execute_result"
    }
   ],
   "source": [
    "dur_regr = RandomForestRegressor(n_estimators=100)\n",
    "dur_regr.fit(rand_chords_x_flat, rand_durations)\n",
    "vel_regr = RandomForestRegressor(n_estimators=100)\n",
    "vel_regr.fit(rand_chords_x_flat, rand_velocities)\n",
    "\n",
    "X_test = np.array([[generate_chord(position=i % 12, note_count=(random.randrange(1, 5)), include_position=True) for i in\n",
    "                    range(NOTES_PER)] for _ in range(POPULATION)])\n",
    "preprocess_input(X_test)"
   ],
   "metadata": {
    "collapsed": false
   }
  },
  {
   "cell_type": "code",
   "execution_count": 17,
   "outputs": [
    {
     "data": {
      "text/plain": "array([[0.5  , 0.5  , 0.5  , ..., 0.5  , 0.5  , 0.625],\n       [0.625, 0.5  , 0.5  , ..., 0.5  , 0.5  , 0.625],\n       [0.5  , 0.5  , 0.5  , ..., 0.5  , 0.5  , 0.625],\n       ...,\n       [0.5  , 0.5  , 0.5  , ..., 0.5  , 0.5  , 0.5  ],\n       [0.625, 0.5  , 0.625, ..., 0.5  , 0.5  , 0.5  ],\n       [0.5  , 0.375, 0.5  , ..., 0.625, 0.5  , 0.625]])"
     },
     "execution_count": 17,
     "metadata": {},
     "output_type": "execute_result"
    }
   ],
   "source": [
    "post_process_duration(dur_regr.predict(preprocess_input(X_test)))"
   ],
   "metadata": {
    "collapsed": false
   }
  },
  {
   "cell_type": "code",
   "execution_count": 18,
   "outputs": [
    {
     "data": {
      "text/plain": "array([[89., 88., 81., ..., 86., 86., 85.],\n       [87., 93., 86., ..., 87., 92., 90.],\n       [84., 95., 85., ..., 86., 92., 89.],\n       ...,\n       [85., 99., 88., ..., 92., 95., 91.],\n       [83., 94., 92., ..., 86., 88., 86.],\n       [83., 89., 87., ..., 85., 92., 86.]])"
     },
     "execution_count": 18,
     "metadata": {},
     "output_type": "execute_result"
    }
   ],
   "source": [
    "post_process_velocity(vel_regr.predict(preprocess_input(X_test)))"
   ],
   "metadata": {
    "collapsed": false
   }
  },
  {
   "cell_type": "code",
   "execution_count": null,
   "outputs": [],
   "source": [],
   "metadata": {
    "collapsed": false
   }
  }
 ],
 "metadata": {
  "kernelspec": {
   "display_name": "Python 3",
   "language": "python",
   "name": "python3"
  },
  "language_info": {
   "codemirror_mode": {
    "name": "ipython",
    "version": 2
   },
   "file_extension": ".py",
   "mimetype": "text/x-python",
   "name": "python",
   "nbconvert_exporter": "python",
   "pygments_lexer": "ipython2",
   "version": "2.7.6"
  }
 },
 "nbformat": 4,
 "nbformat_minor": 0
}
