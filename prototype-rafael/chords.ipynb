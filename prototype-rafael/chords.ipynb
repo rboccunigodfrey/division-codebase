{
 "cells": [
  {
   "cell_type": "markdown",
   "source": [
    "## Final Project - Rafael Boccuni-Godfrey\n",
    "\n",
    "All project code: [GitHub Repository](https://github.com/rboccunigodfrey/division-codebase)\n",
    "STATUS: PROTOTYPE"
   ],
   "metadata": {
    "collapsed": false
   }
  },
  {
   "cell_type": "markdown",
   "source": [
    "### Overview\n",
    "This project is meant to supplement my final project at Hampshire College, two robotic arrays (fretting hand and plucking hand) that can be mounted to a custom (but still made for a human) guitar to play it. The project for this class will be creating a simulation of how the solenoid array for the fretting hand would theoretically operate (travel times, non-instant movement, physical limitations), and then implement machine learning to  instruct a model to play MIDI songs by using the solenoids efficiently.\n",
    "\n",
    "There are two components to this project:\n",
    "1. Creating a Unity simulation and a python implementation of reading in MIDI files and converting them to a CSV representation that can be understood by the Unity program CSV reader, and includes all information needed for chords.\n",
    "2. Implement machine learning techniques in aspects of the process\n",
    "    - Velocity/note duration training\n",
    "    - Reinforcement learning via a feedback mechanism from the simulation.\n",
    "\n",
    "Here is a [video of randomized solenoid movement](https://youtu.be/W5E9KNPPcoI) and some screencaps showing the Unity side (and snippets of the C# code) of the project (you can also find this code [here](https://github.com/rboccunigodfrey/division-codebase/tree/master/unity/L_HAND/Assets/Scripts)):\n",
    "![image](unityscreen1.png)\n",
    "###### - Still of solenoid array\n",
    "![image](unityscreen2.jpg)\n",
    "###### - Implementation of solenoid movement and shrinkage as fret closeness increases\n",
    "![image](unityscreen3.jpg)\n",
    "###### - Integer-value control interface wrapper\n",
    "#### Code Explanation:\n",
    "Commands (where solenoid is a solenoid object, fret_hand is an array of solenoid objects, and arg is an integer):\n",
    "SActions.TiltX.SetFor(solenoid, arg): arg = -1, 0, 1\n",
    "SActions.TiltZ.SetFor(solenoid, arg): arg = -1, 0, 1\n",
    "SActions.TrackPosition.SetFor(solenoid, arg): arg = 0-1 or 0-2\n",
    "SActions.Activation.SetFor(solenoid, arg): arg = 0, 1\n",
    "FHActions.TrackPosition.SetFor(fret_hand, arg): arg = 3-19\n",
    "These commands can be used to control a fret hand object, and iterating through the 6 solenoids allows us to control them too.\n",
    "Ideally, this simple interface with integer-only parameters will allow for simple I/O processing once I start generating python models."
   ],
   "metadata": {
    "collapsed": false
   }
  },
  {
   "cell_type": "markdown",
   "source": [
    "### Progress Updates\n",
    "\n",
    "#### Week of April 20th:\n",
    "\n",
    "Progress:\n",
    "- I used this week to focus on building a simulated environment in Unity to control a 2x3 solenoid array\n",
    "- Wrote C# codebase for sending commands to the solenoids (can find in the repository link at the top of this document under unity/L_HAND/Assets/Scripts)\n",
    "- Physical restraints programmed in (movement lerping, spacing):\n",
    "https://youtu.be/W5E9KNPPcoI\n",
    "- Takes into account how frets get more frequent as the hand goes up the neck\n",
    "- Affects travel distance, solenoid track length, X and Z solenoid spacing\n",
    "\n",
    "Challenges:\n",
    "- The biggest challenges when writing this Unity program were a.) working with a language I am not quite familiar with (C#) and b.) formulating a way to update the relative positions of the solenoids to each other based on how close the frets around them are. When the solenoids travel along their paths, they need to know what the array position is, so they can travel to specific distances corresponding to the frets. Additionally, some fingers move positively along the neck, the other three move opposite, adding another level of complexity as the reverse-traveling solenoids must travel farther distances than the forward-traveling ones. Making sure the solenoids could both set and get their positions based on these constraints was the largest conceptual challenge this week.\n",
    "\n",
    "\n",
    "#### Week of April 27th:\n",
    "\n",
    "Progress:\n",
    "- Began writing Python code to generate chords based on some basic music theory. The program generates a chord pattern in the form of [x_1, x_2, x_3, x_4, x_5, x_6] where x_n is between -1 and 5 inclusive and corresponds to the fretted position on string n. E.g. [0, 3, 3, 2, 0, 0] corresponds to an open E chord, [-1, 0, 2, 2, 2, 0] to open A, etc. These numbers can be shifted by the value corresponding to the fret position the hand is located:\n",
    "\n",
    "\n",
    "Challenges:\n",
    "- The biggest challenge for me this week was thinking about the best way to represent notes in the code. I have a background in music, so it was interesting trying to think of how to learn music from a computer’s perspective. I decided that for now, the easiest representation makes the most sense: a length 6 integer array to create a chord at given fret positions, alongside duration and velocity information\n",
    "- I did easy parts of this chapter this week, the more difficult task will be coming up with a mechanism to translate this chord notation into machine commands of the types outlined in the unity code. The challenge arises because the program needs to learn how the robot’s physical (or in the simulation’s case, simulated) limitations prevent certain actions from being performed. In other words, it needs to learn to optimize its actions.\n",
    "- This was the main reason I wanted to make a simulation: I need some sort of reinforcement algorithm to use the state of the simulation to gauge the success of attempted actions, so having a local simulation running that can easily provide those numbers (albeit estimated) is a lot easier than building the whole circuit out.\n",
    "\n",
    "\n",
    "#### What's left?\n",
    "- Establish some feedback mechanism between the c# code and python code (i.e. unity writing solenoid position out every keyframe so that python can compare the desired position vs the actual position to get a rating of how well the command worked.\n",
    "- Successfully convert python csv output to solenoids. Currently, I am doing this by just converting the midi to csv in python, then figuring out how the solenoids should mobe in the c# code. However, I will likely change that when I implement the feedback above, since it will be easier to do all the training for the solenoid positioning in python. Therefore, an output file would not include chord info as it currently does, but keyframed per-solenoid movement mapping instead.\n",
    "- Visualize learning process via graphs, histograms, etc."
   ],
   "metadata": {
    "collapsed": false
   }
  },
  {
   "cell_type": "markdown",
   "source": [
    "### Jupyter Document\n",
    "\n",
    "The first part of this Jupyter document focuses on the Python side of the first component. A [MIDI file](twinkle-twinkle-little-star.mid) is imported, the `mido` library is used to extract event information from the file (on/off, velocity, note, and time). Several helper functions are used to convert individual event's notes into chord info (i.e. if two notes or more notes are playing at one time, they are grouped together). Finally, this chord information is generated for the whole MIDI file on a per-keyframe basis, and exported to a [CSV file](twinkle.csv). Each note in each chord contains info on the time it was activated and the time it was queried."
   ],
   "metadata": {
    "collapsed": false
   }
  },
  {
   "cell_type": "code",
   "execution_count": 1,
   "outputs": [],
   "source": [
    "# Imports\n",
    "\n",
    "import random\n",
    "import numpy as np\n",
    "from enum import Enum\n",
    "from sklearn.ensemble import RandomForestRegressor\n",
    "import mido"
   ],
   "metadata": {
    "collapsed": false,
    "ExecuteTime": {
     "end_time": "2023-05-10T00:38:56.662357Z",
     "start_time": "2023-05-10T00:38:46.682378200Z"
    }
   }
  },
  {
   "cell_type": "code",
   "execution_count": 2,
   "outputs": [
    {
     "data": {
      "text/plain": "MidiFile(type=1, ticks_per_beat=256, tracks=[\n  MidiTrack([\n    MetaMessage('time_signature', numerator=4, denominator=4, clocks_per_click=24, notated_32nd_notes_per_beat=8, time=0),\n    MetaMessage('key_signature', key='C', time=0),\n    MetaMessage('set_tempo', tempo=631577, time=0),\n    MetaMessage('track_name', name='Greensleeves', time=0),\n    MetaMessage('text', text='Traditional', time=0),\n    MetaMessage('copyright', text='Jim Paterson', time=0),\n    MetaMessage('end_of_track', time=1)]),\n  MidiTrack([\n    Message('program_change', channel=0, program=0, time=0),\n    Message('control_change', channel=0, control=121, value=0, time=0),\n    Message('control_change', channel=0, control=64, value=0, time=0),\n    Message('control_change', channel=0, control=10, value=63, time=0),\n    Message('control_change', channel=0, control=7, value=95, time=0),\n    Message('note_on', channel=0, note=60, velocity=77, time=0),\n    Message('note_on', channel=0, note=52, velocity=63, time=0),\n    Message('control_change', channel=0, control=121, value=0, time=0),\n    Message('control_change', channel=0, control=64, value=0, time=0),\n    Message('control_change', channel=0, control=10, value=63, time=0),\n    Message('control_change', channel=0, control=7, value=95, time=0),\n    MetaMessage('track_name', name='Piano', time=0),\n    Message('note_on', channel=0, note=48, velocity=64, time=0),\n    Message('note_off', channel=0, note=60, velocity=0, time=244),\n    Message('note_on', channel=0, note=60, velocity=83, time=12),\n    Message('note_off', channel=0, note=52, velocity=0, time=231),\n    Message('note_off', channel=0, note=48, velocity=0, time=0),\n    Message('note_off', channel=0, note=60, velocity=0, time=13),\n    Message('note_on', channel=0, note=67, velocity=90, time=12),\n    Message('note_on', channel=0, note=60, velocity=77, time=0),\n    Message('note_on', channel=0, note=48, velocity=71, time=0),\n    Message('note_off', channel=0, note=67, velocity=0, time=244),\n    Message('note_on', channel=0, note=67, velocity=87, time=12),\n    Message('note_off', channel=0, note=60, velocity=0, time=231),\n    Message('note_off', channel=0, note=48, velocity=0, time=0),\n    Message('note_off', channel=0, note=67, velocity=0, time=13),\n    Message('note_on', channel=0, note=69, velocity=86, time=12),\n    Message('note_on', channel=0, note=60, velocity=73, time=0),\n    Message('note_on', channel=0, note=41, velocity=66, time=0),\n    Message('note_off', channel=0, note=69, velocity=0, time=244),\n    Message('note_on', channel=0, note=69, velocity=83, time=12),\n    Message('note_off', channel=0, note=60, velocity=0, time=231),\n    Message('note_off', channel=0, note=41, velocity=0, time=0),\n    Message('note_off', channel=0, note=69, velocity=0, time=13),\n    Message('note_on', channel=0, note=67, velocity=81, time=12),\n    Message('note_on', channel=0, note=60, velocity=75, time=0),\n    Message('note_on', channel=0, note=48, velocity=71, time=0),\n    Message('note_off', channel=0, note=67, velocity=0, time=487),\n    Message('note_off', channel=0, note=60, velocity=0, time=0),\n    Message('note_off', channel=0, note=48, velocity=0, time=0),\n    Message('note_on', channel=0, note=65, velocity=80, time=25),\n    Message('note_on', channel=0, note=57, velocity=70, time=0),\n    Message('note_on', channel=0, note=41, velocity=68, time=0),\n    Message('note_off', channel=0, note=65, velocity=0, time=244),\n    Message('note_on', channel=0, note=65, velocity=85, time=12),\n    Message('note_off', channel=0, note=57, velocity=0, time=231),\n    Message('note_off', channel=0, note=41, velocity=0, time=0),\n    Message('note_off', channel=0, note=65, velocity=0, time=13),\n    Message('note_on', channel=0, note=64, velocity=82, time=12),\n    Message('note_on', channel=0, note=55, velocity=69, time=0),\n    Message('note_on', channel=0, note=48, velocity=76, time=0),\n    Message('note_off', channel=0, note=64, velocity=0, time=244),\n    Message('note_on', channel=0, note=64, velocity=84, time=12),\n    Message('note_off', channel=0, note=55, velocity=0, time=231),\n    Message('note_off', channel=0, note=48, velocity=0, time=0),\n    Message('note_off', channel=0, note=64, velocity=0, time=13),\n    Message('note_on', channel=0, note=62, velocity=81, time=12),\n    Message('note_on', channel=0, note=55, velocity=71, time=0),\n    Message('note_on', channel=0, note=43, velocity=69, time=0),\n    Message('note_off', channel=0, note=62, velocity=0, time=244),\n    Message('note_on', channel=0, note=62, velocity=83, time=12),\n    Message('note_off', channel=0, note=55, velocity=0, time=231),\n    Message('note_off', channel=0, note=43, velocity=0, time=0),\n    Message('note_off', channel=0, note=62, velocity=0, time=13),\n    Message('note_on', channel=0, note=60, velocity=81, time=12),\n    Message('note_on', channel=0, note=52, velocity=71, time=0),\n    Message('note_on', channel=0, note=48, velocity=75, time=0),\n    Message('note_off', channel=0, note=60, velocity=0, time=487),\n    Message('note_off', channel=0, note=52, velocity=0, time=0),\n    Message('note_off', channel=0, note=48, velocity=0, time=0),\n    Message('note_on', channel=0, note=67, velocity=94, time=25),\n    Message('note_on', channel=0, note=60, velocity=80, time=0),\n    Message('note_on', channel=0, note=48, velocity=72, time=0),\n    Message('note_off', channel=0, note=67, velocity=0, time=244),\n    Message('note_on', channel=0, note=67, velocity=83, time=12),\n    Message('note_off', channel=0, note=60, velocity=0, time=231),\n    Message('note_off', channel=0, note=48, velocity=0, time=0),\n    Message('note_off', channel=0, note=67, velocity=0, time=13),\n    Message('note_on', channel=0, note=65, velocity=81, time=12),\n    Message('note_on', channel=0, note=57, velocity=71, time=0),\n    Message('note_on', channel=0, note=41, velocity=68, time=0),\n    Message('note_off', channel=0, note=65, velocity=0, time=244),\n    Message('note_on', channel=0, note=65, velocity=84, time=12),\n    Message('note_off', channel=0, note=57, velocity=0, time=231),\n    Message('note_off', channel=0, note=41, velocity=0, time=0),\n    Message('note_off', channel=0, note=65, velocity=0, time=13),\n    Message('note_on', channel=0, note=64, velocity=82, time=12),\n    Message('note_on', channel=0, note=55, velocity=70, time=0),\n    Message('note_on', channel=0, note=43, velocity=73, time=0),\n    Message('note_off', channel=0, note=64, velocity=0, time=244),\n    Message('note_on', channel=0, note=64, velocity=84, time=12),\n    Message('note_off', channel=0, note=55, velocity=0, time=231),\n    Message('note_off', channel=0, note=43, velocity=0, time=0),\n    Message('note_off', channel=0, note=64, velocity=0, time=13),\n    Message('note_on', channel=0, note=62, velocity=82, time=12),\n    Message('note_on', channel=0, note=55, velocity=67, time=0),\n    Message('note_on', channel=0, note=43, velocity=72, time=0),\n    Message('note_off', channel=0, note=62, velocity=0, time=487),\n    Message('note_off', channel=0, note=55, velocity=0, time=0),\n    Message('note_off', channel=0, note=43, velocity=0, time=0),\n    Message('note_on', channel=0, note=67, velocity=90, time=25),\n    Message('note_on', channel=0, note=60, velocity=76, time=0),\n    Message('note_on', channel=0, note=48, velocity=73, time=0),\n    Message('note_off', channel=0, note=67, velocity=0, time=244),\n    Message('note_on', channel=0, note=67, velocity=84, time=12),\n    Message('note_off', channel=0, note=60, velocity=0, time=231),\n    Message('note_off', channel=0, note=48, velocity=0, time=0),\n    Message('note_off', channel=0, note=67, velocity=0, time=13),\n    Message('note_on', channel=0, note=65, velocity=84, time=12),\n    Message('note_on', channel=0, note=57, velocity=71, time=0),\n    Message('note_on', channel=0, note=41, velocity=68, time=0),\n    Message('note_off', channel=0, note=65, velocity=0, time=244),\n    Message('note_on', channel=0, note=65, velocity=85, time=12),\n    Message('note_off', channel=0, note=57, velocity=0, time=231),\n    Message('note_off', channel=0, note=41, velocity=0, time=0),\n    Message('note_off', channel=0, note=65, velocity=0, time=13),\n    Message('note_on', channel=0, note=64, velocity=82, time=12),\n    Message('note_on', channel=0, note=55, velocity=70, time=0),\n    Message('note_on', channel=0, note=43, velocity=73, time=0),\n    Message('note_off', channel=0, note=64, velocity=0, time=244),\n    Message('note_on', channel=0, note=64, velocity=82, time=12),\n    Message('note_off', channel=0, note=55, velocity=0, time=231),\n    Message('note_off', channel=0, note=43, velocity=0, time=0),\n    Message('note_off', channel=0, note=64, velocity=0, time=13),\n    Message('note_on', channel=0, note=62, velocity=83, time=12),\n    Message('note_on', channel=0, note=55, velocity=70, time=0),\n    Message('note_on', channel=0, note=43, velocity=69, time=0),\n    Message('note_off', channel=0, note=62, velocity=0, time=487),\n    Message('note_off', channel=0, note=55, velocity=0, time=0),\n    Message('note_off', channel=0, note=43, velocity=0, time=0),\n    Message('note_on', channel=0, note=60, velocity=82, time=25),\n    Message('note_on', channel=0, note=52, velocity=69, time=0),\n    Message('note_on', channel=0, note=48, velocity=73, time=0),\n    Message('note_off', channel=0, note=60, velocity=0, time=244),\n    Message('note_on', channel=0, note=60, velocity=83, time=12),\n    Message('note_off', channel=0, note=52, velocity=0, time=231),\n    Message('note_off', channel=0, note=48, velocity=0, time=0),\n    Message('note_off', channel=0, note=60, velocity=0, time=13),\n    Message('note_on', channel=0, note=67, velocity=90, time=12),\n    Message('note_on', channel=0, note=60, velocity=80, time=0),\n    Message('note_on', channel=0, note=48, velocity=72, time=0),\n    Message('note_off', channel=0, note=67, velocity=0, time=244),\n    Message('note_on', channel=0, note=67, velocity=83, time=12),\n    Message('note_off', channel=0, note=60, velocity=0, time=231),\n    Message('note_off', channel=0, note=48, velocity=0, time=0),\n    Message('note_off', channel=0, note=67, velocity=0, time=13),\n    Message('note_on', channel=0, note=69, velocity=87, time=12),\n    Message('note_on', channel=0, note=60, velocity=69, time=0),\n    Message('note_on', channel=0, note=41, velocity=68, time=0),\n    Message('note_off', channel=0, note=69, velocity=0, time=244),\n    Message('note_on', channel=0, note=69, velocity=81, time=12),\n    Message('note_off', channel=0, note=60, velocity=0, time=231),\n    Message('note_off', channel=0, note=41, velocity=0, time=0),\n    Message('note_off', channel=0, note=69, velocity=0, time=13),\n    Message('note_on', channel=0, note=67, velocity=79, time=12),\n    Message('note_on', channel=0, note=60, velocity=72, time=0),\n    Message('note_on', channel=0, note=48, velocity=73, time=0),\n    Message('note_off', channel=0, note=67, velocity=0, time=487),\n    Message('note_off', channel=0, note=60, velocity=0, time=0),\n    Message('note_off', channel=0, note=48, velocity=0, time=0),\n    Message('note_on', channel=0, note=65, velocity=81, time=25),\n    Message('note_on', channel=0, note=57, velocity=69, time=0),\n    Message('note_on', channel=0, note=41, velocity=68, time=0),\n    Message('note_off', channel=0, note=65, velocity=0, time=244),\n    Message('note_on', channel=0, note=65, velocity=83, time=12),\n    Message('note_off', channel=0, note=57, velocity=0, time=231),\n    Message('note_off', channel=0, note=41, velocity=0, time=0),\n    Message('note_off', channel=0, note=65, velocity=0, time=13),\n    Message('note_on', channel=0, note=64, velocity=81, time=12),\n    Message('note_on', channel=0, note=55, velocity=70, time=0),\n    Message('note_on', channel=0, note=48, velocity=75, time=0),\n    Message('note_off', channel=0, note=64, velocity=0, time=244),\n    Message('note_on', channel=0, note=64, velocity=84, time=12),\n    Message('note_off', channel=0, note=55, velocity=0, time=231),\n    Message('note_off', channel=0, note=48, velocity=0, time=0),\n    Message('note_off', channel=0, note=64, velocity=0, time=13),\n    Message('note_on', channel=0, note=62, velocity=82, time=12),\n    Message('note_on', channel=0, note=55, velocity=71, time=0),\n    Message('note_on', channel=0, note=43, velocity=69, time=0),\n    Message('note_off', channel=0, note=62, velocity=0, time=244),\n    Message('note_on', channel=0, note=62, velocity=83, time=12),\n    Message('note_off', channel=0, note=55, velocity=0, time=231),\n    Message('note_off', channel=0, note=43, velocity=0, time=0),\n    Message('note_off', channel=0, note=62, velocity=0, time=13),\n    Message('note_on', channel=0, note=60, velocity=80, time=12),\n    Message('note_on', channel=0, note=52, velocity=70, time=0),\n    Message('note_on', channel=0, note=48, velocity=74, time=0),\n    Message('note_off', channel=0, note=60, velocity=0, time=487),\n    Message('note_off', channel=0, note=52, velocity=0, time=0),\n    Message('note_off', channel=0, note=48, velocity=0, time=0),\n    MetaMessage('end_of_track', time=1)])\n])"
     },
     "execution_count": 2,
     "metadata": {},
     "output_type": "execute_result"
    }
   ],
   "source": [
    "mid = mido.MidiFile(\"twinkle-twinkle-little-star.mid\")\n",
    "mid"
   ],
   "metadata": {
    "collapsed": false,
    "ExecuteTime": {
     "end_time": "2023-05-10T00:39:02.422264800Z",
     "start_time": "2023-05-10T00:39:02.373207600Z"
    }
   }
  },
  {
   "cell_type": "code",
   "execution_count": 3,
   "outputs": [
    {
     "data": {
      "text/plain": "[{'activated': 1, 'velocity': 77, 'note': 60, 'time': 0},\n {'activated': 1, 'velocity': 63, 'note': 52, 'time': 0},\n {'activated': 1, 'velocity': 64, 'note': 48, 'time': 0},\n {'activated': 0, 'velocity': 0, 'note': 60, 'time': 244},\n {'activated': 1, 'velocity': 83, 'note': 60, 'time': 256},\n {'activated': 0, 'velocity': 0, 'note': 52, 'time': 487},\n {'activated': 0, 'velocity': 0, 'note': 48, 'time': 487},\n {'activated': 0, 'velocity': 0, 'note': 60, 'time': 500},\n {'activated': 1, 'velocity': 90, 'note': 67, 'time': 512},\n {'activated': 1, 'velocity': 77, 'note': 60, 'time': 512},\n {'activated': 1, 'velocity': 71, 'note': 48, 'time': 512},\n {'activated': 0, 'velocity': 0, 'note': 67, 'time': 756},\n {'activated': 1, 'velocity': 87, 'note': 67, 'time': 768},\n {'activated': 0, 'velocity': 0, 'note': 60, 'time': 999},\n {'activated': 0, 'velocity': 0, 'note': 48, 'time': 999},\n {'activated': 0, 'velocity': 0, 'note': 67, 'time': 1012},\n {'activated': 1, 'velocity': 86, 'note': 69, 'time': 1024},\n {'activated': 1, 'velocity': 73, 'note': 60, 'time': 1024},\n {'activated': 1, 'velocity': 66, 'note': 41, 'time': 1024},\n {'activated': 0, 'velocity': 0, 'note': 69, 'time': 1268},\n {'activated': 1, 'velocity': 83, 'note': 69, 'time': 1280},\n {'activated': 0, 'velocity': 0, 'note': 60, 'time': 1511},\n {'activated': 0, 'velocity': 0, 'note': 41, 'time': 1511},\n {'activated': 0, 'velocity': 0, 'note': 69, 'time': 1524},\n {'activated': 1, 'velocity': 81, 'note': 67, 'time': 1536},\n {'activated': 1, 'velocity': 75, 'note': 60, 'time': 1536},\n {'activated': 1, 'velocity': 71, 'note': 48, 'time': 1536},\n {'activated': 0, 'velocity': 0, 'note': 67, 'time': 2023},\n {'activated': 0, 'velocity': 0, 'note': 60, 'time': 2023},\n {'activated': 0, 'velocity': 0, 'note': 48, 'time': 2023},\n {'activated': 1, 'velocity': 80, 'note': 65, 'time': 2048},\n {'activated': 1, 'velocity': 70, 'note': 57, 'time': 2048},\n {'activated': 1, 'velocity': 68, 'note': 41, 'time': 2048},\n {'activated': 0, 'velocity': 0, 'note': 65, 'time': 2292},\n {'activated': 1, 'velocity': 85, 'note': 65, 'time': 2304},\n {'activated': 0, 'velocity': 0, 'note': 57, 'time': 2535},\n {'activated': 0, 'velocity': 0, 'note': 41, 'time': 2535},\n {'activated': 0, 'velocity': 0, 'note': 65, 'time': 2548},\n {'activated': 1, 'velocity': 82, 'note': 64, 'time': 2560},\n {'activated': 1, 'velocity': 69, 'note': 55, 'time': 2560},\n {'activated': 1, 'velocity': 76, 'note': 48, 'time': 2560},\n {'activated': 0, 'velocity': 0, 'note': 64, 'time': 2804},\n {'activated': 1, 'velocity': 84, 'note': 64, 'time': 2816},\n {'activated': 0, 'velocity': 0, 'note': 55, 'time': 3047},\n {'activated': 0, 'velocity': 0, 'note': 48, 'time': 3047},\n {'activated': 0, 'velocity': 0, 'note': 64, 'time': 3060},\n {'activated': 1, 'velocity': 81, 'note': 62, 'time': 3072},\n {'activated': 1, 'velocity': 71, 'note': 55, 'time': 3072},\n {'activated': 1, 'velocity': 69, 'note': 43, 'time': 3072},\n {'activated': 0, 'velocity': 0, 'note': 62, 'time': 3316},\n {'activated': 1, 'velocity': 83, 'note': 62, 'time': 3328},\n {'activated': 0, 'velocity': 0, 'note': 55, 'time': 3559},\n {'activated': 0, 'velocity': 0, 'note': 43, 'time': 3559},\n {'activated': 0, 'velocity': 0, 'note': 62, 'time': 3572},\n {'activated': 1, 'velocity': 81, 'note': 60, 'time': 3584},\n {'activated': 1, 'velocity': 71, 'note': 52, 'time': 3584},\n {'activated': 1, 'velocity': 75, 'note': 48, 'time': 3584},\n {'activated': 0, 'velocity': 0, 'note': 60, 'time': 4071},\n {'activated': 0, 'velocity': 0, 'note': 52, 'time': 4071},\n {'activated': 0, 'velocity': 0, 'note': 48, 'time': 4071},\n {'activated': 1, 'velocity': 94, 'note': 67, 'time': 4096},\n {'activated': 1, 'velocity': 80, 'note': 60, 'time': 4096},\n {'activated': 1, 'velocity': 72, 'note': 48, 'time': 4096},\n {'activated': 0, 'velocity': 0, 'note': 67, 'time': 4340},\n {'activated': 1, 'velocity': 83, 'note': 67, 'time': 4352},\n {'activated': 0, 'velocity': 0, 'note': 60, 'time': 4583},\n {'activated': 0, 'velocity': 0, 'note': 48, 'time': 4583},\n {'activated': 0, 'velocity': 0, 'note': 67, 'time': 4596},\n {'activated': 1, 'velocity': 81, 'note': 65, 'time': 4608},\n {'activated': 1, 'velocity': 71, 'note': 57, 'time': 4608},\n {'activated': 1, 'velocity': 68, 'note': 41, 'time': 4608},\n {'activated': 0, 'velocity': 0, 'note': 65, 'time': 4852},\n {'activated': 1, 'velocity': 84, 'note': 65, 'time': 4864},\n {'activated': 0, 'velocity': 0, 'note': 57, 'time': 5095},\n {'activated': 0, 'velocity': 0, 'note': 41, 'time': 5095},\n {'activated': 0, 'velocity': 0, 'note': 65, 'time': 5108},\n {'activated': 1, 'velocity': 82, 'note': 64, 'time': 5120},\n {'activated': 1, 'velocity': 70, 'note': 55, 'time': 5120},\n {'activated': 1, 'velocity': 73, 'note': 43, 'time': 5120},\n {'activated': 0, 'velocity': 0, 'note': 64, 'time': 5364},\n {'activated': 1, 'velocity': 84, 'note': 64, 'time': 5376},\n {'activated': 0, 'velocity': 0, 'note': 55, 'time': 5607},\n {'activated': 0, 'velocity': 0, 'note': 43, 'time': 5607},\n {'activated': 0, 'velocity': 0, 'note': 64, 'time': 5620},\n {'activated': 1, 'velocity': 82, 'note': 62, 'time': 5632},\n {'activated': 1, 'velocity': 67, 'note': 55, 'time': 5632},\n {'activated': 1, 'velocity': 72, 'note': 43, 'time': 5632},\n {'activated': 0, 'velocity': 0, 'note': 62, 'time': 6119},\n {'activated': 0, 'velocity': 0, 'note': 55, 'time': 6119},\n {'activated': 0, 'velocity': 0, 'note': 43, 'time': 6119},\n {'activated': 1, 'velocity': 90, 'note': 67, 'time': 6144},\n {'activated': 1, 'velocity': 76, 'note': 60, 'time': 6144},\n {'activated': 1, 'velocity': 73, 'note': 48, 'time': 6144},\n {'activated': 0, 'velocity': 0, 'note': 67, 'time': 6388},\n {'activated': 1, 'velocity': 84, 'note': 67, 'time': 6400},\n {'activated': 0, 'velocity': 0, 'note': 60, 'time': 6631},\n {'activated': 0, 'velocity': 0, 'note': 48, 'time': 6631},\n {'activated': 0, 'velocity': 0, 'note': 67, 'time': 6644},\n {'activated': 1, 'velocity': 84, 'note': 65, 'time': 6656},\n {'activated': 1, 'velocity': 71, 'note': 57, 'time': 6656},\n {'activated': 1, 'velocity': 68, 'note': 41, 'time': 6656},\n {'activated': 0, 'velocity': 0, 'note': 65, 'time': 6900},\n {'activated': 1, 'velocity': 85, 'note': 65, 'time': 6912},\n {'activated': 0, 'velocity': 0, 'note': 57, 'time': 7143},\n {'activated': 0, 'velocity': 0, 'note': 41, 'time': 7143},\n {'activated': 0, 'velocity': 0, 'note': 65, 'time': 7156},\n {'activated': 1, 'velocity': 82, 'note': 64, 'time': 7168},\n {'activated': 1, 'velocity': 70, 'note': 55, 'time': 7168},\n {'activated': 1, 'velocity': 73, 'note': 43, 'time': 7168},\n {'activated': 0, 'velocity': 0, 'note': 64, 'time': 7412},\n {'activated': 1, 'velocity': 82, 'note': 64, 'time': 7424},\n {'activated': 0, 'velocity': 0, 'note': 55, 'time': 7655},\n {'activated': 0, 'velocity': 0, 'note': 43, 'time': 7655},\n {'activated': 0, 'velocity': 0, 'note': 64, 'time': 7668},\n {'activated': 1, 'velocity': 83, 'note': 62, 'time': 7680},\n {'activated': 1, 'velocity': 70, 'note': 55, 'time': 7680},\n {'activated': 1, 'velocity': 69, 'note': 43, 'time': 7680},\n {'activated': 0, 'velocity': 0, 'note': 62, 'time': 8167},\n {'activated': 0, 'velocity': 0, 'note': 55, 'time': 8167},\n {'activated': 0, 'velocity': 0, 'note': 43, 'time': 8167},\n {'activated': 1, 'velocity': 82, 'note': 60, 'time': 8192},\n {'activated': 1, 'velocity': 69, 'note': 52, 'time': 8192},\n {'activated': 1, 'velocity': 73, 'note': 48, 'time': 8192},\n {'activated': 0, 'velocity': 0, 'note': 60, 'time': 8436},\n {'activated': 1, 'velocity': 83, 'note': 60, 'time': 8448},\n {'activated': 0, 'velocity': 0, 'note': 52, 'time': 8679},\n {'activated': 0, 'velocity': 0, 'note': 48, 'time': 8679},\n {'activated': 0, 'velocity': 0, 'note': 60, 'time': 8692},\n {'activated': 1, 'velocity': 90, 'note': 67, 'time': 8704},\n {'activated': 1, 'velocity': 80, 'note': 60, 'time': 8704},\n {'activated': 1, 'velocity': 72, 'note': 48, 'time': 8704},\n {'activated': 0, 'velocity': 0, 'note': 67, 'time': 8948},\n {'activated': 1, 'velocity': 83, 'note': 67, 'time': 8960},\n {'activated': 0, 'velocity': 0, 'note': 60, 'time': 9191},\n {'activated': 0, 'velocity': 0, 'note': 48, 'time': 9191},\n {'activated': 0, 'velocity': 0, 'note': 67, 'time': 9204},\n {'activated': 1, 'velocity': 87, 'note': 69, 'time': 9216},\n {'activated': 1, 'velocity': 69, 'note': 60, 'time': 9216},\n {'activated': 1, 'velocity': 68, 'note': 41, 'time': 9216},\n {'activated': 0, 'velocity': 0, 'note': 69, 'time': 9460},\n {'activated': 1, 'velocity': 81, 'note': 69, 'time': 9472},\n {'activated': 0, 'velocity': 0, 'note': 60, 'time': 9703},\n {'activated': 0, 'velocity': 0, 'note': 41, 'time': 9703},\n {'activated': 0, 'velocity': 0, 'note': 69, 'time': 9716},\n {'activated': 1, 'velocity': 79, 'note': 67, 'time': 9728},\n {'activated': 1, 'velocity': 72, 'note': 60, 'time': 9728},\n {'activated': 1, 'velocity': 73, 'note': 48, 'time': 9728},\n {'activated': 0, 'velocity': 0, 'note': 67, 'time': 10215},\n {'activated': 0, 'velocity': 0, 'note': 60, 'time': 10215},\n {'activated': 0, 'velocity': 0, 'note': 48, 'time': 10215},\n {'activated': 1, 'velocity': 81, 'note': 65, 'time': 10240},\n {'activated': 1, 'velocity': 69, 'note': 57, 'time': 10240},\n {'activated': 1, 'velocity': 68, 'note': 41, 'time': 10240},\n {'activated': 0, 'velocity': 0, 'note': 65, 'time': 10484},\n {'activated': 1, 'velocity': 83, 'note': 65, 'time': 10496},\n {'activated': 0, 'velocity': 0, 'note': 57, 'time': 10727},\n {'activated': 0, 'velocity': 0, 'note': 41, 'time': 10727},\n {'activated': 0, 'velocity': 0, 'note': 65, 'time': 10740},\n {'activated': 1, 'velocity': 81, 'note': 64, 'time': 10752},\n {'activated': 1, 'velocity': 70, 'note': 55, 'time': 10752},\n {'activated': 1, 'velocity': 75, 'note': 48, 'time': 10752},\n {'activated': 0, 'velocity': 0, 'note': 64, 'time': 10996},\n {'activated': 1, 'velocity': 84, 'note': 64, 'time': 11008},\n {'activated': 0, 'velocity': 0, 'note': 55, 'time': 11239},\n {'activated': 0, 'velocity': 0, 'note': 48, 'time': 11239},\n {'activated': 0, 'velocity': 0, 'note': 64, 'time': 11252},\n {'activated': 1, 'velocity': 82, 'note': 62, 'time': 11264},\n {'activated': 1, 'velocity': 71, 'note': 55, 'time': 11264},\n {'activated': 1, 'velocity': 69, 'note': 43, 'time': 11264},\n {'activated': 0, 'velocity': 0, 'note': 62, 'time': 11508},\n {'activated': 1, 'velocity': 83, 'note': 62, 'time': 11520},\n {'activated': 0, 'velocity': 0, 'note': 55, 'time': 11751},\n {'activated': 0, 'velocity': 0, 'note': 43, 'time': 11751},\n {'activated': 0, 'velocity': 0, 'note': 62, 'time': 11764},\n {'activated': 1, 'velocity': 80, 'note': 60, 'time': 11776},\n {'activated': 1, 'velocity': 70, 'note': 52, 'time': 11776},\n {'activated': 1, 'velocity': 74, 'note': 48, 'time': 11776},\n {'activated': 0, 'velocity': 0, 'note': 60, 'time': 12263},\n {'activated': 0, 'velocity': 0, 'note': 52, 'time': 12263},\n {'activated': 0, 'velocity': 0, 'note': 48, 'time': 12263}]"
     },
     "execution_count": 3,
     "metadata": {},
     "output_type": "execute_result"
    }
   ],
   "source": [
    "data = []\n",
    "# msg is type mido.MetaMessage\n",
    "prevTime = 0\n",
    "for msg in mid:\n",
    "    if msg.type == \"note_on\" or msg.type == \"note_off\":\n",
    "        calc_time = round(msg.time * (487/1.2014765585))\n",
    "        data.append({\n",
    "            \"activated\": int(msg.type == \"note_on\"),\n",
    "            \"velocity\": msg.bytes()[-1],\n",
    "            \"note\": msg.bytes()[1],\n",
    "            \"time\": calc_time + prevTime})\n",
    "        prevTime += calc_time\n",
    "data"
   ],
   "metadata": {
    "collapsed": false,
    "ExecuteTime": {
     "end_time": "2023-05-10T00:39:03.589637200Z",
     "start_time": "2023-05-10T00:39:03.571123500Z"
    }
   }
  },
  {
   "cell_type": "code",
   "execution_count": 4,
   "outputs": [],
   "source": [
    "open_string_values = [40, 45, 50, 55, 59, 64]\n",
    "\n",
    "def get_fret_positions(note):\n",
    "    positions = []\n",
    "    for string_value in open_string_values:\n",
    "        if note[\"note\"] >= string_value:\n",
    "            if (note[\"note\"]-string_value) > 22:\n",
    "                positions.append(-1)\n",
    "            else:\n",
    "                positions.append(note[\"note\"] - string_value)\n",
    "        else:\n",
    "            positions.append(-1)\n",
    "    return positions"
   ],
   "metadata": {
    "collapsed": false,
    "ExecuteTime": {
     "end_time": "2023-05-10T00:39:04.070807500Z",
     "start_time": "2023-05-10T00:39:04.047810900Z"
    }
   }
  },
  {
   "cell_type": "code",
   "execution_count": 5,
   "outputs": [],
   "source": [
    "def get_notes_at_time(notes_data, at_time):\n",
    "    # detect which notes are \"activated\" at a given time\n",
    "    notes = {}\n",
    "    for note in notes_data:\n",
    "        if note[\"time\"] <= at_time:\n",
    "            if note[\"activated\"]:\n",
    "                notes[note[\"note\"]] = note\n",
    "            else:\n",
    "                if note[\"note\"] in list(notes.keys()):\n",
    "                    notes.pop(note[\"note\"])\n",
    "    return list(notes.values())"
   ],
   "metadata": {
    "collapsed": false,
    "ExecuteTime": {
     "end_time": "2023-05-10T00:39:04.356180600Z",
     "start_time": "2023-05-10T00:39:04.346145200Z"
    }
   }
  },
  {
   "cell_type": "code",
   "execution_count": 6,
   "outputs": [
    {
     "data": {
      "text/plain": "array([[ -1,  -1,  -1, 600],\n       [  3,  71, 512, 600],\n       [ -1,  -1,  -1, 600],\n       [ -1,  -1,  -1, 600],\n       [  1,  77, 512, 600],\n       [  3,  90, 512, 600]])"
     },
     "execution_count": 6,
     "metadata": {},
     "output_type": "execute_result"
    }
   ],
   "source": [
    "def get_chord_at_time(note_data, at_time):\n",
    "    fret_positions_velocity = []\n",
    "    for note in get_notes_at_time(note_data, at_time):\n",
    "        fret_positions_velocity.append([get_fret_positions(note), note[\"velocity\"], note[\"time\"], at_time])\n",
    "    strings = []\n",
    "    chord = np.full((6, 4), -1)\n",
    "    for note_i in range(6):\n",
    "        chord[note_i, -1] = at_time\n",
    "    for position in fret_positions_velocity:\n",
    "        # get the lowest not -1 fret position and index of lowest fret position in each position list\n",
    "        lowest = min([x for x in position[0] if x != -1 and position[0].index(x) not in strings])\n",
    "        strings.append(position[0].index(lowest))\n",
    "        chord[position[0].index(lowest)] = [lowest, position[1], position[2], position[3]]\n",
    "\n",
    "    return chord\n",
    "\n",
    "get_chord_at_time(data, 600)"
   ],
   "metadata": {
    "collapsed": false,
    "ExecuteTime": {
     "end_time": "2023-05-10T00:39:04.888968Z",
     "start_time": "2023-05-10T00:39:04.869967800Z"
    }
   }
  },
  {
   "cell_type": "code",
   "execution_count": 7,
   "outputs": [
    {
     "data": {
      "text/plain": "array([[[   -1,    -1,    -1,     0],\n        [    3,    64,     0,     0],\n        [    2,    63,     0,     0],\n        [   -1,    -1,    -1,     0],\n        [    1,    77,     0,     0],\n        [   -1,    -1,    -1,     0]],\n\n       [[   -1,    -1,    -1,   244],\n        [    3,    64,     0,   244],\n        [    2,    63,     0,   244],\n        [   -1,    -1,    -1,   244],\n        [   -1,    -1,    -1,   244],\n        [   -1,    -1,    -1,   244]],\n\n       [[   -1,    -1,    -1,   256],\n        [    3,    64,     0,   256],\n        [    2,    63,     0,   256],\n        [   -1,    -1,    -1,   256],\n        [    1,    83,   256,   256],\n        [   -1,    -1,    -1,   256]],\n\n       ...,\n\n       [[   -1,    -1,    -1, 11764],\n        [   -1,    -1,    -1, 11764],\n        [   -1,    -1,    -1, 11764],\n        [   -1,    -1,    -1, 11764],\n        [   -1,    -1,    -1, 11764],\n        [   -1,    -1,    -1, 11764]],\n\n       [[   -1,    -1,    -1, 11776],\n        [    3,    74, 11776, 11776],\n        [    2,    70, 11776, 11776],\n        [   -1,    -1,    -1, 11776],\n        [    1,    80, 11776, 11776],\n        [   -1,    -1,    -1, 11776]],\n\n       [[   -1,    -1,    -1, 12263],\n        [   -1,    -1,    -1, 12263],\n        [   -1,    -1,    -1, 12263],\n        [   -1,    -1,    -1, 12263],\n        [   -1,    -1,    -1, 12263],\n        [   -1,    -1,    -1, 12263]]])"
     },
     "execution_count": 7,
     "metadata": {},
     "output_type": "execute_result"
    }
   ],
   "source": [
    "def get_keyframes(note_data):\n",
    "    keyframes = set()\n",
    "    for note in note_data:\n",
    "        keyframes.add(note[\"time\"])\n",
    "\n",
    "    return list(sorted(keyframes))\n",
    "\n",
    "#find smallest distance between keyframes\n",
    "def get_smallest_distance(keyframes):\n",
    "    smallest = 100000\n",
    "    for key_i in range(len(keyframes)-1):\n",
    "        if keyframes[key_i+1] - keyframes[key_i] < smallest:\n",
    "            smallest = keyframes[key_i+1] - keyframes[key_i]\n",
    "    return smallest\n",
    "\n",
    "chords = np.full((len(get_keyframes(data)), 6, 4), -1)\n",
    "for k_i, keyframe in enumerate(get_keyframes(data)):\n",
    "    chords[k_i] = get_chord_at_time(data, keyframe)\n",
    "\n",
    "chords"
   ],
   "metadata": {
    "collapsed": false,
    "ExecuteTime": {
     "end_time": "2023-05-10T00:39:06.087115800Z",
     "start_time": "2023-05-10T00:39:06.069116800Z"
    }
   }
  },
  {
   "cell_type": "code",
   "execution_count": 8,
   "outputs": [
    {
     "data": {
      "text/plain": "array([[   -1,    -1,    -1, ...,    -1,    -1,     0],\n       [   -1,    -1,    -1, ...,    -1,    -1,   244],\n       [   -1,    -1,    -1, ...,    -1,    -1,   256],\n       ...,\n       [   -1,    -1,    -1, ...,    -1,    -1, 11764],\n       [   -1,    -1,    -1, ...,    -1,    -1, 11776],\n       [   -1,    -1,    -1, ...,    -1,    -1, 12263]])"
     },
     "execution_count": 8,
     "metadata": {},
     "output_type": "execute_result"
    }
   ],
   "source": [
    "# Save 3D chord array to 2D CSV\n",
    "chords2d = chords.reshape((chords.shape[0], -1))\n",
    "np.savetxt(\"twinkle.csv\", chords2d, delimiter=\",\", fmt=\"%d\")\n",
    "chords2d"
   ],
   "metadata": {
    "collapsed": false,
    "ExecuteTime": {
     "end_time": "2023-05-10T00:39:07.093324100Z",
     "start_time": "2023-05-10T00:39:07.078354700Z"
    }
   }
  },
  {
   "cell_type": "markdown",
   "source": [
    "### Generating Chords\n",
    "\n",
    "The code below implements some concepts in music theory that allows all fret positions for all key/scale pairs to be calculated using a simple list rearrangement. This allows random note sequences and chords to be generated. I may be able to use genetic methods to improve the quality of autogenerated songs for use by the simulation.\n",
    "\n",
    "#### Code explanation:\n",
    "PATTERNS_C_IONIAN contains all notes across all strings in 12 positions that fit into the c major scale. This list can be shifted (i.e. position shifted) by an offset defined by the desired key (“C”, “C#”...) and scale (Scales.IONIAN, Scales.DORIAN, etc) to get a pattern list that works for any key and scale. This is done in get_pattern. Generate_chord creates a random chord in a given key/scale/pattern."
   ],
   "metadata": {
    "collapsed": false
   }
  },
  {
   "cell_type": "code",
   "execution_count": 9,
   "outputs": [
    {
     "data": {
      "text/plain": "[[[1, 3], [0, 1, 3], [0, 1, 3], [0, 2, 3], [1, 3, 4], [1, 3]],\n [[0, 2, 4], [0, 2, 4], [0, 2, 4], [1, 2, 4], [0, 2, 3], [0, 2, 4]],\n [[1, 3, 4], [1, 3, 4], [1, 3], [0, 1, 3], [2, 3, 4], [1, 3, 4]],\n [[0, 2, 3], [0, 2, 3], [0, 2, 4], [0, 2, 4], [0, 1, 3], [0, 2, 3]],\n [[1, 2, 4], [1, 2, 4], [1, 3, 4], [1, 3, 4], [0, 2, 4], [1, 2, 4]],\n [[0, 1, 3], [0, 1, 3], [0, 2, 3], [0, 2, 3], [1, 3], [0, 1, 3]],\n [[0, 2, 4], [0, 2, 4], [1, 2, 4], [1, 2, 4], [0, 2, 4], [0, 2, 4]],\n [[1, 3, 4], [1, 3], [0, 1, 3], [0, 1, 3], [1, 3, 4], [1, 3, 4]],\n [[0, 2, 3], [0, 2, 4], [0, 2, 4], [0, 2, 4], [0, 2, 3], [0, 2, 3]],\n [[1, 2, 4], [1, 3, 4], [1, 3, 4], [1, 3], [1, 2, 4], [1, 2, 4]],\n [[0, 1, 3], [0, 2, 3], [0, 2, 3], [0, 2, 4], [0, 1, 3], [0, 1, 3]],\n [[0, 2, 4], [1, 2, 4], [1, 2, 4], [1, 3, 4], [0, 2, 4], [0, 2, 4]]]"
     },
     "execution_count": 9,
     "metadata": {},
     "output_type": "execute_result"
    }
   ],
   "source": [
    "NOTES = [\"C\", \"C#\", \"D\", \"D#\", \"E\", \"F\", \"F#\", \"G\", \"G#\", \"A\", \"A#\", \"B\"]\n",
    "\n",
    "\n",
    "class Scales(Enum):\n",
    "    IONIAN = 0\n",
    "    DORIAN = 2\n",
    "    PHRYGIAN = 4\n",
    "    LYDIAN = 5\n",
    "    MIXOLYDIAN = 7\n",
    "    AEOLIAN = 9\n",
    "    LOCRIAN = 11\n",
    "\n",
    "\n",
    "PATTERNS_C_IONIAN = [\n",
    "    [[0, 1, 3], [0, 2, 3], [0, 2, 3], [0, 2, 4], [0, 1, 3], [0, 1, 3]],\n",
    "    [[0, 2, 4], [1, 2, 4], [1, 2, 4], [1, 3, 4], [0, 2, 4], [0, 2, 4]],\n",
    "    [[1, 3], [0, 1, 3], [0, 1, 3], [0, 2, 3], [1, 3, 4], [1, 3]],\n",
    "    [[0, 2, 4], [0, 2, 4], [0, 2, 4], [1, 2, 4], [0, 2, 3], [0, 2, 4]],\n",
    "    [[1, 3, 4], [1, 3, 4], [1, 3], [0, 1, 3], [2, 3, 4], [1, 3, 4]],\n",
    "    [[0, 2, 3], [0, 2, 3], [0, 2, 4], [0, 2, 4], [0, 1, 3], [0, 2, 3]],\n",
    "    [[1, 2, 4], [1, 2, 4], [1, 3, 4], [1, 3, 4], [0, 2, 4], [1, 2, 4]],\n",
    "    [[0, 1, 3], [0, 1, 3], [0, 2, 3], [0, 2, 3], [1, 3], [0, 1, 3]],\n",
    "    [[0, 2, 4], [0, 2, 4], [1, 2, 4], [1, 2, 4], [0, 2, 4], [0, 2, 4]],\n",
    "    [[1, 3, 4], [1, 3], [0, 1, 3], [0, 1, 3], [1, 3, 4], [1, 3, 4]],\n",
    "    [[0, 2, 3], [0, 2, 4], [0, 2, 4], [0, 2, 4], [0, 2, 3], [0, 2, 3]],\n",
    "    [[1, 2, 4], [1, 3, 4], [1, 3, 4], [1, 3], [1, 2, 4], [1, 2, 4]]]\n",
    "\n",
    "\n",
    "def get_pattern(key, scale=Scales.IONIAN):\n",
    "    to_index = (len(NOTES) - NOTES.index(key)) + scale.value\n",
    "    if to_index >= len(PATTERNS_C_IONIAN):\n",
    "        to_index = to_index - len(PATTERNS_C_IONIAN)\n",
    "\n",
    "    return PATTERNS_C_IONIAN[to_index:] + PATTERNS_C_IONIAN[:to_index]\n",
    "\n",
    "\n",
    "def generate_chord(pattern=None, key=\"C\", scale=Scales.IONIAN, position=0, include_position=False, note_count=3):\n",
    "    # Generate a random chord\n",
    "    if pattern is None:\n",
    "        pattern = get_pattern(key, scale=scale)\n",
    "    chord = []\n",
    "    chosen_strings = random.sample(range(6), note_count)\n",
    "    for i in range(6):\n",
    "        if i in chosen_strings:\n",
    "            chord.append(random.choice(pattern[position][i]) + include_position * position)\n",
    "        else:\n",
    "            chord.append(-1)\n",
    "    return chord\n",
    "\n",
    "\n",
    "def generate_note(pattern=None, key=\"C\", scale=Scales.IONIAN, position=0, include_position=False):\n",
    "    generate_chord(pattern=pattern, key=key, scale=scale, position=position, include_position=include_position,\n",
    "                   note_count=1)\n",
    "\n",
    "\n",
    "get_pattern(\"C\", scale=Scales.DORIAN)"
   ],
   "metadata": {
    "collapsed": false,
    "ExecuteTime": {
     "end_time": "2023-05-10T00:39:08.835276500Z",
     "start_time": "2023-05-10T00:39:08.793277800Z"
    }
   }
  },
  {
   "cell_type": "markdown",
   "source": [
    "### Using SKLearn to predict velocities and durations\n",
    "\n",
    "The code below contains implementations of a random forest regressor currently only trained on randomly generated training chords and velocity/duration. It demonstrates that a sensible value for a velocity and duration can be found using random forest. This is preliminary though, and there is no indication that training these values will get sensible outputs in the context of being at a certain position in a song. I might have to approach this a different way."
   ],
   "metadata": {
    "collapsed": false
   }
  },
  {
   "cell_type": "code",
   "execution_count": 10,
   "outputs": [],
   "source": [
    "def post_process_duration(y_pred):\n",
    "    # Round duration to the nearest multiple of 0.125\n",
    "    y_pred[:] = np.round(y_pred[:] / 0.125) * 0.125\n",
    "\n",
    "    return y_pred"
   ],
   "metadata": {
    "collapsed": false,
    "ExecuteTime": {
     "end_time": "2023-05-10T00:39:10.500787400Z",
     "start_time": "2023-05-10T00:39:10.491786900Z"
    }
   }
  },
  {
   "cell_type": "code",
   "execution_count": 11,
   "outputs": [],
   "source": [
    "def post_process_velocity(y_pred):\n",
    "    # Clip velocity to the range 1-127\n",
    "    y_pred[:] = np.clip(np.round(y_pred[:]), 1, 127)\n",
    "\n",
    "    return y_pred"
   ],
   "metadata": {
    "collapsed": false,
    "ExecuteTime": {
     "end_time": "2023-05-10T00:39:11.100110900Z",
     "start_time": "2023-05-10T00:39:11.086112100Z"
    }
   }
  },
  {
   "cell_type": "code",
   "execution_count": 12,
   "outputs": [],
   "source": [
    "def preprocess_input(x):\n",
    "    # Convert chords to binary\n",
    "    x = np.array([[''.join([bin(x)[2:].zfill(6) for x in row]) for row in level] for level in (x + 1)])\n",
    "\n",
    "    return x"
   ],
   "metadata": {
    "collapsed": false,
    "ExecuteTime": {
     "end_time": "2023-05-10T00:39:11.678205Z",
     "start_time": "2023-05-10T00:39:11.654183Z"
    }
   }
  },
  {
   "cell_type": "code",
   "execution_count": 13,
   "outputs": [],
   "source": [
    "POPULATION = 100\n",
    "NOTES_PER = 100"
   ],
   "metadata": {
    "collapsed": false,
    "ExecuteTime": {
     "end_time": "2023-05-10T00:39:12.668320100Z",
     "start_time": "2023-05-10T00:39:12.644319Z"
    }
   }
  },
  {
   "cell_type": "code",
   "execution_count": 14,
   "outputs": [
    {
     "data": {
      "text/plain": "array([[[ 3,  3,  0,  0, -1, -1],\n        [-1, -1,  2,  5,  3,  3],\n        [-1,  3, -1, -1, -1,  5],\n        ...,\n        [-1, -1, -1, -1, -1,  1],\n        [-1,  5,  3, -1, -1, -1],\n        [-1, -1, -1, -1,  3, -1]],\n\n       [[-1, -1,  2, -1,  3, -1],\n        [-1,  3, -1,  5,  1,  1],\n        [-1,  3,  5, -1,  5, -1],\n        ...,\n        [-1, -1, -1,  4, -1,  5],\n        [ 5,  3,  3,  5, -1, -1],\n        [ 3,  3, -1, -1, -1, -1]],\n\n       [[-1, -1, -1, -1,  0, -1],\n        [ 1,  2,  5,  4, -1, -1],\n        [-1,  2, -1, -1,  6, -1],\n        ...,\n        [-1, -1, -1, -1,  3, -1],\n        [-1,  3,  5,  2, -1,  5],\n        [-1, -1, -1, -1, -1,  7]],\n\n       ...,\n\n       [[ 3,  0, -1,  0,  1, -1],\n        [ 5, -1, -1,  5, -1,  5],\n        [ 3,  3, -1, -1,  3, -1],\n        ...,\n        [-1,  3,  5,  5,  3, -1],\n        [-1,  2, -1, -1, -1, -1],\n        [-1, -1,  5,  5, -1, -1]],\n\n       [[-1, -1, -1,  0, -1, -1],\n        [ 1, -1, -1, -1, -1, -1],\n        [-1,  5,  3,  4,  3, -1],\n        ...,\n        [ 3, -1, -1, -1, -1, -1],\n        [-1, -1, -1, -1, -1,  5],\n        [-1,  3, -1, -1, -1, -1]],\n\n       [[-1, -1, -1, -1,  1,  3],\n        [ 3,  5, -1,  2, -1,  3],\n        [-1, -1, -1, -1,  5, -1],\n        ...,\n        [-1, -1, -1, -1,  3, -1],\n        [ 3, -1, -1, -1,  6, -1],\n        [-1, -1, -1, -1, -1,  5]]])"
     },
     "execution_count": 14,
     "metadata": {},
     "output_type": "execute_result"
    }
   ],
   "source": [
    "rand_chords_x = np.array([[generate_chord(position=i % 12, note_count=(random.randrange(1, 5)), include_position=True) for i in range(NOTES_PER)] for _ in range(POPULATION)])\n",
    "rand_chords_x"
   ],
   "metadata": {
    "collapsed": false,
    "ExecuteTime": {
     "end_time": "2023-05-10T00:39:13.312266700Z",
     "start_time": "2023-05-10T00:39:13.232265200Z"
    }
   }
  },
  {
   "cell_type": "code",
   "execution_count": 15,
   "outputs": [
    {
     "data": {
      "text/plain": "array([['000100000100000001000001000000000000',\n        '000000000000000011000110000100000100',\n        '000000000100000000000000000000000110', ...,\n        '000000000000000000000000000000000010',\n        '000000000110000100000000000000000000',\n        '000000000000000000000000000100000000'],\n       ['000000000000000011000000000100000000',\n        '000000000100000000000110000010000010',\n        '000000000100000110000000000110000000', ...,\n        '000000000000000000000101000000000110',\n        '000110000100000100000110000000000000',\n        '000100000100000000000000000000000000'],\n       ['000000000000000000000000000001000000',\n        '000010000011000110000101000000000000',\n        '000000000011000000000000000111000000', ...,\n        '000000000000000000000000000100000000',\n        '000000000100000110000011000000000110',\n        '000000000000000000000000000000001000'],\n       ...,\n       ['000100000001000000000001000010000000',\n        '000110000000000000000110000000000110',\n        '000100000100000000000000000100000000', ...,\n        '000000000100000110000110000100000000',\n        '000000000011000000000000000000000000',\n        '000000000000000110000110000000000000'],\n       ['000000000000000000000001000000000000',\n        '000010000000000000000000000000000000',\n        '000000000110000100000101000100000000', ...,\n        '000100000000000000000000000000000000',\n        '000000000000000000000000000000000110',\n        '000000000100000000000000000000000000'],\n       ['000000000000000000000000000010000100',\n        '000100000110000000000011000000000100',\n        '000000000000000000000000000110000000', ...,\n        '000000000000000000000000000100000000',\n        '000100000000000000000000000111000000',\n        '000000000000000000000000000000000110']], dtype='<U36')"
     },
     "execution_count": 15,
     "metadata": {},
     "output_type": "execute_result"
    }
   ],
   "source": [
    "rand_chords_x_flat = preprocess_input(rand_chords_x)\n",
    "rand_chords_x_flat"
   ],
   "metadata": {
    "collapsed": false,
    "ExecuteTime": {
     "end_time": "2023-05-10T00:39:14.058321500Z",
     "start_time": "2023-05-10T00:39:14.022315800Z"
    }
   }
  },
  {
   "cell_type": "code",
   "execution_count": 16,
   "outputs": [
    {
     "data": {
      "text/plain": "array([[0.125, 0.125, 0.   , ..., 1.   , 0.125, 0.25 ],\n       [0.25 , 0.375, 0.5  , ..., 0.875, 0.   , 0.5  ],\n       [0.5  , 0.125, 0.375, ..., 0.   , 0.125, 0.875],\n       ...,\n       [1.   , 0.125, 0.75 , ..., 0.25 , 0.375, 0.   ],\n       [0.5  , 0.875, 0.125, ..., 0.125, 0.125, 0.5  ],\n       [0.75 , 0.625, 1.   , ..., 0.625, 0.75 , 0.875]])"
     },
     "execution_count": 16,
     "metadata": {},
     "output_type": "execute_result"
    }
   ],
   "source": [
    "rand_durations = np.array(\n",
    "    [[round(random.random() / 0.125) * 0.125 for _ in range(NOTES_PER)] for _ in range(POPULATION)])\n",
    "rand_durations"
   ],
   "metadata": {
    "collapsed": false,
    "ExecuteTime": {
     "end_time": "2023-05-10T00:39:14.877508100Z",
     "start_time": "2023-05-10T00:39:14.853476700Z"
    }
   }
  },
  {
   "cell_type": "code",
   "execution_count": 17,
   "outputs": [
    {
     "data": {
      "text/plain": "array([[ 53,  78,  84, ...,  70, 102,  62],\n       [ 74,  79,  88, ...,  90,  52, 102],\n       [ 92, 117,  78, ..., 104,  75,  56],\n       ...,\n       [107, 115, 122, ...,  65,  89, 120],\n       [ 83,  81,  83, ...,  96, 103, 117],\n       [112,  99,  77, ...,  89,  80, 108]])"
     },
     "execution_count": 17,
     "metadata": {},
     "output_type": "execute_result"
    }
   ],
   "source": [
    "rand_velocities = np.array([[random.randrange(50, 127) for _ in range(NOTES_PER)] for _ in range(POPULATION)])\n",
    "\n",
    "rand_velocities"
   ],
   "metadata": {
    "collapsed": false,
    "ExecuteTime": {
     "end_time": "2023-05-10T00:39:15.646719Z",
     "start_time": "2023-05-10T00:39:15.632718500Z"
    }
   }
  },
  {
   "cell_type": "code",
   "execution_count": 18,
   "outputs": [
    {
     "data": {
      "text/plain": "array([['000100000001000001000000000000000000',\n        '000110000110000110000000000000000110',\n        '000000000000000000000000000000000110', ...,\n        '000110000011000000000000000000000000',\n        '000000000110000000000000000111000000',\n        '000100000000000110000000000111001000'],\n       ['000000000000000000000011000001000100',\n        '000100000110000000000000000100000100',\n        '000000000000000000000110000000000000', ...,\n        '000000000000000000000110000010000000',\n        '000000000000000000000110000000000000',\n        '001000000100000110000000000000000000'],\n       ['000000000100000000000011000000000000',\n        '000000000000000110000000000010000010',\n        '000110000110000100000101000000000000', ...,\n        '000100000011000110000000000000000000',\n        '000000000100000000000000000000000000',\n        '000000000100000110000000000110000000'],\n       ...,\n       ['000000000001000000000000000100000000',\n        '000000000000000000000011000000000000',\n        '000100000011000000000011000000000100', ...,\n        '000100000000000000000000000000000000',\n        '000000000000000000000110000100000110',\n        '001000000000000000001000000100001000'],\n       ['000001000100000100000000000000000100',\n        '000000000000000011000000000000000000',\n        '000100000000000011000011000000000100', ...,\n        '000000000100000000000000000100000000',\n        '000000000100000100000101000000000000',\n        '000000000110000000000110000100000110'],\n       ['000000000000000001000001000000000000',\n        '000000000011000000000000000000000110',\n        '000000000011000100000000000000000000', ...,\n        '000000000100000000000000000000000000',\n        '000000000000000000000000000111000000',\n        '001000000000000110000101000110000000']], dtype='<U36')"
     },
     "execution_count": 18,
     "metadata": {},
     "output_type": "execute_result"
    }
   ],
   "source": [
    "dur_regr = RandomForestRegressor(n_estimators=100)\n",
    "dur_regr.fit(rand_chords_x_flat, rand_durations)\n",
    "vel_regr = RandomForestRegressor(n_estimators=100)\n",
    "vel_regr.fit(rand_chords_x_flat, rand_velocities)\n",
    "\n",
    "X_test = np.array([[generate_chord(position=i % 12, note_count=(random.randrange(1, 5)), include_position=True) for i in\n",
    "                    range(NOTES_PER)] for _ in range(POPULATION)])\n",
    "preprocess_input(X_test)"
   ],
   "metadata": {
    "collapsed": false,
    "ExecuteTime": {
     "end_time": "2023-05-10T00:39:21.580952Z",
     "start_time": "2023-05-10T00:39:16.139314300Z"
    }
   }
  },
  {
   "cell_type": "code",
   "execution_count": 19,
   "outputs": [
    {
     "data": {
      "text/plain": "array([[0.375, 0.5  , 0.5  , ..., 0.5  , 0.5  , 0.5  ],\n       [0.625, 0.5  , 0.5  , ..., 0.5  , 0.5  , 0.5  ],\n       [0.5  , 0.5  , 0.625, ..., 0.625, 0.5  , 0.5  ],\n       ...,\n       [0.375, 0.5  , 0.625, ..., 0.375, 0.5  , 0.375],\n       [0.5  , 0.5  , 0.5  , ..., 0.625, 0.5  , 0.375],\n       [0.625, 0.5  , 0.5  , ..., 0.375, 0.5  , 0.5  ]])"
     },
     "execution_count": 19,
     "metadata": {},
     "output_type": "execute_result"
    }
   ],
   "source": [
    "post_process_duration(dur_regr.predict(preprocess_input(X_test)))"
   ],
   "metadata": {
    "collapsed": false,
    "ExecuteTime": {
     "end_time": "2023-05-10T00:39:21.643978300Z",
     "start_time": "2023-05-10T00:39:21.582953500Z"
    }
   }
  },
  {
   "cell_type": "code",
   "execution_count": 20,
   "outputs": [
    {
     "data": {
      "text/plain": "array([[88., 87., 87., ..., 84., 95., 86.],\n       [92., 88., 83., ..., 84., 92., 90.],\n       [84., 88., 87., ..., 87., 93., 83.],\n       ...,\n       [91., 82., 87., ..., 88., 87., 91.],\n       [88., 94., 86., ..., 83., 88., 85.],\n       [89., 89., 82., ..., 85., 94., 87.]])"
     },
     "execution_count": 20,
     "metadata": {},
     "output_type": "execute_result"
    }
   ],
   "source": [
    "post_process_velocity(vel_regr.predict(preprocess_input(X_test)))"
   ],
   "metadata": {
    "collapsed": false,
    "ExecuteTime": {
     "end_time": "2023-05-10T00:39:21.691979100Z",
     "start_time": "2023-05-10T00:39:21.645978600Z"
    }
   }
  }
 ],
 "metadata": {
  "kernelspec": {
   "display_name": "Python 3",
   "language": "python",
   "name": "python3"
  },
  "language_info": {
   "codemirror_mode": {
    "name": "ipython",
    "version": 2
   },
   "file_extension": ".py",
   "mimetype": "text/x-python",
   "name": "python",
   "nbconvert_exporter": "python",
   "pygments_lexer": "ipython2",
   "version": "2.7.6"
  }
 },
 "nbformat": 4,
 "nbformat_minor": 0
}
